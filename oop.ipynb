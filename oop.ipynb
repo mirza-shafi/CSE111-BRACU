{
 "cells": [
  {
   "cell_type": "code",
   "execution_count": 2,
   "metadata": {},
   "outputs": [
    {
     "name": "stdout",
     "output_type": "stream",
     "text": [
      "a student profile is created\n"
     ]
    }
   ],
   "source": [
    "#1\n",
    "class Student:\n",
    "  def __init__(self):\n",
    "    print('a student profile is created')\n",
    "s1 = Student()"
   ]
  },
  {
   "cell_type": "code",
   "execution_count": 23,
   "metadata": {},
   "outputs": [
    {
     "name": "stdout",
     "output_type": "stream",
     "text": [
      "kapal\n"
     ]
    }
   ],
   "source": [
    "#2\n",
    "class Student:\n",
    "  def __init__(self, name, ID):  #blue print\n",
    "    self.name = name\n",
    "    self.id = ID\n",
    "    #print('a student profile is created')\n",
    "s1 = Student('boob',11)\n",
    "s2 = Student('caro', 34)\n",
    "s1.name = 'kapal'\n",
    "print(s1.name)"
   ]
  },
  {
   "cell_type": "code",
   "execution_count": 12,
   "metadata": {},
   "outputs": [
    {
     "name": "stdout",
     "output_type": "stream",
     "text": [
      "Name: boob ID: 11\n",
      "Name: caro ID: 23\n"
     ]
    }
   ],
   "source": [
    "#3 method #like nested function\n",
    "class Student:\n",
    "   def __init__(self, name, ID): #constructor\n",
    "     self.name = name     #instance variable\n",
    "     self.id = ID\n",
    "   def details(self):   #instance method\n",
    "    print('Name:', self.name,\"ID:\",self.id)\n",
    "\n",
    "s1 = Student('boob',11)    #object# user defind object\n",
    "x  = 10 # system defind object\n",
    "s2 = Student('caro', 34)\n",
    "s2.id = 23\n",
    "s1.details()\n",
    "s2.details()"
   ]
  },
  {
   "cell_type": "code",
   "execution_count": null,
   "metadata": {},
   "outputs": [],
   "source": [
    "#4\n",
    "#phone that is an object \n",
    "#design that is an class\n",
    "#constructor\n",
    "#variable  = classname()"
   ]
  },
  {
   "cell_type": "code",
   "execution_count": 16,
   "metadata": {},
   "outputs": [
    {
     "name": "stdout",
     "output_type": "stream",
     "text": [
      "4 windows 2 doors\n",
      "10 windows 2 doors\n"
     ]
    }
   ],
   "source": [
    "#5\n",
    "class House:\n",
    "    def __init__(self):\n",
    "        self.window  = 4\n",
    "        self.door = 2\n",
    "    def view(self):\n",
    "        print(self.window,'windows', self.door, 'doors')\n",
    "\n",
    "h1 = House()\n",
    "h2 = House()\n",
    "h1.window = 10\n",
    "h2.view()\n",
    "h1.view()"
   ]
  },
  {
   "cell_type": "code",
   "execution_count": 1,
   "metadata": {},
   "outputs": [
    {
     "name": "stdout",
     "output_type": "stream",
     "text": [
      "Reduced abult ticket 2: 25$\n"
     ]
    }
   ],
   "source": [
    "age = int(input())\n",
    "sal = int(input())\n",
    "if age<0:\n",
    "    print('Invalid age')\n",
    "elif 0<age<=7:\n",
    "    print('Child ticket : 10$')\n",
    "elif 8<=age<=17:\n",
    "    print('Teenager ticket: 15$')\n",
    "elif age>=18:\n",
    "    if sal<0:\n",
    "        print('Invild salary')\n",
    "    elif 0<sal<=1000:\n",
    "        print('Reduced adult ticket 1: 20$')\n",
    "    elif 1001<=sal<=2000:\n",
    "        print('Reduced abult ticket 2: 25$')\n",
    "    elif sal>2000:\n",
    "        print('Adult ticket: 30$')\n"
   ]
  },
  {
   "cell_type": "code",
   "execution_count": 3,
   "metadata": {},
   "outputs": [
    {
     "name": "stdout",
     "output_type": "stream",
     "text": [
      "The input text contains 6 uppercase characters.\n"
     ]
    }
   ],
   "source": [
    "user = input()\n",
    "up = 0\n",
    "for i in user:\n",
    "    if 'A' <=i<='Z':\n",
    "        up+=1\n",
    "print('The input text contains',up,'uppercase characters.')"
   ]
  },
  {
   "cell_type": "code",
   "execution_count": 6,
   "metadata": {},
   "outputs": [
    {
     "name": "stdout",
     "output_type": "stream",
     "text": [
      "2nd value in range 5\n",
      "Last value in range 17\n",
      "odd_counter 3\n",
      "even_sum 24\n"
     ]
    }
   ],
   "source": [
    "s = int(input())\n",
    "stop = int(input())\n",
    "step  = int(input())\n",
    "odd_counter = 0\n",
    "even_sum = 0\n",
    "for i in range(s,stop,step):\n",
    "    if i%2!=0:\n",
    "        odd_counter+=1\n",
    "    else:\n",
    "        even_sum+=i\n",
    "print('2nd value in range',s+step)\n",
    "print('Last value in range',stop-step)\n",
    "print('odd_counter',odd_counter)\n",
    "print('even_sum',even_sum)"
   ]
  },
  {
   "cell_type": "code",
   "execution_count": 2,
   "metadata": {},
   "outputs": [
    {
     "name": "stdout",
     "output_type": "stream",
     "text": [
      "The model year of the : Bmw is 2016\n",
      "It is a 4 wheel car\n",
      "The model year of the : audi is 2018\n",
      "It is a 4 wheel car\n"
     ]
    }
   ],
   "source": [
    "#5\n",
    "class car:\n",
    "    def __init__(self,name,model):\n",
    "        self.name  = name\n",
    "        self.model_year = model\n",
    "        self.wheel = 4\n",
    "    def view(self):\n",
    "        print('The model year of the :', self.name ,'is', self.model_year)\n",
    "        print('It is a',self.wheel ,'wheel car')\n",
    "car1 = car('Bmw',2016)\n",
    "car1.view()\n",
    "car2 = car('audi',2018)\n",
    "car2.view()"
   ]
  },
  {
   "cell_type": "code",
   "execution_count": 1,
   "metadata": {},
   "outputs": [
    {
     "name": "stdout",
     "output_type": "stream",
     "text": [
      "['__class__', '__delattr__', '__dict__', '__dir__', '__doc__', '__eq__', '__format__', '__ge__', '__getattribute__', '__gt__', '__hash__', '__init__', '__init_subclass__', '__le__', '__lt__', '__module__', '__ne__', '__new__', '__reduce__', '__reduce_ex__', '__repr__', '__setattr__', '__sizeof__', '__str__', '__subclasshook__', '__weakref__', 'color', 'name', 'poke', 'update_color']\n"
     ]
    }
   ],
   "source": [
    "#6      #__dict__      #dir()\n",
    "class Dog:\n",
    "    def __init__(self,name,color):\n",
    "        self.name = name\n",
    "        self.color =  color\n",
    "    def update_color(self, color):\n",
    "        self.color  = color\n",
    "    def poke(self):\n",
    "        print(self.color,self.name,'is smiling')\n",
    "\n",
    "d1 = Dog('rover','Brown')\n",
    "d2 = Dog('tomy','white')\n",
    "d1.update_color(\"Black\")\n",
    "#d1.poke()\n",
    "#print(d1.__dict__)\n",
    "print(dir(d1))"
   ]
  },
  {
   "cell_type": "code",
   "execution_count": 10,
   "metadata": {},
   "outputs": [
    {
     "name": "stdout",
     "output_type": "stream",
     "text": [
      "book name: opekkha \n",
      "Author: humayun ahmed \n",
      "price: 0 taka\n",
      "book name: opekkha \n",
      "Author: humayun ahmed \n",
      "price: 225 taka\n"
     ]
    }
   ],
   "source": [
    "#7\n",
    "\n",
    "\n",
    "class Book:\n",
    "    def __init__(self,name,author):\n",
    "        self.name = name\n",
    "        self.author = author\n",
    "        self.price = 0\n",
    "    def set_price(self,price):\n",
    "        self.price = price\n",
    "\n",
    "    def get_price(self):\n",
    "        return self.price\n",
    "\n",
    "    def details(self):\n",
    "        print('book name:',self.name,'\\nAuthor:',self.author,'\\nprice:',self.price,'taka')\n",
    "b1 = Book('opekkha','humayun ahmed')\n",
    "b1.details()\n",
    "b1.set_price(225)\n",
    "b1.details()"
   ]
  },
  {
   "cell_type": "code",
   "execution_count": 11,
   "metadata": {},
   "outputs": [
    {
     "ename": "ModuleNotFoundError",
     "evalue": "No module named 'CSE111'",
     "output_type": "error",
     "traceback": [
      "\u001b[0;31m---------------------------------------------------------------------------\u001b[0m",
      "\u001b[0;31mModuleNotFoundError\u001b[0m                       Traceback (most recent call last)",
      "\u001b[1;32m/Users/mirzashafi/VS-code/CSE111/oop.ipynb Cell 12\u001b[0m in \u001b[0;36m<cell line: 1>\u001b[0;34m()\u001b[0m\n\u001b[0;32m----> <a href='vscode-notebook-cell:/Users/mirzashafi/VS-code/CSE111/oop.ipynb#X15sZmlsZQ%3D%3D?line=0'>1</a>\u001b[0m \u001b[39mfrom\u001b[39;00m \u001b[39mCSE111\u001b[39;00m \u001b[39mimport\u001b[39;00m book\n\u001b[1;32m      <a href='vscode-notebook-cell:/Users/mirzashafi/VS-code/CSE111/oop.ipynb#X15sZmlsZQ%3D%3D?line=1'>2</a>\u001b[0m b1 \u001b[39m=\u001b[39m book\u001b[39m.\u001b[39mBook(\u001b[39m'\u001b[39m\u001b[39ma\u001b[39m\u001b[39m'\u001b[39m,\u001b[39m'\u001b[39m\u001b[39mb\u001b[39m\u001b[39m'\u001b[39m)\n\u001b[1;32m      <a href='vscode-notebook-cell:/Users/mirzashafi/VS-code/CSE111/oop.ipynb#X15sZmlsZQ%3D%3D?line=2'>3</a>\u001b[0m b1\u001b[39m.\u001b[39mdetails()\n",
      "\u001b[0;31mModuleNotFoundError\u001b[0m: No module named 'CSE111'"
     ]
    }
   ],
   "source": [
    "from VS-code import book\n",
    "b1 = book.Book('a','b')\n",
    "b1.details()"
   ]
  },
  {
   "cell_type": "code",
   "execution_count": 6,
   "metadata": {},
   "outputs": [
    {
     "ename": "TypeError",
     "evalue": "bat.__init__() missing 1 required positional argument: 'h'",
     "output_type": "error",
     "traceback": [
      "\u001b[0;31m---------------------------------------------------------------------------\u001b[0m",
      "\u001b[0;31mTypeError\u001b[0m                                 Traceback (most recent call last)",
      "\u001b[1;32m/Users/mirzashafi/VS-code/CSE111/oop.ipynb Cell 13\u001b[0m in \u001b[0;36m<cell line: 8>\u001b[0;34m()\u001b[0m\n\u001b[1;32m      <a href='vscode-notebook-cell:/Users/mirzashafi/VS-code/CSE111/oop.ipynb#X15sZmlsZQ%3D%3D?line=5'>6</a>\u001b[0m     \u001b[39mdef\u001b[39;00m \u001b[39mdetails\u001b[39m(\u001b[39mself\u001b[39m):\n\u001b[1;32m      <a href='vscode-notebook-cell:/Users/mirzashafi/VS-code/CSE111/oop.ipynb#X15sZmlsZQ%3D%3D?line=6'>7</a>\u001b[0m         \u001b[39mprint\u001b[39m(\u001b[39mself\u001b[39m\u001b[39m.\u001b[39mname,\u001b[39mself\u001b[39m\u001b[39m.\u001b[39mrun,\u001b[39mself\u001b[39m\u001b[39m.\u001b[39mh)\n\u001b[0;32m----> <a href='vscode-notebook-cell:/Users/mirzashafi/VS-code/CSE111/oop.ipynb#X15sZmlsZQ%3D%3D?line=7'>8</a>\u001b[0m b1 \u001b[39m=\u001b[39m  bat(\u001b[39m12\u001b[39;49m,\u001b[39m34\u001b[39;49m)\n\u001b[1;32m      <a href='vscode-notebook-cell:/Users/mirzashafi/VS-code/CSE111/oop.ipynb#X15sZmlsZQ%3D%3D?line=8'>9</a>\u001b[0m b1\u001b[39m.\u001b[39mdetails()\n\u001b[1;32m     <a href='vscode-notebook-cell:/Users/mirzashafi/VS-code/CSE111/oop.ipynb#X15sZmlsZQ%3D%3D?line=9'>10</a>\u001b[0m b1 \u001b[39m=\u001b[39m bat(\u001b[39m'\u001b[39m\u001b[39mshakib\u001b[39m\u001b[39m'\u001b[39m,\u001b[39m100\u001b[39m,\u001b[39m34\u001b[39m)\n",
      "\u001b[0;31mTypeError\u001b[0m: bat.__init__() missing 1 required positional argument: 'h'"
     ]
    }
   ],
   "source": [
    "class bat:\n",
    "    def __init__(self,name,run,h):\n",
    "        self.name = 'unknown'\n",
    "        self.run = run\n",
    "        self.h = h\n",
    "    def details(self):\n",
    "        print(self.name,self.run,self.h)\n",
    "b1 =  bat(12,34)\n",
    "b1.details()\n",
    "b1 = bat('shakib',100,34)\n",
    "b1.details()"
   ]
  },
  {
   "cell_type": "code",
   "execution_count": 9,
   "metadata": {},
   "outputs": [
    {
     "name": "stdout",
     "output_type": "stream",
     "text": [
      "You lost!\n"
     ]
    }
   ],
   "source": [
    "a = int(input('Enter number to guess:'))\n",
    "b = input('Enter number:')\n",
    "if b==\"exit\":\n",
    "    print('You lost!')\n",
    "elif a<int(b):\n",
    "    print('The number is smaller')\n",
    "elif a>int(b):\n",
    "    print('Your number is bigger')\n",
    "elif a == int(b):\n",
    "    print('Congratulations!')\n",
    "\n"
   ]
  },
  {
   "cell_type": "code",
   "execution_count": 13,
   "metadata": {},
   "outputs": [
    {
     "name": "stdout",
     "output_type": "stream",
     "text": [
      "The number is smaller\n",
      "Your number is bigger\n",
      "You lost!\n"
     ]
    }
   ],
   "source": [
    "a = int(input('Enter number to guess:'))\n",
    "while True:\n",
    "    b  =input('Enter number:')\n",
    "    if b==\"exit\":\n",
    "       print('You lost!')\n",
    "       break\n",
    "    elif a>int(b):\n",
    "       print('Your number is smaller')\n",
    "    elif a<int(b):\n",
    "       print('Your number is bigger')\n",
    "    elif a == int(b):\n",
    "       print('Congratulations!')\n"
   ]
  },
  {
   "cell_type": "code",
   "execution_count": 3,
   "metadata": {},
   "outputs": [
    {
     "name": "stdout",
     "output_type": "stream",
     "text": [
      "book name: Opekka \n",
      "Author: Humayun Ahmed \n",
      "price: 0 taka\n",
      "book name: Opekka \n",
      "Author: Humayun Ahmed \n",
      "price: 255 taka\n"
     ]
    }
   ],
   "source": [
    "class Book:\n",
    "    def __init__(self,name,author):\n",
    "        self.name = name\n",
    "        self.author = author\n",
    "        self.price = 0\n",
    "    def set_price(self,price):\n",
    "        self.price = price\n",
    "\n",
    "    def get_price(self):\n",
    "        return self.price\n",
    "\n",
    "    def details(self):\n",
    "        print('book name:',self.name,'\\nAuthor:',self.author,'\\nprice:',self.price,'taka')\n",
    "b1 = Book('Opekka','Humayun Ahmed')\n",
    "b1.details()\n",
    "b1.set_price(255)\n",
    "b1.details()"
   ]
  },
  {
   "cell_type": "code",
   "execution_count": 2,
   "metadata": {},
   "outputs": [
    {
     "name": "stdout",
     "output_type": "stream",
     "text": [
      "White cat is jumping\n",
      "Brown cat is sitting\n",
      "They are different\n"
     ]
    }
   ],
   "source": [
    "class Cat:\n",
    "    def __init__(self,color,action):\n",
    "        self.color = color\n",
    "        self.action =  action\n",
    "    def view(self):\n",
    "        print(self.color,'cat is',self.action)\n",
    "    def  compare(self,c):\n",
    "        if self.action ==c.action:\n",
    "            print('Both cats are',self.action)\n",
    "        else:\n",
    "            print('They are different')\n",
    "\n",
    "\n",
    "c1 = Cat('White','jumping')\n",
    "c2 = Cat('Brown','sitting')\n",
    "c1.view()\n",
    "c2.view()\n",
    "c1.compare(c2)"
   ]
  },
  {
   "cell_type": "code",
   "execution_count": 5,
   "metadata": {},
   "outputs": [
    {
     "name": "stdout",
     "output_type": "stream",
     "text": [
      "Method inside: 55\n",
      "Method inside: ['Green', 'f', 'd', 'e']\n",
      "Method outside 50\n",
      "method outside ['Green', 'f', 'd', 'e']\n"
     ]
    }
   ],
   "source": [
    "class cat:\n",
    "    def __init__(self,color,action):\n",
    "        self.color = color\n",
    "        self.action = action\n",
    "    def view(self,num,clr):\n",
    "        num = num+5\n",
    "        clr1  = clr\n",
    "        clr[0] = 'Green'\n",
    "        print('Method inside:',num)\n",
    "        print('Method inside:',clr)\n",
    "\n",
    "colors = ['d','f','d','e']\n",
    "c1 = cat('white','jumping')\n",
    "x = 50\n",
    "c1.view(x,colors)\n",
    "print('Method outside',x)\n",
    "print('method outside',colors)\n",
    "#pass by refarance"
   ]
  },
  {
   "cell_type": "code",
   "execution_count": 30,
   "metadata": {},
   "outputs": [
    {
     "name": "stdout",
     "output_type": "stream",
     "text": [
      "60\n",
      "12\n",
      "7\n"
     ]
    }
   ],
   "source": [
    "#12\n",
    "class mycal:\n",
    "    def product(self,*num):\n",
    "        m = 1\n",
    "        for i in num:\n",
    "            m = (m * int(i))\n",
    "            #print(i)\n",
    "        print(m)\n",
    "        #print(num)\n",
    "\n",
    "c1 = mycal()\n",
    "c1.product(3,4,5)\n",
    "c1.product(3,4)\n",
    "c1.product(7)\n"
   ]
  },
  {
   "cell_type": "code",
   "execution_count": 32,
   "metadata": {},
   "outputs": [
    {
     "ename": "ModuleNotFoundError",
     "evalue": "No module named 'multipledispatch'",
     "output_type": "error",
     "traceback": [
      "\u001b[0;31m---------------------------------------------------------------------------\u001b[0m",
      "\u001b[0;31mModuleNotFoundError\u001b[0m                       Traceback (most recent call last)",
      "\u001b[1;32m/Users/mirzashafi/VS-code/CSE111/oop.ipynb Cell 20\u001b[0m in \u001b[0;36m<cell line: 2>\u001b[0;34m()\u001b[0m\n\u001b[1;32m      <a href='vscode-notebook-cell:/Users/mirzashafi/VS-code/CSE111/oop.ipynb#X25sZmlsZQ%3D%3D?line=0'>1</a>\u001b[0m \u001b[39m#13\u001b[39;00m\n\u001b[0;32m----> <a href='vscode-notebook-cell:/Users/mirzashafi/VS-code/CSE111/oop.ipynb#X25sZmlsZQ%3D%3D?line=1'>2</a>\u001b[0m \u001b[39mfrom\u001b[39;00m \u001b[39mmultipledispatch\u001b[39;00m \u001b[39mimport\u001b[39;00m dispatch\n\u001b[1;32m      <a href='vscode-notebook-cell:/Users/mirzashafi/VS-code/CSE111/oop.ipynb#X25sZmlsZQ%3D%3D?line=2'>3</a>\u001b[0m \u001b[39mclass\u001b[39;00m \u001b[39mmycal\u001b[39;00m:\n\u001b[1;32m      <a href='vscode-notebook-cell:/Users/mirzashafi/VS-code/CSE111/oop.ipynb#X25sZmlsZQ%3D%3D?line=3'>4</a>\u001b[0m     \u001b[39m@dispatch\u001b[39m(\u001b[39mint\u001b[39m,\u001b[39mint\u001b[39m)\n\u001b[1;32m      <a href='vscode-notebook-cell:/Users/mirzashafi/VS-code/CSE111/oop.ipynb#X25sZmlsZQ%3D%3D?line=4'>5</a>\u001b[0m     \u001b[39mdef\u001b[39;00m \u001b[39mproduct\u001b[39m(\u001b[39mself\u001b[39m,a,b):\n",
      "\u001b[0;31mModuleNotFoundError\u001b[0m: No module named 'multipledispatch'"
     ]
    }
   ],
   "source": [
    "#13\n",
    "from multipledispatch import dispatch\n",
    "class mycal:\n",
    "    @dispatch(int,int)\n",
    "    def product(self,a,b):\n",
    "        print(a*b)\n",
    "\n",
    "c1 = mycal()\n",
    "c1.product(1,2)"
   ]
  },
  {
   "cell_type": "code",
   "execution_count": 7,
   "metadata": {
    "tags": []
   },
   "outputs": [
    {
     "name": "stdout",
     "output_type": "stream",
     "text": [
      "<__main__.student object at 0x1053ec280>\n",
      "hello student\n",
      "abcd 4\n",
      "<__main__.student object at 0x1053ec280>\n",
      "<__main__.student object at 0x105012c20>\n",
      "hello student\n",
      "d 4\n",
      "<__main__.student object at 0x105012c20>\n"
     ]
    }
   ],
   "source": [
    "from tkinter import N\n",
    "\n",
    "\n",
    "class student:\n",
    "    def __init__(self,n,i):  # constructor\n",
    "        print(self)\n",
    "        print('hello student')\n",
    "        name =  n  #local variables\n",
    "        id  = i\n",
    "        print(name, i)\n",
    "\n",
    "s1 = student('abcd',4) # this is my instance variable\n",
    "print(s1)\n",
    "s2 = student('d',4)\n",
    "print(s2)"
   ]
  },
  {
   "cell_type": "code",
   "execution_count": 12,
   "metadata": {},
   "outputs": [
    {
     "name": "stdout",
     "output_type": "stream",
     "text": [
      "5 2\n",
      "4 56\n"
     ]
    }
   ],
   "source": [
    "\n",
    "class house:\n",
    "    def __init__(self):\n",
    "        self.window = 4\n",
    "        self.door = 2\n",
    "        \n",
    "    def view(self):\n",
    "        print(self.window,self.door)\n",
    "\n",
    "h1  = house()\n",
    "h2  = house()\n",
    "h1.window = 5\n",
    "h2.door = 56\n",
    "h1.view()\n",
    "h2.view()\n",
    "        "
   ]
  },
  {
   "cell_type": "code",
   "execution_count": 19,
   "metadata": {},
   "outputs": [
    {
     "name": "stdout",
     "output_type": "stream",
     "text": [
      "{'name': 'bmw', 'model': 2016, 'wheel': 4}\n",
      "['__class__', '__delattr__', '__dict__', '__dir__', '__doc__', '__eq__', '__format__', '__ge__', '__getattribute__', '__gt__', '__hash__', '__init__', '__init_subclass__', '__le__', '__lt__', '__module__', '__ne__', '__new__', '__reduce__', '__reduce_ex__', '__repr__', '__setattr__', '__sizeof__', '__str__', '__subclasshook__', '__weakref__', 'model', 'name', 'view', 'wheel']\n",
      "bmw 2016 4\n",
      "b 2022 4\n"
     ]
    }
   ],
   "source": [
    "from pyexpat import model   #__dict__\n",
    "\n",
    "\n",
    "class car:\n",
    "    def __init__(self,name,model):\n",
    "        self.name = name\n",
    "        self.model = model\n",
    "        self.wheel = 4\n",
    "        \n",
    "    def view(self):   #instance method\n",
    "        print(self.name,\n",
    "              self.model,\n",
    "              self.wheel)\n",
    "\n",
    "c1 = car('bmw',2016)\n",
    "c2 = car('b',2022)\n",
    "print(c1.__dict__)\n",
    "print(dir(c1))\n",
    "\n",
    "c1.view()\n",
    "c2.view()"
   ]
  },
  {
   "cell_type": "code",
   "execution_count": 26,
   "metadata": {},
   "outputs": [
    {
     "name": "stdout",
     "output_type": "stream",
     "text": [
      "hum op 0\n",
      "345\n",
      "hum op 345\n"
     ]
    }
   ],
   "source": [
    "class book:\n",
    "    def __init__(self,n,a):\n",
    "        self.n = n\n",
    "        self.a = a\n",
    "        self.price = 0\n",
    "        \n",
    "    def set_price(self,price):\n",
    "        self.price = price\n",
    "    def get(self):\n",
    "        return self.price\n",
    "    def details(self):\n",
    "        print(self.a,self.n,self.price)\n",
    "    \n",
    "b1 = book('op','hum')\n",
    "b1.details()\n",
    "b1.set_price(345)\n",
    "print(b1.get())\n",
    "b1.details()"
   ]
  },
  {
   "cell_type": "code",
   "execution_count": null,
   "metadata": {},
   "outputs": [],
   "source": [
    "class Cat:   #pass by rafarance\n",
    "    def __init__(self,color,action):\n",
    "        self.color = color\n",
    "        self.action =  action\n",
    "    def view(self):\n",
    "        print(self.color,'cat is',self.action)\n",
    "    def  compare(self,c):\n",
    "        if self.action ==c.action:\n",
    "            print('Both cats are',self.action)\n",
    "        else:\n",
    "            print('They are different')\n",
    "\n",
    "\n",
    "c1 = Cat('White','jumping')\n",
    "c2 = Cat('Brown','sitting')\n",
    "c1.view()\n",
    "c2.view()\n",
    "c1.compare(c2)"
   ]
  },
  {
   "cell_type": "code",
   "execution_count": 38,
   "metadata": {},
   "outputs": [
    {
     "name": "stdout",
     "output_type": "stream",
     "text": [
      "8\n",
      "60\n",
      "None\n"
     ]
    }
   ],
   "source": [
    "class cal:\n",
    "    def product(self,n1,n2 = None,n3 = None):\n",
    "        if n1!=None and n2!=None and n3!=None:\n",
    "            print(n1*n2*n3)\n",
    "        elif n1!=None and n2!=None:\n",
    "            print(n1*n2)\n",
    "        elif n1!=None:\n",
    "            print(1*n1)\n",
    "\n",
    "#c1 = cal()\n",
    "c1.product(4,2)\n",
    "c1.product(3,4,5)\n",
    "c1.product(4)"
   ]
  },
  {
   "cell_type": "code",
   "execution_count": 39,
   "metadata": {},
   "outputs": [
    {
     "name": "stdout",
     "output_type": "stream",
     "text": [
      "360\n"
     ]
    }
   ],
   "source": [
    "class cal:\n",
    "    def product(self,*n):\n",
    "        sum = 1\n",
    "        for i in n:\n",
    "            sum*=i\n",
    "        print(sum)\n",
    "c1 = cal()\n",
    "c1.product(3,4,5,6)"
   ]
  },
  {
   "cell_type": "code",
   "execution_count": null,
   "metadata": {},
   "outputs": [],
   "source": [
    "from multipledispatch import dispatch\n",
    "class cal:\n",
    "  @dispatch(int,int)\n",
    "  def product(self,a,b):\n",
    "    print(a*b)\n",
    "  @dispatch(int,int,int)\n",
    "  def product(self,a,b,c):\n",
    "    print(a*b*c)\n",
    "\n",
    "\n",
    "c1 = cal()\n",
    "c1.product(2,3)\n",
    "c1.product(2,3,4)"
   ]
  },
  {
   "cell_type": "code",
   "execution_count": 42,
   "metadata": {},
   "outputs": [],
   "source": [
    "class student:\n",
    "    def __init__(self,name,id):\n",
    "        self.name = name\n",
    "        self.id = id\n",
    "    def __init__(self,name,id,cg):      \n",
    "        self.name = name\n",
    "        self.id = id\n",
    "        self.cg = cg       \n",
    "s1  = student('A',12,2.45)\n",
    "s2 = student('B',23,3.59)\n",
    "\n",
    "        "
   ]
  },
  {
   "cell_type": "code",
   "execution_count": 49,
   "metadata": {},
   "outputs": [
    {
     "name": "stdout",
     "output_type": "stream",
     "text": [
      "hehehehehehhe\n",
      "hehehehehehhe\n",
      "hehehehehehhe\n",
      "hehehehehehhe\n",
      "hehehehehehhe\n"
     ]
    }
   ],
   "source": [
    "class student:\n",
    "    def __init__(self,**info): \n",
    "        if  len(info)==3:\n",
    "            self.name = info['name']\n",
    "            self.id = info['id']  \n",
    "            self.cg = info['cg'] \n",
    "        elif len(info)==2:                         \n",
    "            self.name = info['name']\n",
    "            self.id = info['id']    \n",
    "        elif len(info):\n",
    "            self.name = info['name']  \n",
    "        print('hehehehehehhe')\n",
    "s1  = student(name = 'A',id = 12,cg = 2.45)\n",
    "s2 = student(name = 'B',id = 23,cg = 3.59)\n",
    "s3  =  student(name = 'C',id = 3)\n",
    "s4 = student(name = 'mike')\n",
    "s5 = student()"
   ]
  },
  {
   "cell_type": "code",
   "execution_count": 51,
   "metadata": {},
   "outputs": [
    {
     "name": "stdout",
     "output_type": "stream",
     "text": [
      "18\n"
     ]
    }
   ],
   "source": [
    "class A:\n",
    "    def methodA(self):\n",
    "        x = 1\n",
    "        y = 2\n",
    "        return (x + y)\n",
    "    \n",
    "    \n",
    "obj1 = A()\n",
    "#x = obj1.methodA()\n",
    "y = 7 + 8 + obj1.methodA()\n",
    "print(y)"
   ]
  },
  {
   "cell_type": "code",
   "execution_count": 4,
   "metadata": {},
   "outputs": [
    {
     "name": "stdout",
     "output_type": "stream",
     "text": [
      "14   6   21\n",
      "39   26   86\n",
      "52   36   168\n",
      "225   57   409\n"
     ]
    }
   ],
   "source": [
    "class msgClass:\n",
    "    def __init__(self):\n",
    "       self.content = 0\n",
    "4\n",
    "class Q5:\n",
    "    def __init__(self):\n",
    "       self.sum = 1\n",
    "       self.x = 2\n",
    "       self.y = 3\n",
    "    def methodA(self):\n",
    "       x, y = 1, 1\n",
    "       msg = []\n",
    "       myMsg = msgClass()\n",
    "       myMsg.content = self.x\n",
    "       msg.append(myMsg)\n",
    "       msg[0].content = self.y + myMsg.content\n",
    "       self.y = self.y + self.methodB(msg[0])##\n",
    "       y = self.methodB(msg[0]) + self.y\n",
    "       x = y + self.methodB(msg[0], msg)\n",
    "       self.sum = x + y + msg[0].content\n",
    "       print(x,\" \", y,\" \", self.sum)\n",
    "    def methodB(self, mg1, mg2 = None):\n",
    "        if mg2 == None:\n",
    "            x, y = 5, 6\n",
    "            y = self.sum + mg1.content\n",
    "        \n",
    "            self.y = y + mg1.content\n",
    "            x = self.x + 7 +mg1.content\n",
    "            self.sum = self.sum + x + y\n",
    "            self.x = mg1.content + x +8\n",
    "            print(x, \" \", y,\" \", self.sum)\n",
    "            return y\n",
    "        else:\n",
    "            x =1\n",
    "            self.y += mg2[0].content \n",
    "            mg2[0].content = self.y + mg1.content\n",
    "            x = x + 4 + mg1.content\n",
    "            self.sum += x + self.y\n",
    "            mg1.content = self.sum - mg2[0].content\n",
    "            print(self.x, \" \",self.y,\" \", self.sum)\n",
    "            return self.sum\n",
    "        \n",
    "q = Q5()\n",
    "q.methodA()"
   ]
  },
  {
   "cell_type": "code",
   "execution_count": 9,
   "metadata": {},
   "outputs": [
    {
     "name": "stdout",
     "output_type": "stream",
     "text": [
      "['okk', 'b', 'c']\n",
      "60\n",
      "while cat is jumping\n",
      "no\n"
     ]
    }
   ],
   "source": [
    "class Cat:\n",
    "    def __init__(self,color,action):\n",
    "        self.color = color\n",
    "        self.action = action\n",
    "    def view(self,num,clr):\n",
    "        num+=5\n",
    "        clr1 = clr\n",
    "        clr1[0] = 'okk'\n",
    "        print(clr1)\n",
    "        print(num)\n",
    "        print(self.color,'cat is',self.action)\n",
    "    def compare(self,ct):\n",
    "        if self.action == ct.action:\n",
    "            print('both')\n",
    "        else:\n",
    "            print('no')\n",
    "colors = ['a','b','c'] \n",
    "c1 = Cat('while','jumping')\n",
    "c2 = Cat('brown','sitting')\n",
    "x = 55\n",
    "\n",
    "c1.view(x,colors)\n",
    "c1.compare(c2)\n"
   ]
  },
  {
   "cell_type": "code",
   "execution_count": 6,
   "metadata": {},
   "outputs": [
    {
     "name": "stdout",
     "output_type": "stream",
     "text": [
      "1 0 0\n",
      "-4 1 1\n",
      "2 1 0\n",
      "-3 3 3\n",
      "4 3 0\n",
      "-1 7 7\n",
      "8 7 0\n",
      "3 15 15\n",
      "16 15 0\n",
      "11 31 31\n"
     ]
    }
   ],
   "source": [
    "class Test5:\n",
    "    def __init__(self):\n",
    "      self.sum, self.y = 0, 0\n",
    "    def methodA(self):\n",
    "      x =0\n",
    "      z =0\n",
    "      while (z < 5):\n",
    "        self.y = self.y + self.sum\n",
    "        x = self.y + 1\n",
    "        print(x, self.y, self.sum)\n",
    "        self.sum = self.sum + self.methodB(x, self.y)\n",
    "        z += 1\n",
    "    def methodB(self, m, n):\n",
    "        x = 0\n",
    "        sum = 0\n",
    "        self.y = self.y + m\n",
    "        x = n -4\n",
    "        sum = sum + self.y\n",
    "        print(x, self.y, sum)\n",
    "        return self.sum\n",
    "t5 = Test5()\n",
    "t5.methodA()"
   ]
  },
  {
   "cell_type": "code",
   "execution_count": 8,
   "metadata": {},
   "outputs": [
    {
     "name": "stdout",
     "output_type": "stream",
     "text": [
      "2 4 7\n",
      "7 10 24\n",
      "11 4 39\n",
      "13 16 68\n",
      "17 10 95\n"
     ]
    }
   ],
   "source": [
    "class FinalT6A:\n",
    "    def __init__(self, x, p):\n",
    "       self.temp, self.sum, self.y = 4, 0, 1\n",
    "       self.temp += 1\n",
    "       self.y = self.temp - p\n",
    "       self.sum = self.temp + x\n",
    "       print(x, self.y, self.sum)\n",
    "    def methodA(self):\n",
    "       x =0\n",
    "       y =0\n",
    "       y = y + self.y\n",
    "       x = self.y + 2 + self.temp\n",
    "       self.sum = x + y + self.methodB(self.temp, y)\n",
    "       print(x, y, self.sum)\n",
    "    def methodB(self, temp, n):\n",
    "       x =0\n",
    "       temp += 1\n",
    "       self.y = self.y + temp\n",
    "       x = x +3 + n\n",
    "       self.sum = self.sum + x + self.y\n",
    "       print(x, self.y, self.sum)\n",
    "       return self.sum\n",
    "\n",
    "q1 = FinalT6A(2,1)\n",
    "q1.methodA()\n",
    "q1.methodA()"
   ]
  },
  {
   "cell_type": "code",
   "execution_count": 9,
   "metadata": {},
   "outputs": [
    {
     "name": "stdout",
     "output_type": "stream",
     "text": [
      "3   5   8\n",
      "10   5   20\n",
      "4   10   34\n",
      "17   10   38\n",
      "3   15   56\n",
      "10   5   30\n",
      "4   30   64\n",
      "27   20   78\n",
      "3   35   116\n",
      "10   5   50\n",
      "4   70   124\n",
      "47   40   158\n"
     ]
    }
   ],
   "source": [
    "#task-17\n",
    "class Test5:\n",
    "    def __init__(self):\n",
    "      self.sum = 0\n",
    "      self.y = 0\n",
    "    def methodA(self):\n",
    "      x=y=k=0\n",
    "      msg = [5]\n",
    "      while (k < 2):\n",
    "        y += msg[0]\n",
    "        x = y + self.methodB(msg, k)\n",
    "        self.sum = x + y + msg[0]\n",
    "        print(x ,\" \" , y, \" \" , self.sum)\n",
    "        k+=1\n",
    "    def methodB(self, mg2, mg1):\n",
    "        x =0\n",
    "        self.y += mg2[0]\n",
    "        x = x + 3 + mg1\n",
    "        self.sum += x + self.y\n",
    "        mg2[0] = self.y + mg1\n",
    "        mg1 += x + 2\n",
    "        print(x , \" \" ,self.y, \" \" , self.sum)\n",
    "        return mg1\n",
    "t1 = Test5()\n",
    "t1.methodA()\n",
    "t1.methodA()\n",
    "t1.methodA()"
   ]
  },
  {
   "cell_type": "code",
   "execution_count": 10,
   "metadata": {},
   "outputs": [
    {
     "name": "stdout",
     "output_type": "stream",
     "text": [
      "38 5 43\n",
      "38 50 131\n",
      "136 5 196\n",
      "38 5 239\n",
      "38 50 327\n",
      "332 5 392\n",
      "38 5 435\n",
      "38 50 523\n",
      "528 5 588\n",
      "38 5 631\n",
      "38 50 719\n",
      "724 5 784\n"
     ]
    }
   ],
   "source": [
    "#task-18\n",
    "class Test4:\n",
    "    def __init__(self):\n",
    "       self.sum, self.y = 0, 0\n",
    "    def methodA(self):\n",
    "       x, y = 0, 0\n",
    "       msg = [0]\n",
    "       msg[0] = 5\n",
    "       y = y + self.methodB(msg[0])\n",
    "       x = y + self.methodB(msg, msg[0])\n",
    "       self.sum = x + y + msg[0]\n",
    "       print(x, y, self.sum)\n",
    "    def methodB(self, *args):\n",
    "        if len(args) == 1:\n",
    "          mg1 = args[0]\n",
    "          x, y = 0, 0\n",
    "          y = y + mg1\n",
    "          x = x + 33 + mg1\n",
    "          self.sum = self.sum + x + y\n",
    "          self.y = mg1 + x + 2\n",
    "          print(x, y, self.sum)\n",
    "          return y\n",
    "        else:\n",
    "          mg2, mg1 = args\n",
    "          x =0\n",
    "          self.y = self.y + mg2[0]\n",
    "          x = x + 33 + mg1\n",
    "          self.sum = self.sum + x + self.y\n",
    "          mg2[0] = self.y + mg1\n",
    "          mg1 = mg1 + x + 2\n",
    "          print(x, self.y, self.sum)\n",
    "          return self.sum\n",
    "t3 = Test4()\n",
    "t3.methodA()\n",
    "t3.methodA()\n",
    "t3.methodA()\n",
    "t3.methodA()"
   ]
  },
  {
   "cell_type": "code",
   "execution_count": 11,
   "metadata": {},
   "outputs": [
    {
     "name": "stdout",
     "output_type": "stream",
     "text": [
      "Grades for Pietro\n",
      "{'Summer2020': {('CSE230', 'CSE220', 'MAT110'): 4.0}, 'Summer2021': {('CSE250', 'CSE330'): 3.85}}\n",
      "------------------------------------------------------\n",
      "Name:  Pietro\n",
      "ID:  10101222\n",
      "Courses taken in Summer2020:\n",
      "CSE230\n",
      "CSE220\n",
      "MAT110\n",
      "4.0\n",
      "Courses taken in Summer2021:\n",
      "CSE250\n",
      "CSE330\n",
      "3.85\n",
      "------------------------------------------------------\n",
      "Grades for Wanda\n",
      "{'Summer2022': {('CSE111', 'CSE260', 'ENG101'): 3.8}}\n",
      "------------------------------------------------------\n",
      "Name:  Wanda\n",
      "ID:  10103332\n",
      "Courses taken in Summer2022:\n",
      "CSE111\n",
      "CSE260\n",
      "ENG101\n",
      "3.8\n"
     ]
    }
   ],
   "source": [
    "#task-13\n",
    "class StudentDatabase:\n",
    "    def __init__(self, name, id):\n",
    "        self.name = name\n",
    "        self.id = id\n",
    "        self.grades = {}\n",
    "\n",
    "    def calculateGPA(self, gradeSheet, sem):\n",
    "        courses = []\n",
    "        gp_list = []\n",
    "        for item in gradeSheet:\n",
    "            course, gp = item.split(\": \")\n",
    "            gp = float(gp)\n",
    "            courses.append(course)\n",
    "            gp_list.append(gp)\n",
    "        \n",
    "\n",
    "        gpa = sum(gp_list) / len(gp_list)\n",
    "        gpa = round(gpa, 2)\n",
    "\n",
    "        courses = tuple(courses)\n",
    "        self.grades[sem] = {courses:gpa}\n",
    "\n",
    "    def printDetails(self):\n",
    "        print(\"Name: \", self.name)\n",
    "        print(\"ID: \", self.id)\n",
    "        \n",
    "        for sem, res in self.grades.items():\n",
    "            print(f\"Courses taken in {sem}:\")\n",
    "\n",
    "            for courses in self.grades[sem]:\n",
    "                for course in courses:\n",
    "                    print(course)\n",
    "                print(self.grades[sem][courses])\n",
    "            \n",
    "\n",
    "\n",
    "\n",
    "s1 = StudentDatabase('Pietro', '10101222')\n",
    "s1.calculateGPA(['CSE230: 4.0', 'CSE220: 4.0', 'MAT110: 4.0'], 'Summer2020')\n",
    "s1.calculateGPA(['CSE250: 3.7', 'CSE330: 4.0'], 'Summer2021')\n",
    "print(f'Grades for {s1.name}\\n{s1.grades}')\n",
    "print('------------------------------------------------------')\n",
    "s1.printDetails()\n",
    "s2 = StudentDatabase('Wanda', '10103332')\n",
    "s2.calculateGPA(['CSE111: 3.7', 'CSE260: 3.7', 'ENG101: 4.0'], 'Summer2022')\n",
    "print('------------------------------------------------------')\n",
    "print(f'Grades for {s2.name}\\n{s2.grades}')\n",
    "print('------------------------------------------------------')\n",
    "s2.printDetails()"
   ]
  },
  {
   "cell_type": "markdown",
   "metadata": {},
   "source": [
    "operator overloadding"
   ]
  },
  {
   "cell_type": "code",
   "execution_count": 14,
   "metadata": {},
   "outputs": [
    {
     "name": "stdout",
     "output_type": "stream",
     "text": [
      "30\n",
      "cse111\n"
     ]
    }
   ],
   "source": [
    "#after midn         #Operator overloadding \n",
    "#17\n",
    "class data:\n",
    "    def __init__(self,x):\n",
    "        self.x = x\n",
    "    def __add__(self,other):\n",
    "        return self.x + other.x\n",
    "\n",
    "\n",
    "\n",
    "\n",
    "num1 = data(10)\n",
    "num2 = data(20)\n",
    "str1 = data('cse')\n",
    "str2 = data('111')\n",
    "print(num1+num2)   #num1.__add__(num2)\n",
    "print(str1+str2)"
   ]
  },
  {
   "cell_type": "code",
   "execution_count": 21,
   "metadata": {},
   "outputs": [
    {
     "name": "stdout",
     "output_type": "stream",
     "text": [
      "Window's : 10 \n",
      "Door's : 5\n"
     ]
    }
   ],
   "source": [
    "#18                  #Operator overloadding\n",
    "class House:\n",
    "    def __init__(self,w,d):\n",
    "        self.window = w\n",
    "        self.door = d\n",
    "    def view(self):\n",
    "        print(f\"Window's : {self.window} \\nDoor's : {self.door}\")\n",
    "    def __add__(self,other):\n",
    "        neww = self.window + other.window\n",
    "        newd = self.door + other.door\n",
    "        obj = House(neww,newd)\n",
    "        return obj\n",
    "h1 = House(4,2)\n",
    "h2 = House(6,3)\n",
    "h3 = h1+h2\n",
    "h3.view()"
   ]
  },
  {
   "cell_type": "markdown",
   "metadata": {},
   "source": [
    "Encapsultion"
   ]
  },
  {
   "cell_type": "code",
   "execution_count": 6,
   "metadata": {},
   "outputs": [
    {
     "name": "stdout",
     "output_type": "stream",
     "text": [
      "{'name': 'carol', '_student__id': 120}\n",
      "name : carol \n",
      "Id : 3543\n",
      "3543\n",
      "3456445907854587609457860249586702549867029458604376034957683456704545\n"
     ]
    }
   ],
   "source": [
    "#19            #Encapsulation\n",
    "class student:\n",
    "    def __init__(self,name,id):\n",
    "        self.name = name\n",
    "        self.__id = id       #private instance variable\n",
    "    def details(self):\n",
    "        print(f\"name : {self.name} \\nId : {self.__id}\")\n",
    "    def update_id(self,id):\n",
    "        if id>0:\n",
    "            self.__id = id\n",
    "        else:\n",
    "            print('Invaild id, enter id again')\n",
    "    def set_id(self):\n",
    "        return self.__id  \n",
    "    \n",
    "    \n",
    "s1 = student('carol',120)\n",
    "s2 = student('bob',56)\n",
    "print(s1.__dict__)\n",
    "s1.update_id(3543)\n",
    "s2.update_id(3456445907854587609457860249586702549867029458604376034957683456704545)\n",
    "s1.details()\n",
    "print(s1.set_id())\n",
    "print(s2.set_id())"
   ]
  },
  {
   "cell_type": "code",
   "execution_count": 13,
   "metadata": {},
   "outputs": [
    {
     "name": "stdout",
     "output_type": "stream",
     "text": [
      "A: 23 \n",
      "B : 45\n",
      "privte method executed.\n",
      "A: 35 \n",
      "B : 57\n",
      "privte method executed.\n",
      "23\n"
     ]
    }
   ],
   "source": [
    "#20 Encapsulation \n",
    "class ABC:\n",
    "    def __init__(self,a,b):\n",
    "        self.a = a\n",
    "        self.__b = b            #private instance variable\n",
    "    def details(self):\n",
    "        print(f\"A: {self.a} \\nB : {self.__b}\")\n",
    "        self.__method()\n",
    "    def __method(self):          #private method\n",
    "        print('privte method executed.')\n",
    "m = ABC(23,45)\n",
    "n = ABC(35,57)\n",
    "m.details()\n",
    "n.details()\n",
    "print(m.a)"
   ]
  },
  {
   "cell_type": "code",
   "execution_count": 1,
   "metadata": {},
   "outputs": [
    {
     "name": "stdout",
     "output_type": "stream",
     "text": [
      "hello world!\n"
     ]
    }
   ],
   "source": [
    "print('hello world!')"
   ]
  },
  {
   "cell_type": "code",
   "execution_count": 4,
   "metadata": {},
   "outputs": [
    {
     "name": "stdout",
     "output_type": "stream",
     "text": [
      "name bob id 12\n",
      "private method executed\n"
     ]
    }
   ],
   "source": [
    "#21\n",
    "class student:\n",
    "    def __init__(self,name,id):\n",
    "        self.name = name\n",
    "        self.__id = id\n",
    "    def details(self):\n",
    "        print('name',self.name,'id',self.__id)\n",
    "        self.__method()\n",
    "    def __method(self):\n",
    "        print('private method executed')\n",
    "\n",
    "s1 = student('bob',12)\n",
    "s2 = student('carol',14)\n",
    "s1.details()"
   ]
  },
  {
   "cell_type": "code",
   "execution_count": 29,
   "metadata": {},
   "outputs": [
    {
     "name": "stdout",
     "output_type": "stream",
     "text": [
      "shakib : 6\n",
      "tamim : 40\n",
      "Total run : 46\n",
      "tamim {'run': 40}\n",
      "shakib {'run': 6}\n"
     ]
    }
   ],
   "source": [
    "#22\n",
    "class player:       \n",
    "    team_run = 0     #class method\n",
    "    def __init__(self,run):\n",
    "        self.run = run\n",
    "    def hit_four(self,n):\n",
    "        self.run+=4*n\n",
    "        player.team_run+=4*n\n",
    "    def hit__six(self):\n",
    "        self.run+=6\n",
    "        player.team_run+=6\n",
    "#==================================================\n",
    "shakib = player(0)\n",
    "tamim = player(0)\n",
    "shakib.hit__six()\n",
    "tamim.hit_four(10)\n",
    "print(\"shakib :\",shakib.run)\n",
    "print(\"tamim :\", tamim.run)\n",
    "print(\"Total run :\", player.team_run)\n",
    "\n",
    "print(\"tamim\",tamim.__dict__)\n",
    "print(\"shakib\",shakib.__dict__)"
   ]
  },
  {
   "cell_type": "code",
   "execution_count": 42,
   "metadata": {},
   "outputs": [
    {
     "name": "stdout",
     "output_type": "stream",
     "text": [
      "student count 0\n",
      "name : bob id : 12\n",
      "student count : 3\n"
     ]
    }
   ],
   "source": [
    "#23\n",
    "class student:\n",
    "    counter = 0    #class or static variable\n",
    "    def __init__(self,name,id): #constractor\n",
    "        self.name = name\n",
    "        self.id = id\n",
    "        student.counter+=1\n",
    "    def details(self):  #instance method \n",
    "        print(\"name :\",self.name,\"id :\",self.id)\n",
    "        #print(f\"Total student : {student.counter}\")\n",
    "        \n",
    "#=====================================\n",
    "print(\"student count\",student.counter)\n",
    "s1 = student('bob',12)\n",
    "s2 = student('carol',15)\n",
    "s3 = student('mike',50)\n",
    "s1.details()\n",
    "print(\"student count :\",student.counter)"
   ]
  },
  {
   "cell_type": "code",
   "execution_count": 44,
   "metadata": {},
   "outputs": [
    {
     "name": "stdout",
     "output_type": "stream",
     "text": [
      "Google\n"
     ]
    }
   ],
   "source": [
    "#24\n",
    "# @ = decorator\n",
    "#class method works without object\n",
    "class employee:\n",
    "    org_name = \"Google\"\n",
    "    def __init__(self,name):\n",
    "        self.name = name\n",
    "    @classmethod\n",
    "    def info(cls):\n",
    "        return cls.org_name\n",
    "\n",
    "print(employee.info())"
   ]
  },
  {
   "cell_type": "code",
   "execution_count": 46,
   "metadata": {},
   "outputs": [
    {
     "name": "stdout",
     "output_type": "stream",
     "text": [
      "This is an employee class.\n"
     ]
    }
   ],
   "source": [
    "#25 staticmethod\n",
    "class employee:\n",
    "    org_name = \"Google\"\n",
    "    def __init__(self,name):\n",
    "        self.name = name\n",
    "    @staticmethod\n",
    "    def info():\n",
    "        print('This is an employee class.')\n",
    "\n",
    "employee.info()"
   ]
  },
  {
   "cell_type": "code",
   "execution_count": 62,
   "metadata": {},
   "outputs": [
    {
     "name": "stdout",
     "output_type": "stream",
     "text": [
      "bob 23 Bracu\n",
      "bob 23 Brac university\n",
      "{'name': 'bob', '_student__id': 23}\n"
     ]
    }
   ],
   "source": [
    "#27\n",
    "class student:\n",
    "    uni_name = \"Bracu\"\n",
    "    def __init__(self,name,id):\n",
    "        self.name = name\n",
    "        self.__id = id\n",
    "    def details(self):\n",
    "        print(self.name,self.__id,student.uni_name)\n",
    "    @classmethod\n",
    "    def up_uni_name(cls,u_name):\n",
    "        cls.uni_name = u_name\n",
    "        \n",
    "s1 = student('bob',23)\n",
    "s1.details()\n",
    "student.up_uni_name('Brac university')\n",
    "s1.details()\n",
    "print(s1.__dict__)"
   ]
  },
  {
   "cell_type": "code",
   "execution_count": 65,
   "metadata": {},
   "outputs": [
    {
     "name": "stdout",
     "output_type": "stream",
     "text": [
      "bob 11 bracu\n",
      "shakib 100 bracu\n"
     ]
    }
   ],
   "source": [
    "#28\n",
    "class student:\n",
    "    uni_name = \"bracu\"\n",
    "    def __init__(self,name,id):\n",
    "        self.name =name\n",
    "        self.id =id\n",
    "    def details(self):\n",
    "        print(self.name,self.id,student.uni_name)\n",
    "    @classmethod\n",
    "    def update(cls,info):\n",
    "        student.uni_name = info\n",
    "    @classmethod\n",
    "    def for_string(cls,info):\n",
    "        name,id = info.split('-')\n",
    "        obj = cls(name,id)\n",
    "        return obj\n",
    "\n",
    "s1 = student('bob',11)\n",
    "s2 = student.for_string('shakib-100')\n",
    "s1.details()\n",
    "s2.details()"
   ]
  },
  {
   "cell_type": "code",
   "execution_count": 15,
   "metadata": {},
   "outputs": [
    {
     "name": "stdout",
     "output_type": "stream",
     "text": [
      "bob 234 brac university\n",
      "shafi 21301586 brac university\n"
     ]
    }
   ],
   "source": [
    "#29\n",
    "class student:\n",
    "    uni_name = 'bracu'\n",
    "    def __init__(self,name,id):\n",
    "        self.name = name\n",
    "        self.id = id\n",
    "    def details(self):\n",
    "        print(self.name,self.id,student.uni_name)\n",
    "    @classmethod\n",
    "    def up_uni_name(cls,u_name):\n",
    "        cls.uni_name = u_name\n",
    "    @classmethod\n",
    "    def from_string(cls,info):\n",
    "        name,id = info.split('-')\n",
    "        obj = cls(name,id)\n",
    "        return obj \n",
    "s1 = student(\"bob\",234)\n",
    "s2 = student.from_string('shafi-21301586')\n",
    "student.up_uni_name('brac university')\n",
    "s1.details()\n",
    "s2.details()"
   ]
  },
  {
   "cell_type": "code",
   "execution_count": 22,
   "metadata": {},
   "outputs": [
    {
     "name": "stdout",
     "output_type": "stream",
     "text": [
      "cs\n"
     ]
    }
   ],
   "source": [
    "#30\n",
    "class student:\n",
    "    uni_name = 'bracu'\n",
    "    def __init__(self,name,id):\n",
    "        self.name = name\n",
    "        self.id = id\n",
    "    def details(self):\n",
    "        print(self.name,self.id,student.uni_name)\n",
    "    @classmethod\n",
    "    def up_uni_name(cls,u_name):\n",
    "        cls.uni_name = u_name\n",
    "    @staticmethod\n",
    "    def check_deocartment(id):\n",
    "        if id[3:5]=='01' : print('cse') \n",
    "        elif id[3:5]=='41': print('cs')\n",
    "student.check_deocartment('21341547')"
   ]
  },
  {
   "cell_type": "code",
   "execution_count": 30,
   "metadata": {},
   "outputs": [
    {
     "name": "stdout",
     "output_type": "stream",
     "text": [
      "jack is eating\n",
      "rover is barking\n",
      "rover is eating\n",
      "True\n"
     ]
    }
   ],
   "source": [
    "#31     isinstance issubclass\n",
    "class animal:\n",
    "    def __init__(self,name):\n",
    "        self.name = name\n",
    "    def eat(self):\n",
    "        print(self.name,'is eating')\n",
    "#=================================================\n",
    "class dog(animal):\n",
    "    def brak(self):\n",
    "        print(self.name, 'is barking')\n",
    "#=================================================\n",
    "a1 = animal('jack')\n",
    "d1 = dog('rover')\n",
    "a1.eat()\n",
    "d1.brak()\n",
    "d1.eat()\n",
    "print(isinstance(a1,animal))"
   ]
  },
  {
   "cell_type": "code",
   "execution_count": 3,
   "metadata": {},
   "outputs": [
    {
     "name": "stdout",
     "output_type": "stream",
     "text": [
      "Total marks: 18\n"
     ]
    }
   ],
   "source": [
    "#32\n",
    "class Exam:\n",
    "    def __init__(self,mark):\n",
    "        self.mark = mark\n",
    "    def __add__(self,other):\n",
    "        obj  = Exam(self.mark+other.mark)\n",
    "        return obj\n",
    "Q1 = Exam(int(input(\"Quiz 1 (out of 10): \"))) \n",
    "Q2 = Exam(int(input(\"Quiz 2 (out of 10): \"))) \n",
    "Lab = Exam(int(input(\"Lab (out of 30): \"))) \n",
    "Mid = Exam(int(input(\"Mid (out of 20): \"))) \n",
    "Final = Exam(int(input(\"Final (out of 30): \"))) \n",
    "total = Q1 + Q2 + Lab + Mid + Final \n",
    "print(\"Total marks: {}\".format(total.mark))"
   ]
  },
  {
   "cell_type": "code",
   "execution_count": 4,
   "metadata": {},
   "outputs": [
    {
     "name": "stdout",
     "output_type": "stream",
     "text": [
      "hello student\n",
      "<__main__.student object at 0x105af8e20>\n"
     ]
    }
   ],
   "source": [
    "#33\n",
    "class student:\n",
    "    def __init__(self):\n",
    "        print('hello student')\n",
    "\n",
    "s1  = student()\n",
    "print(s1)"
   ]
  },
  {
   "cell_type": "code",
   "execution_count": 13,
   "metadata": {},
   "outputs": [
    {
     "name": "stdout",
     "output_type": "stream",
     "text": [
      "Name: b0b \n",
      "Id: 32\n",
      "Name: carol \n",
      "Id: 22\n",
      "b0b\n"
     ]
    }
   ],
   "source": [
    "#34\n",
    "class student:\n",
    "    def __init__(self,name,id):\n",
    "        self.name =  name     #instance variable\n",
    "        self.id = id \n",
    "    def details(self):        #instance variable\n",
    "        print(f\"Name: {self.name} \\nId: {self.id}\")\n",
    "\n",
    "s1  = student('b0b',32)\n",
    "s2 = student('carol',22)\n",
    "#s1.id = 34\n",
    "s1.details()\n",
    "s2.details()\n",
    "print(s1.name)"
   ]
  },
  {
   "cell_type": "code",
   "execution_count": 20,
   "metadata": {},
   "outputs": [
    {
     "name": "stdout",
     "output_type": "stream",
     "text": [
      "Windows: 7 \n",
      "Doors: 2\n",
      "Windows: 4 \n",
      "Doors: 2\n",
      "<__main__.House object at 0x105b762f0>\n",
      "<__main__.House object at 0x105b76ad0>\n"
     ]
    }
   ],
   "source": [
    "#35\n",
    "class House:\n",
    "    def __init__(self):\n",
    "        self.window = 4\n",
    "        self.door  = 2\n",
    "    def view(self):\n",
    "        print(f\"Windows: {self.window} \\nDoors: {self.door}\")\n",
    "        \n",
    "        \n",
    "h1  = House()\n",
    "h2  =  House()\n",
    "h1.window = 7\n",
    "h1.view()\n",
    "h2.view()\n",
    "print(h1)\n",
    "print(h2)"
   ]
  },
  {
   "cell_type": "code",
   "execution_count": 24,
   "metadata": {},
   "outputs": [
    {
     "name": "stdout",
     "output_type": "stream",
     "text": [
      "name: BMW \n",
      "Model year : 2016 \n",
      "It is a 4 car\n",
      "name: Audi \n",
      "Model year : 2018 \n",
      "It is a 4 car\n"
     ]
    }
   ],
   "source": [
    "#35\n",
    "class Car:\n",
    "    def __init__(self,name,model):\n",
    "        self.name = name\n",
    "        self.model_year = model\n",
    "        self.wheel = 4\n",
    "        \n",
    "    def view(self):\n",
    "        print(f\"name: {self.name} \\nModel year : {self.model_year} \\nIt is a {self.wheel} car\")\n",
    "\n",
    "c1 = Car('BMW',2016)\n",
    "c2  = Car('Audi',2018)\n",
    "c1.view()\n",
    "c2.view()"
   ]
  },
  {
   "cell_type": "code",
   "execution_count": 33,
   "metadata": {},
   "outputs": [
    {
     "name": "stdout",
     "output_type": "stream",
     "text": [
      "black rover is smiling\n",
      "white tomy is smiling\n"
     ]
    }
   ],
   "source": [
    "#36   object referance calling with __dict__\n",
    "#dir()\n",
    "class Dog:\n",
    "    def __init__(self,name,color):\n",
    "        self.name = name\n",
    "        self.color = color\n",
    "    def update_color(self,color):\n",
    "        self.color = color\n",
    "    def poke(self):\n",
    "        print(self.color,self.name,'is smiling')\n",
    "\n",
    "d1 = Dog('rover','Brown')\n",
    "d2 = Dog('tomy','white')\n",
    "d1.update_color('black')\n",
    "d1.poke()\n",
    "d2.poke()\n",
    "#print(d1.__dict__)\n",
    "#print(dir(d1))"
   ]
  },
  {
   "cell_type": "code",
   "execution_count": 37,
   "metadata": {},
   "outputs": [
    {
     "name": "stdout",
     "output_type": "stream",
     "text": [
      "opekka humayun ahmed 275 taka\n",
      "275\n"
     ]
    }
   ],
   "source": [
    "#37\n",
    "class book:\n",
    "    def __init__(self,name,author):\n",
    "        self.name = name\n",
    "        self.author = author\n",
    "        self.price = 0\n",
    "    def set_price(self,price):\n",
    "        self.price = price\n",
    "    def get_price(self):\n",
    "        return self.price\n",
    "    def details(self):\n",
    "        print(self.name,self.author, self.price ,\"taka\")\n",
    "\n",
    "b1 = book('opekka','humayun ahmed')\n",
    "b1.set_price(275)\n",
    "b1.details()\n",
    "print(b1.get_price())"
   ]
  },
  {
   "cell_type": "code",
   "execution_count": 40,
   "metadata": {},
   "outputs": [
    {
     "name": "stdout",
     "output_type": "stream",
     "text": [
      "white jumping\n",
      "brown sitting\n",
      "they are different\n"
     ]
    }
   ],
   "source": [
    "#38 pass by rafarance\n",
    "class cat:\n",
    "    def __init__(self,color,action):\n",
    "        self.color = color\n",
    "        self.action = action\n",
    "    def view(self):\n",
    "        print(self.color,self.action)\n",
    "    def compare(self,ct):\n",
    "        if self.action == ct.action:\n",
    "            print('Both cats are',self.action)\n",
    "        else:\n",
    "            print('they are different')\n",
    "\n",
    "c1 = cat('white','jumping')\n",
    "c2 = cat('brown','sitting')\n",
    "c1.view()\n",
    "c2.view()\n",
    "c1.compare(c2)"
   ]
  },
  {
   "cell_type": "code",
   "execution_count": 42,
   "metadata": {},
   "outputs": [
    {
     "name": "stdout",
     "output_type": "stream",
     "text": [
      "method inside: 49\n",
      "method inside: ['green', 'red', 'yellow', 'blue']\n",
      "method outside 44\n",
      "method outside ['green', 'red', 'yellow', 'blue']\n"
     ]
    }
   ],
   "source": [
    "#39\n",
    "class Cat:\n",
    "    def __init__(self,color,action):\n",
    "        self.color = color\n",
    "        self.action = action\n",
    "    def view(self,num,clr):\n",
    "        num+=5\n",
    "        clr1 = clr\n",
    "        clr1[0]= 'green'\n",
    "        print('method inside:',num)\n",
    "        print('method inside:',clr)\n",
    "\n",
    "colors = ['black','red','yellow','blue']\n",
    "c1 = Cat('white','jumping')\n",
    "x = 44\n",
    "c1.view(x,colors)\n",
    "print('method outside',x)\n",
    "print('method outside',colors)"
   ]
  },
  {
   "cell_type": "code",
   "execution_count": 44,
   "metadata": {},
   "outputs": [
    {
     "name": "stdout",
     "output_type": "stream",
     "text": [
      "60\n"
     ]
    }
   ],
   "source": [
    "#40\n",
    "#method overloading\n",
    "class mycalculator:\n",
    "    def product(self,n1,n2):\n",
    "        print(n1*n2)\n",
    "    def product(self,n1,n2,n3):\n",
    "        print(n1*n2*n3)\n",
    "c1 = mycalculator()\n",
    "#c1.product(3,4)\n",
    "c1.product(3,4,5)"
   ]
  },
  {
   "cell_type": "code",
   "execution_count": 46,
   "metadata": {},
   "outputs": [
    {
     "name": "stdout",
     "output_type": "stream",
     "text": [
      "12\n",
      "60\n"
     ]
    }
   ],
   "source": [
    "#41\n",
    "class mycalculator:\n",
    "    def product(self,n1,n2 = None,n3 = None):\n",
    "        if n1!=None and n2!=None and n3!=None:\n",
    "            print(n1*n2*n3)\n",
    "        elif n1!=None and n2!=None :\n",
    "            print(n1*n2)\n",
    "        else:\n",
    "            print(n1)\n",
    "c1 = mycalculator()\n",
    "c1.product(3,4)\n",
    "c1.product(3,4,5)\n"
   ]
  },
  {
   "cell_type": "code",
   "execution_count": 48,
   "metadata": {},
   "outputs": [
    {
     "name": "stdout",
     "output_type": "stream",
     "text": [
      "12\n",
      "60\n",
      "604800\n"
     ]
    }
   ],
   "source": [
    "#42\n",
    "class mycalculator:\n",
    "    def product(self,*num):\n",
    "        sum = 1\n",
    "        for i in num:\n",
    "            sum*=i\n",
    "        print(sum)\n",
    "c1 = mycalculator()\n",
    "c1.product(3,4)\n",
    "c1.product(3,4,5)\n",
    "c1.product(3,4,5,4,5,6,7,4,3)"
   ]
  },
  {
   "cell_type": "code",
   "execution_count": 49,
   "metadata": {},
   "outputs": [
    {
     "name": "stdout",
     "output_type": "stream",
     "text": [
      "created\n",
      "created\n",
      "created\n",
      "created\n"
     ]
    }
   ],
   "source": [
    "#43\n",
    "class student:\n",
    "    def __init__(self,*info):\n",
    "        if len(info)==3:\n",
    "            self.name = info[0]\n",
    "            self.id = info[1]\n",
    "            self.cg = info[2]\n",
    "        elif len(info)==2:\n",
    "            self.name = info[0]\n",
    "            self.id = info[1]\n",
    "        elif len(info)==1:\n",
    "            self.name = info[0]\n",
    "        print('created')\n",
    "\n",
    "s1 = student('bob',33,3.08)\n",
    "s2 = student('carol',45,3.23)\n",
    "s3 = student('mike')\n",
    "s4 = student()"
   ]
  },
  {
   "cell_type": "code",
   "execution_count": 51,
   "metadata": {},
   "outputs": [
    {
     "name": "stdout",
     "output_type": "stream",
     "text": [
      "hello\n",
      "hello\n",
      "hello\n",
      "hello\n"
     ]
    }
   ],
   "source": [
    "#44\n",
    "class student:\n",
    "    def __init__(self,**info):\n",
    "        if len(info)==3:\n",
    "            self.name = info['name']\n",
    "            self.id = info['id']\n",
    "            self.cg = info['cg']\n",
    "        elif len(info)==2:\n",
    "            self.name = info['name']\n",
    "            self.id = info['id']\n",
    "        if len(info)==1:\n",
    "            self.name = info['name']\n",
    "        print('hello')\n",
    "s1 = student(name = 'bob',id = 33,cg = 3.08)\n",
    "s2 = student(name = 'carol',id = 45,cg = 3.23)\n",
    "s3 = student(name = 'mike')\n",
    "s4 = student()\n",
    "        "
   ]
  },
  {
   "cell_type": "code",
   "execution_count": 55,
   "metadata": {},
   "outputs": [
    {
     "name": "stdout",
     "output_type": "stream",
     "text": [
      "Integer\n",
      "1234\n",
      "=====================\n",
      "String\n",
      "Hello\n",
      "=====================\n",
      "Float\n",
      "4.0\n"
     ]
    }
   ],
   "source": [
    "#45\n",
    "class DataType:\n",
    "    def __init__(self,name,value):\n",
    "        self.name = name\n",
    "        self.value = value\n",
    "\n",
    "data_type1 = DataType('Integer', 1234)\n",
    "print(data_type1.name)\n",
    "print(data_type1.value)\n",
    "print('=====================')\n",
    "data_type2 = DataType('String', 'Hello')\n",
    "print(data_type2.name)\n",
    "print(data_type2.value)\n",
    "print('=====================')\n",
    "data_type3 = DataType('Float', 4.0)\n",
    "print(data_type3.name)\n",
    "print(data_type3.value)"
   ]
  },
  {
   "cell_type": "code",
   "execution_count": 66,
   "metadata": {},
   "outputs": [
    {
     "name": "stdout",
     "output_type": "stream",
     "text": [
      "Name of this flower: Rose\n",
      "Color of this flower: Red\n",
      "Number of petal: 6\n",
      "=====================\n",
      "Name of this flower: Orchid\n",
      "Color of this flower: Purple\n",
      "Number of petal: 4\n"
     ]
    }
   ],
   "source": [
    "#46\n",
    "class Flower:\n",
    "    def __init__(self,name = None,color = None,num_of_petal = None):\n",
    "        self.name = name\n",
    "        self.color = color\n",
    "        self.num_of_petal = num_of_petal\n",
    "        \n",
    "flower1 = Flower()\n",
    "flower1.name=\"Rose\"\n",
    "flower1.color=\"Red\"\n",
    "flower1.num_of_petal=6\n",
    "print(\"Name of this flower:\", flower1.name)\n",
    "print(\"Color of this flower:\",flower1.color)\n",
    "print(\"Number of petal:\",flower1.num_of_petal)\n",
    "print('=====================')\n",
    "flower2 = Flower()\n",
    "flower2.name=\"Orchid\"\n",
    "flower2.color=\"Purple\"\n",
    "flower2.num_of_petal=4\n",
    "print(\"Name of this flower:\",flower2.name)\n",
    "print(\"Color of this flower:\",flower2.color)\n",
    "print (\"Number of petal:\",flower2. num_of_petal)"
   ]
  },
  {
   "cell_type": "code",
   "execution_count": 62,
   "metadata": {},
   "outputs": [
    {
     "name": "stdout",
     "output_type": "stream",
     "text": [
      "Heath Ledger\n",
      "Mind Game\n",
      "False\n",
      "=====================\n",
      "Joaquin Phoenix\n",
      "Laughing out Loud\n",
      "True\n",
      "====================\n",
      "different\n",
      "same\n"
     ]
    }
   ],
   "source": [
    "#47\n",
    "class Joker:\n",
    "    def __init__(self,name,power,is_he_psycho):\n",
    "        self.name = name\n",
    "        self.power = power\n",
    "        self.is_he_psycho = is_he_psycho\n",
    "j1 = Joker('Heath Ledger', 'Mind Game', False)\n",
    "print(j1.name)\n",
    "print(j1.power)\n",
    "print(j1.is_he_psycho)\n",
    "print('=====================')\n",
    "j2 = Joker('Joaquin Phoenix', 'Laughing out Loud', True)\n",
    "print(j2.name)\n",
    "print(j2.power)\n",
    "print(j2.is_he_psycho)\n",
    "print('====================')\n",
    "if j1 == j2:\n",
    "  print('same')\n",
    "else:\n",
    "  print('different')\n",
    "j2.name = 'Heath Ledger'\n",
    "if j1.name == j2.name:\n",
    "  print('same')\n",
    "else:\n",
    "  print('different')"
   ]
  },
  {
   "cell_type": "code",
   "execution_count": 63,
   "metadata": {},
   "outputs": [
    {
     "name": "stdout",
     "output_type": "stream",
     "text": [
      "=======Team 1=======\n",
      "Pokemon 1: pikachu 90\n",
      "Pokemon 2: charmander 60\n",
      "Combined Power: 1500\n",
      "=======Team 2=======\n",
      "Pokemon 1: pikachu 90\n",
      "Pokemon 2: charmander 60\n",
      "Combined Power: 1350\n"
     ]
    }
   ],
   "source": [
    "#48\n",
    "class Pokemon:\n",
    "    def __init__(self,name1,name2,power1,power2,dr):\n",
    "        self.pokemon1_name = name1\n",
    "        self.pokemon2_name = name2\n",
    "        self.pokemon1_power = power1\n",
    "        self.pokemon2_power = power2\n",
    "        self.damage_rate = dr\n",
    "        \n",
    "team_pika = Pokemon('pikachu', 'charmander', 90, 60, 10)\n",
    "print('=======Team 1=======')\n",
    "print('Pokemon 1:',team_pika.pokemon1_name,  team_pika.pokemon1_power)\n",
    "print('Pokemon 2:',team_pika.pokemon2_name,team_pika.pokemon2_power)\n",
    "\n",
    "pika_combined_power = (team_pika.pokemon1_power + team_pika.pokemon2_power) * team_pika.damage_rate\n",
    "print('Combined Power:', pika_combined_power)\n",
    "team_bulb = Pokemon('bulbasaur','squirtle',80, 70, 9)\n",
    "print('=======Team 2=======')\n",
    "print('Pokemon 1:',team_pika.pokemon1_name,  team_pika.pokemon1_power)\n",
    "print('Pokemon 2:',team_pika.pokemon2_name,team_pika.pokemon2_power)\n",
    "\n",
    "bulb_combined_power = (team_bulb.pokemon1_power + team_bulb.pokemon2_power) * team_bulb.damage_rate\n",
    "print('Combined Power:', bulb_combined_power)"
   ]
  },
  {
   "cell_type": "code",
   "execution_count": 65,
   "metadata": {},
   "outputs": [
    {
     "name": "stdout",
     "output_type": "stream",
     "text": [
      "Name of the Player: Ronaldo\n",
      "Jersey Number of player: 9\n",
      "Position of player: Striker\n",
      "==========================\n",
      "Name of the player: Neuer\n",
      "Jersey Number of player: 1\n",
      "Position of player: Goal Keeper\n"
     ]
    }
   ],
   "source": [
    "#49\n",
    "class Player:\n",
    "    def __init__(self,name = None,jersy = None,possition = None):\n",
    "        self.name = name\n",
    "        self.jersy = jersy\n",
    "        self.possition = possition\n",
    "player1 = Player()\n",
    "player1.name = \"Ronaldo\"\n",
    "player1.jersy_number = 9\n",
    "player1.position = \"Striker\"\n",
    "print(\"Name of the Player:\", player1.name)\n",
    "print(\"Jersey Number of player:\", player1.jersy_number)\n",
    "print(\"Position of player:\", player1.position)\n",
    "print('==========================')\n",
    "player2 = Player()\n",
    "player2.name = \"Neuer\"\n",
    "player2.jersy_number = 1\n",
    "player2.position = \"Goal Keeper\"\n",
    "print(\"Name of the player:\", player2.name)\n",
    "print(\"Jersey Number of player:\", player2.jersy_number)\n",
    "print(\"Position of player:\", player2.position)"
   ]
  },
  {
   "cell_type": "code",
   "execution_count": 68,
   "metadata": {},
   "outputs": [
    {
     "name": "stdout",
     "output_type": "stream",
     "text": [
      "Name: Bangladesh\n",
      "Continent: Asia\n",
      "Capital: Dhaka\n",
      "Fifa Ranking: 187\n",
      "===================\n",
      "Name: Belgium\n",
      "Continent: Europe\n",
      "Capital: Brussels\n",
      "Fifa Ranking: 1\n"
     ]
    }
   ],
   "source": [
    "#50\n",
    "class Country:\n",
    "    def __init__(self,name = None,continent = None,capital = None,fifa_ranking = None):\n",
    "        self.name = 'Bangladesh'\n",
    "        self.continent = 'Asia'\n",
    "        self.capital = 'Dhaka'\n",
    "        self.fifa_ranking = 187\n",
    "country = Country()\n",
    "print('Name:',country.name)\n",
    "print('Continent:',country.continent)\n",
    "print('Capital:',country.capital)\n",
    "print('Fifa Ranking:',country.fifa_ranking)\n",
    "print('===================')\n",
    "country.name = \"Belgium\"\n",
    "country.continent = \"Europe\"\n",
    "country.capital = \"Brussels\"\n",
    "country.fifa_ranking = 1\n",
    "print('Name:',country.name)\n",
    "print('Continent:',country.continent)\n",
    "print('Capital:',country.capital)\n",
    "print('Fifa Ranking:',country.fifa_ranking)"
   ]
  },
  {
   "cell_type": "code",
   "execution_count": 69,
   "metadata": {},
   "outputs": [
    {
     "name": "stdout",
     "output_type": "stream",
     "text": [
      "Name: Tanjiro\n",
      "Fighting Style: Water Breathing\n",
      "Knows 10 technique(s) and has killed 10 demon(s)\n",
      "===================\n",
      "Name: Zenitsu\n",
      "Fighting Style: Thunder Breathing\n",
      "Knows 1 technique(s) and has killed 4 demon(s)\n",
      "===================\n",
      "Name: Inosuke\n",
      "Fighting Style: Beast Breathing\n",
      "Knows 5 technique(s) and has killed 7 demon(s)\n",
      "===================\n",
      "Tanjiro, Zenitsu, Inosuke knows total 16 techniques\n",
      "They have killed total 21 demons\n"
     ]
    }
   ],
   "source": [
    "#51\n",
    "class DemonSlayer:\n",
    "    def __init__(self,name,style,m,n):\n",
    "        self.name = name\n",
    "        self.style = style\n",
    "        self.number_of_technique = m\n",
    "        self.kill = n\n",
    "tanjiro = DemonSlayer(\"Tanjiro\", \"Water Breathing\", 10, 10)\n",
    "print('Name:',tanjiro.name)\n",
    "print('Fighting Style:',tanjiro.style)\n",
    "print(f'Knows {tanjiro.number_of_technique} technique(s) and has killed {tanjiro.kill} demon(s)')\n",
    "print('===================')\n",
    "zenitsu = DemonSlayer(\"Zenitsu\", \"Thunder Breathing\", 1, 4)\n",
    "print('Name:',zenitsu.name)\n",
    "print('Fighting Style:',zenitsu.style)\n",
    "print(f'Knows {zenitsu.number_of_technique} technique(s) and has killed {zenitsu.kill} demon(s)')\n",
    "print('===================')\n",
    "inosuke = DemonSlayer(\"Inosuke\", \"Beast Breathing\", 5, 7)\n",
    "print('Name:',inosuke.name)\n",
    "print('Fighting Style:',inosuke.style)\n",
    "print(f'Knows {inosuke.number_of_technique} technique(s) and has killed {inosuke.kill} demon(s)')\n",
    "print('===================')\n",
    "print(f'{tanjiro.name}, {zenitsu.name}, {inosuke.name} knows total {tanjiro.number_of_technique + zenitsu.number_of_technique + inosuke.number_of_technique} techniques')\n",
    "print(f'They have killed total {tanjiro.kill + zenitsu.kill + inosuke.kill} demons')"
   ]
  },
  {
   "cell_type": "code",
   "execution_count": 71,
   "metadata": {},
   "outputs": [
    {
     "name": "stdout",
     "output_type": "stream",
     "text": [
      "Box 1\n",
      "=========================\n",
      "Height: 10\n",
      "Width: 10\n",
      "Breadth: 10\n",
      "-------------------------\n",
      "Box 2\n",
      "=========================\n",
      "Height: 30\n",
      "Width: 10\n",
      "Breadth: 10\n",
      "Updating Box 2!\n",
      "Height: 300\n",
      "Width: 10\n",
      "Breadth: 10\n",
      "-------------------------\n",
      "Box 3\n",
      "Height: 300\n",
      "Width: 10\n",
      "Breadth: 10\n"
     ]
    }
   ],
   "source": [
    "#52\n",
    "class box:\n",
    "    def __init__(self,m):\n",
    "        self.height = m[0]\n",
    "        self.width = m[1]\n",
    "        self.breadth = m[2]\n",
    "print(\"Box 1\")\n",
    "b1 = box([10,10,10])\n",
    "print(\"=========================\")\n",
    "print(\"Height:\", b1.height)\n",
    "print(\"Width:\", b1.width)\n",
    "print(\"Breadth:\", b1.breadth)\n",
    "print(\"-------------------------\")\n",
    "print(\"Box 2\")\n",
    "b2 = box((30,10,10))\n",
    "print(\"=========================\")\n",
    "print(\"Height:\", b2.height)\n",
    "print(\"Width:\", b2.width)\n",
    "print(\"Breadth:\", b2.breadth)\n",
    "b2.height = 300\n",
    "print(\"Updating Box 2!\")\n",
    "print(\"Height:\", b2.height)\n",
    "print(\"Width:\", b2.width)\n",
    "print(\"Breadth:\", b2.breadth)\n",
    "print(\"-------------------------\")\n",
    "print(\"Box 3\")\n",
    "b3 = b2\n",
    "print(\"Height:\", b3.height)\n",
    "print(\"Width:\", b3.width)\n",
    "print(\"Breadth:\", b3.breadth)"
   ]
  },
  {
   "cell_type": "code",
   "execution_count": 73,
   "metadata": {},
   "outputs": [
    {
     "name": "stdout",
     "output_type": "stream",
     "text": [
      "CANCEL Button Specifications:\n",
      "Button name: CANCEL\n"
     ]
    },
    {
     "ename": "AttributeError",
     "evalue": "'buttons' object has no attribute 'top'",
     "output_type": "error",
     "traceback": [
      "\u001b[0;31m---------------------------------------------------------------------------\u001b[0m",
      "\u001b[0;31mAttributeError\u001b[0m                            Traceback (most recent call last)",
      "\u001b[1;32m/Users/mirzashafi/Shafi's project/python/versity/CSE111/oop.ipynb Cell 78\u001b[0m in \u001b[0;36m<cell line: 14>\u001b[0;34m()\u001b[0m\n\u001b[1;32m     <a href='vscode-notebook-cell:/Users/mirzashafi/Shafi%27s%20project/python/versity/CSE111/oop.ipynb#Y141sZmlsZQ%3D%3D?line=11'>12</a>\u001b[0m \u001b[39mprint\u001b[39m(b1\u001b[39m.\u001b[39mword,\u001b[39m'\u001b[39m\u001b[39mButton Specifications:\u001b[39m\u001b[39m'\u001b[39m)\n\u001b[1;32m     <a href='vscode-notebook-cell:/Users/mirzashafi/Shafi%27s%20project/python/versity/CSE111/oop.ipynb#Y141sZmlsZQ%3D%3D?line=12'>13</a>\u001b[0m \u001b[39mprint\u001b[39m(\u001b[39m'\u001b[39m\u001b[39mButton name:\u001b[39m\u001b[39m'\u001b[39m,b1\u001b[39m.\u001b[39mword)\n\u001b[0;32m---> <a href='vscode-notebook-cell:/Users/mirzashafi/Shafi%27s%20project/python/versity/CSE111/oop.ipynb#Y141sZmlsZQ%3D%3D?line=13'>14</a>\u001b[0m \u001b[39mprint\u001b[39m(\u001b[39m'\u001b[39m\u001b[39mNumber of the border characters for the top and the bottom:\u001b[39m\u001b[39m'\u001b[39m,\u001b[39mlen\u001b[39m(b1\u001b[39m.\u001b[39;49mtop))\n\u001b[1;32m     <a href='vscode-notebook-cell:/Users/mirzashafi/Shafi%27s%20project/python/versity/CSE111/oop.ipynb#Y141sZmlsZQ%3D%3D?line=14'>15</a>\u001b[0m \u001b[39mprint\u001b[39m(\u001b[39m'\u001b[39m\u001b[39mNumber of spaces between the left side border and the first character of the button name:\u001b[39m\u001b[39m'\u001b[39m,b1\u001b[39m.\u001b[39mspaces)\n\u001b[1;32m     <a href='vscode-notebook-cell:/Users/mirzashafi/Shafi%27s%20project/python/versity/CSE111/oop.ipynb#Y141sZmlsZQ%3D%3D?line=15'>16</a>\u001b[0m \u001b[39mprint\u001b[39m(\u001b[39m'\u001b[39m\u001b[39mNumber of spaces between the right side border and the last character of the button name:\u001b[39m\u001b[39m'\u001b[39m,b1\u001b[39m.\u001b[39mspaces)\n",
      "\u001b[0;31mAttributeError\u001b[0m: 'buttons' object has no attribute 'top'"
     ]
    }
   ],
   "source": [
    "#53\n",
    "class buttons:\n",
    "    def __init__(self,word,spaces,border):\n",
    "        self.word = word\n",
    "        self.spaces = spaces\n",
    "        self.border = border\n",
    "        \n",
    "word = \"CANCEL\"\n",
    "spaces = 10\n",
    "border = 'x'\n",
    "b1 = buttons(word, spaces, border)\n",
    "print(b1.word,'Button Specifications:')\n",
    "print('Button name:',b1.word)\n",
    "print('Number of the border characters for the top and the bottom:',len(b1.top))\n",
    "print('Number of spaces between the left side border and the first character of the button name:',b1.spaces)\n",
    "print('Number of spaces between the right side border and the last character of the button name:',b1.spaces)\n",
    "print('Characters representing the borders:', b1.border)\n",
    "print(b1.top)\n",
    "print(b1.mid)\n",
    "print(b1.down)\n",
    "print(\"=======================================================\")\n",
    "b2 = buttons(\"Notify\",3, '!')\n",
    "print(b2.word,'Button Specifications:')\n",
    "print('Button name:',b2.word)\n",
    "print('Number of the border characters for the top and the bottom:',len(b2.top))\n",
    "print('Number of spaces between the left side border and the first character of the button name:',b2.spaces)\n",
    "print('Number of spaces between the right side border and the last character of the button name:',b2.spaces)\n",
    "print('Characters representing the borders:', b2.border)\n",
    "print(b2.top)\n",
    "print(b2.mid)\n",
    "print(b2.down)\n",
    "print(\"=======================================================\")\n",
    "b3 = buttons('SAVE PROGRESS', 5, '$')\n",
    "print(b3.word,'Button Specifications:')\n",
    "print('Button name:',b3.word)\n",
    "print('Number of the border characters for the top and the bottom:',len(b3.top))\n",
    "print('Number of spaces between the left side border and the first character of the button name:',b3.spaces)\n",
    "print('Number of spaces between the right side border and the last character of the button name:',b3.spaces)\n",
    "print('Characters representing the borders:', b3.border)\n",
    "print(b3.top)\n",
    "print(b3.mid)\n",
    "print(b3.down)"
   ]
  },
  {
   "cell_type": "code",
   "execution_count": 95,
   "metadata": {},
   "outputs": [
    {
     "name": "stdout",
     "output_type": "stream",
     "text": [
      "CANCEL Button Specifications:\n",
      "Button name: CANCEL\n",
      "Number of the border characters for the top and the bottom: 28\n",
      "Number of spaces between the left side border and the first character of the button name: 10\n",
      "Number of spaces between the right side border and the last character of the button name: 10\n",
      "Characters representing the borders: x\n",
      "xxxxxxxxxxxxxxxxxxxxxxxxxxxx\n",
      "x          CANCEL          x\n",
      "xxxxxxxxxxxxxxxxxxxxxxxxxxxx\n",
      "=======================================================\n",
      "Notify Button Specifications:\n",
      "Button name: Notify\n",
      "Number of the border characters for the top and the bottom: 14\n",
      "Number of spaces between the left side border and the first character of the button name: 3\n",
      "Number of spaces between the right side border and the last character of the button name: 3\n",
      "Characters representing the borders: !\n",
      "!!!!!!!!!!!!!!\n",
      "!   Notify   !\n",
      "!!!!!!!!!!!!!!\n",
      "=======================================================\n",
      "SAVE PROGRESS Button Specifications:\n",
      "Button name: SAVE PROGRESS\n",
      "Number of the border characters for the top and the bottom: 25\n",
      "Number of spaces between the left side border and the first character of the button name: 5\n",
      "Number of spaces between the right side border and the last character of the button name: 5\n",
      "Characters representing the borders: $\n",
      "$$$$$$$$$$$$$$$$$$$$$$$$$\n",
      "$     SAVE PROGRESS     $\n",
      "$$$$$$$$$$$$$$$$$$$$$$$$$\n"
     ]
    }
   ],
   "source": [
    "#54\n",
    "class buttons:\n",
    "    def __init__(self,word,spaces,border):\n",
    "        self.word  =word \n",
    "        self.spaces = spaces\n",
    "        self.border  = border\n",
    "        self.top = 1+self.spaces+len(self.word)+self.spaces+1\n",
    "        print(self.word,'Button Specifications:')\n",
    "        print('Button name:',self.word)\n",
    "        print('Number of the border characters for the top and the bottom:',self.top)\n",
    "        print('Number of spaces between the left side border and the first character of the button name:',self.spaces)\n",
    "        print('Number of spaces between the right side border and the last character of the button name:',self.spaces)\n",
    "        print('Characters representing the borders:',self.border)\n",
    "        print(self.border*self.top)\n",
    "        print(self.border+ self.spaces*' '+self.word+self.spaces*' '+self.border)\n",
    "        print(self.border*self.top)\n",
    "word = \"CANCEL\"\n",
    "spaces = 10\n",
    "border = 'x'\n",
    "b1 = buttons(word, spaces, border)\n",
    "print(\"=======================================================\")\n",
    "b2 = buttons(\"Notify\",3, '!')\n",
    "print(\"=======================================================\")\n",
    "b3 = buttons('SAVE PROGRESS', 5, '$')"
   ]
  },
  {
   "cell_type": "code",
   "execution_count": 104,
   "metadata": {},
   "outputs": [
    {
     "name": "stdout",
     "output_type": "stream",
     "text": [
      "part 1:\n",
      "Name of President: Aladeen\n",
      "Designation: President Prime Minister Admiral General\n",
      "Number of wife: 100\n",
      "Is he/she a dictator: True\n",
      "part 2:\n",
      "Name of President: Donald Trump\n",
      "Designation: President\n",
      "Number of wife: 1\n",
      "Is he/she a dictator: False\n"
     ]
    }
   ],
   "source": [
    "#55\n",
    "class Wadiya():\n",
    "     def __init__(self):\n",
    "       self.name = 'Aladeen'\n",
    "       self.designation = 'President Prime Minister Admiral General'\n",
    "       self.num_of_wife = 100\n",
    "       self.dictator = True\n",
    "s1 = Wadiya()\n",
    "print('part 1:')\n",
    "print('Name of President:',s1.name)\n",
    "print('Designation:',s1.designation)\n",
    "print('Number of wife:',s1.num_of_wife)\n",
    "print('Is he/she a dictator:',s1.dictator)\n",
    "print('part 2:')\n",
    "s1.name = 'Donald Trump'\n",
    "s1.designation = 'President'\n",
    "s1.num_of_wife = 1\n",
    "s1.dictator = False\n",
    "print('Name of President:',s1.name)\n",
    "print('Designation:',s1.designation)\n",
    "print('Number of wife:',s1.num_of_wife)\n",
    "print('Is he/she a dictator:',s1.dictator)"
   ]
  },
  {
   "cell_type": "code",
   "execution_count": 109,
   "metadata": {},
   "outputs": [
    {
     "name": "stdout",
     "output_type": "stream",
     "text": [
      "Name: A\n",
      "Age: 55 \n",
      "Weight: 63.0 \n",
      "BMI: 25.236340330075304\n",
      "========================================\n",
      "Name: B\n",
      "Age: 53 \n",
      "Weight: 61.0 \n",
      "BMI: 27.476239809017613\n"
     ]
    }
   ],
   "source": [
    "#56\n",
    "class Patient:\n",
    "    def __init__(self,name,age,weight,height):\n",
    "        self.name = name\n",
    "        self.age = age\n",
    "        self.weight = weight\n",
    "        self.height = height\n",
    "        self.bmi = weight/(height/100)**2\n",
    "    def details(self):\n",
    "        print(f\"Name: {self.name}\\nAge: {self.age} \\nWeight: {self.weight} \\nBMI: {self.bmi}\")\n",
    "p1 = Patient('A',55,63.0,158.0)\n",
    "p1.details()\n",
    "print('========================================')\n",
    "p2 = Patient('B',53,61.0,149.0)\n",
    "p2.details()"
   ]
  },
  {
   "cell_type": "code",
   "execution_count": 110,
   "metadata": {},
   "outputs": [
    {
     "name": "stdout",
     "output_type": "stream",
     "text": [
      "k\n",
      "==========================\n",
      "==========================\n",
      "==========================\n",
      "==========================\n"
     ]
    }
   ],
   "source": [
    "#57\n",
    "class Shape:\n",
    "    def __init__(self,name,m,n):\n",
    "        self.name = name\n",
    "        self.m = m\n",
    "        self.n = n\n",
    "    def area(self):\n",
    "        if self.name == \"Triangle\":\n",
    "            print('k')\n",
    "triangle = Shape(\"Triangle\",10,25) \n",
    "triangle.area() \n",
    "print(\"==========================\") \n",
    "square = Shape(\"Square\",10,10) \n",
    "square.area() \n",
    "print(\"==========================\") \n",
    "rhombus = Shape(\"Rhombus\",18,25) \n",
    "rhombus.area() \n",
    "print(\"==========================\") \n",
    "rectangle = Shape(\"Rectangle\",15,30) \n",
    "rectangle.area() \n",
    "print(\"==========================\") \n",
    "trapezium = Shape(\"Trapezium\",15,30) \n",
    "trapezium.area()"
   ]
  },
  {
   "cell_type": "code",
   "execution_count": 111,
   "metadata": {},
   "outputs": [
    {
     "name": "stdout",
     "output_type": "stream",
     "text": [
      "Area: 125.0\n",
      "==========================\n",
      "Area: 100\n",
      "==========================\n",
      "Area: 225.0\n",
      "==========================\n",
      "Area: 450\n",
      "==========================\n",
      "Area: Shape unknown\n"
     ]
    }
   ],
   "source": [
    "#58\n",
    "class Shape:\n",
    "    def __init__(self,*n):\n",
    "        if n[0] == \"Triangle\":\n",
    "            self.a = 1/2*n[2]*n[1]\n",
    "        elif n[0]=='Square':\n",
    "            self.a = n[1]*n[2]\n",
    "        elif n[0]=='Rhombus':\n",
    "            self.a = (n[1]*n[2])/2\n",
    "        elif n[0]=='Rectangle':\n",
    "            self.a = n[1]*n[2]\n",
    "        elif n[0]=='Trapezium':\n",
    "            self.a = 'Shape unknown'\n",
    "    def area(self):\n",
    "        print('Area:',self.a)\n",
    "triangle = Shape(\"Triangle\",10,25) \n",
    "triangle.area() \n",
    "print(\"==========================\") \n",
    "square = Shape(\"Square\",10,10) \n",
    "square.area() \n",
    "print(\"==========================\") \n",
    "rhombus = Shape(\"Rhombus\",18,25) \n",
    "rhombus.area() \n",
    "print(\"==========================\") \n",
    "rectangle = Shape(\"Rectangle\",15,30) \n",
    "rectangle.area() \n",
    "print(\"==========================\") \n",
    "trapezium = Shape(\"Trapezium\",15,30) \n",
    "trapezium.area()"
   ]
  },
  {
   "cell_type": "code",
   "execution_count": 124,
   "metadata": {},
   "outputs": [
    {
     "name": "stdout",
     "output_type": "stream",
     "text": [
      "Calculator is ready\n",
      "==================\n",
      "Returned value: 30\n",
      "10 + 20 = 30\n",
      "==================\n",
      "Returned value: 20\n",
      "30 - 10 = 20\n",
      "==================\n",
      "Returned value: 100\n",
      "20 * 5 = 100\n",
      "==================\n",
      "Returned value: 6.25\n",
      "100 / 16 = 6.25\n"
     ]
    }
   ],
   "source": [
    "#59\n",
    "class Calculator:\n",
    "    def __init__(self):\n",
    "        print('Calculator is ready')\n",
    "    def calculate(self,m,n,s):\n",
    "        self.m = m\n",
    "        self.n = n\n",
    "        self.s = s\n",
    "        if self.s == '+':\n",
    "            self.obj = self.m+self.n\n",
    "            return self.obj\n",
    "        elif self.s == '-':\n",
    "            self.obj = self.m-self.n\n",
    "            return self.obj\n",
    "        elif self.s == '*':\n",
    "            self.obj = self.m*self.n\n",
    "            return self.obj\n",
    "        elif self.s == '/':\n",
    "            self.obj = self.m/self.n\n",
    "            return self.obj\n",
    "    def showCalculation(self):\n",
    "        print(self.m,self.s,self.n,'=',self.obj)\n",
    "c1 = Calculator() \n",
    "print(\"==================\") \n",
    "val = c1.calculate(10, 20, '+') \n",
    "print(\"Returned value:\", val) \n",
    "c1.showCalculation() \n",
    "print(\"==================\") \n",
    "val = c1.calculate(val, 10, '-') \n",
    "print(\"Returned value:\", val) \n",
    "c1.showCalculation() \n",
    "print(\"==================\") \n",
    "val = c1.calculate(val, 5, '*') \n",
    "print(\"Returned value:\", val) \n",
    "c1.showCalculation() \n",
    "print(\"==================\") \n",
    "val = c1.calculate(val, 16, '/') \n",
    "print(\"Returned value:\", val) \n",
    "c1.showCalculation()"
   ]
  },
  {
   "cell_type": "code",
   "execution_count": 136,
   "metadata": {},
   "outputs": [
    {
     "name": "stdout",
     "output_type": "stream",
     "text": [
      "Horray! A new programmer is born Name:Ethen Hunt\n",
      "Language: Java\n",
      "Experience: 10\n",
      "--------------------------\n",
      "Horray! A new programmer is born Name:James Bond\n",
      "Language: C++\n",
      "Experience: 7\n",
      "--------------------------\n",
      "Horray! A new programmer is born Name:Jon Snow\n",
      "Language: Python\n",
      "Experience: 4\n",
      "Updating experience of Jon Snow Name:Jon Snow\n",
      "Language: Python\n",
      "Experience: 9\n"
     ]
    }
   ],
   "source": [
    "#task-60\n",
    "class Programmer:\n",
    "    def __init__(self,name,l,y):\n",
    "        self.name = name\n",
    "        self.l = l\n",
    "        self.y = y\n",
    "        self.k = f\"Horray! A new programmer is born Name:{self.name}\"\n",
    "        print(self.k)\n",
    "    def addExp(self,year):\n",
    "        self.y = self.y+year\n",
    "        self.k = f\"Updating experience of Jon Snow Name:{self.name}\"\n",
    "        print(self.k)\n",
    "    def printDetails(self):\n",
    "        print('Language:',self.l)\n",
    "        print('Experience:',self.y)\n",
    "p1 = Programmer(\"Ethen Hunt\", \"Java\", 10) \n",
    "p1.printDetails() \n",
    "print('--------------------------')\n",
    "p2 = Programmer(\"James Bond\", \"C++\", 7) \n",
    "p2.printDetails() \n",
    "print('--------------------------')\n",
    "p3 = Programmer(\"Jon Snow\", \"Python\", 4) \n",
    "p3.printDetails()\n",
    "p3.addExp(5)\n",
    "p3.printDetails()"
   ]
  },
  {
   "cell_type": "code",
   "execution_count": 146,
   "metadata": {},
   "outputs": [
    {
     "name": "stdout",
     "output_type": "stream",
     "text": [
      "Shakib welcome to UberEats!\n",
      "=========================\n",
      "=========================\n",
      "Name: Shakib Phone: 01719658xxx Location: Mohakhali \n",
      "Orders: {'Burger': 220, 'Coca Cola': 50} \n",
      "Total price amount: 270\n",
      "=========================\n",
      "Siam welcome to UberEats!\n",
      "=========================\n",
      "=========================\n",
      "Name: Siam Phone: 01719659xxx Location: Uttara \n",
      "Orders: {'Pineapple': 80, 'Dairy Milk': 70} \n",
      "Total price amount: 150\n"
     ]
    }
   ],
   "source": [
    "#61\n",
    "class UberEats:\n",
    "    def __init__(self,name,number,location):\n",
    "        self.name = name\n",
    "        self.number = number\n",
    "        self.location  = location\n",
    "        print(self.name,'welcome to UberEats!')\n",
    "        self.order  = {}\n",
    "    def add_items(self,m,n,mp,np):\n",
    "        self.m = m\n",
    "        self.n = n\n",
    "        self.mp  = mp\n",
    "        self.np = np\n",
    "        self.order[m] = mp\n",
    "        self.order[n] = np\n",
    "        self.total = mp+np\n",
    "    def print_order_detail(self):\n",
    "        obj = f\"Name: {self.name} Phone: {self.number} Location:{self.location} \\nOrders: {self.order} \\nTotal price amount: {self.total}\"\n",
    "        return obj\n",
    "\n",
    "\n",
    "order1 = UberEats(\"Shakib\", \"01719658xxx\", \"Mohakhali\") \n",
    "print(\"=========================\") \n",
    "order1.add_items(\"Burger\", \"Coca Cola\", 220, 50) \n",
    "print(\"=========================\") \n",
    "print(order1.print_order_detail()) \n",
    "print(\"=========================\")\n",
    "order2 = UberEats (\"Siam\", \"01719659xxx\", \"Uttara\") \n",
    "print(\"=========================\") \n",
    "order2.add_items(\"Pineapple\", \"Dairy Milk\", 80, 70) \n",
    "print(\"=========================\") \n",
    "print(order2.print_order_detail())      #dictionary[k]+=[v]"
   ]
  },
  {
   "cell_type": "code",
   "execution_count": 151,
   "metadata": {},
   "outputs": [
    {
     "name": "stdout",
     "output_type": "stream",
     "text": [
      "Hello!\n",
      "Sam,you purchased 3 item(s)\n",
      "chips\n",
      "chocolate\n",
      "orange juice\n",
      "-----------------------------\n",
      "Hello David!\n",
      "David,you purchased 1 item(s)\n",
      "orange juice\n"
     ]
    }
   ],
   "source": [
    "#62\n",
    "class Customer:\n",
    "    def __init__(self,name):\n",
    "        self.name = name\n",
    "    def greet(self,n = None):\n",
    "        if n == None:\n",
    "            print('Hello!')\n",
    "        elif n != None:\n",
    "            print(f\"Hello {n}!\")\n",
    "    def purchase(self,*x):\n",
    "        self.items = len(x)\n",
    "        print(f\"{self.name},you purchased {self.items} item(s)\")\n",
    "        for i in x:\n",
    "            print(i)\n",
    "customer_1 = Customer(\"Sam\")\n",
    "customer_1.greet()\n",
    "customer_1.purchase(\"chips\", \"chocolate\", \"orange juice\") \n",
    "print(\"-----------------------------\")\n",
    "customer_2 = Customer(\"David\") \n",
    "customer_2.greet(\"David\") \n",
    "customer_2.purchase(\"orange juice\")"
   ]
  },
  {
   "cell_type": "code",
   "execution_count": 152,
   "metadata": {},
   "outputs": [
    {
     "name": "stdout",
     "output_type": "stream",
     "text": [
      "White is sitting\n",
      "Black is sitting\n",
      "Brown is jumping\n",
      "Red is purring\n",
      "Blue is sitting\n",
      "Purple is jumping\n"
     ]
    }
   ],
   "source": [
    "#63\n",
    "class Cat:\n",
    "    def __init__(self,color = \"White\",action = \"sitting\"):\n",
    "        self.color = color\n",
    "        self.action = action\n",
    "    def changeColor(self,x):\n",
    "        self.color = x\n",
    "    def printCat(self):\n",
    "        print(f'{self.color} is {self.action}')\n",
    "c1 = Cat()\n",
    "c2 = Cat(\"Black\")\n",
    "c3 = Cat(\"Brown\", \"jumping\") \n",
    "c4 = Cat(\"Red\", \"purring\") \n",
    "c1.printCat()\n",
    "c2.printCat()\n",
    "c3.printCat()\n",
    "c4.printCat() \n",
    "c1.changeColor(\"Blue\") \n",
    "c3.changeColor(\"Purple\") \n",
    "c1.printCat()\n",
    "c3.printCat()"
   ]
  },
  {
   "cell_type": "code",
   "execution_count": 154,
   "metadata": {},
   "outputs": [
    {
     "name": "stdout",
     "output_type": "stream",
     "text": [
      "Name: Harry Potter\n",
      "ID: 123\n",
      "Department: CSE\n",
      "Daily Effort: 3 hour(s)\n",
      "Keep up the good work!\n",
      "========================\n",
      "Name: John Wick\n",
      "ID: 456\n",
      "Department: BBA\n",
      "Daily Effort: 2 hour(s)\n",
      "Should give more effort!\n",
      "========================\n",
      "Name: Naruto Uzumaki\n",
      "ID: 777\n",
      "Department: Ninja\n",
      "Daily Effort: 6 hour(s)\n",
      "Excellent! Now motivate others.\n"
     ]
    }
   ],
   "source": [
    "#64\n",
    "class Student:\n",
    "    def __init__(self,name,id,dp = 'CSE'):\n",
    "        self.name = name\n",
    "        self.id = id\n",
    "        self.dp = dp\n",
    "    def dailyEffort(self,time):\n",
    "        self.time = time\n",
    "    def printDetails(self):\n",
    "        print('Name:',self.name)\n",
    "        print('ID:',self.id)\n",
    "        print('Department:',self.dp)\n",
    "        print('Daily Effort:',self.time,'hour(s)')\n",
    "        if self.time<=2:\n",
    "            print('Should give more effort!')\n",
    "        elif self.time <=4:\n",
    "            print('Keep up the good work!')\n",
    "        else:\n",
    "            print('Excellent! Now motivate others.')\n",
    "        \n",
    "\n",
    "harry = Student('Harry Potter', 123) \n",
    "harry.dailyEffort(3)\n",
    "harry.printDetails() \n",
    "print('========================') \n",
    "john = Student(\"John Wick\", 456, \"BBA\") \n",
    "john.dailyEffort(2)\n",
    "john.printDetails() \n",
    "print('========================')\n",
    "naruto = Student(\"Naruto Uzumaki\", 777, \"Ninja\") \n",
    "naruto.dailyEffort(6)\n",
    "naruto.printDetails()"
   ]
  },
  {
   "cell_type": "code",
   "execution_count": 157,
   "metadata": {},
   "outputs": [
    {
     "name": "stdout",
     "output_type": "stream",
     "text": [
      "Name: New Batsman \n",
      "Runs Scored: 6101,Balls Faced: 7380\n",
      "============================\n",
      "Name: Liton Das \n",
      "Runs Scored: 678,Balls Faced: 773\n",
      "----------------------------\n",
      "87.71021992238033\n",
      "============================\n",
      "Name: Shakib Al Hasan \n",
      "Runs Scored: 6101,Balls Faced: 7380\n",
      "----------------------------\n",
      "82.66937669376694\n"
     ]
    }
   ],
   "source": [
    "#65\n",
    "class Batsman:\n",
    "    def __init__(self,*n):\n",
    "        if len(n)==2:\n",
    "            self.name = 'New Batsman'\n",
    "            self.run = n[0]\n",
    "            self.ball = n[1]\n",
    "        elif len(n)==3:\n",
    "            self.name = n[0]\n",
    "            self.run = n[1]\n",
    "            self.ball = n[2]\n",
    "    def printCareerStatistics(self):\n",
    "        print(f\"Name: {self.name} \\nRuns Scored: {self.run},Balls Faced: {self.ball}\")\n",
    "    def battingStrikeRate(self):\n",
    "        b = (self.run/self.ball)*100\n",
    "        return b\n",
    "    def setName(self,name):\n",
    "        self.name = name\n",
    "        \n",
    "b1 = Batsman(6101, 7380) \n",
    "b1.printCareerStatistics() \n",
    "print(\"============================\") \n",
    "b2 = Batsman(\"Liton Das\", 678, 773) \n",
    "b2.printCareerStatistics() \n",
    "print(\"----------------------------\") \n",
    "print(b2.battingStrikeRate()) \n",
    "print(\"============================\") \n",
    "b1.setName(\"Shakib Al Hasan\") \n",
    "b1.printCareerStatistics() \n",
    "print(\"----------------------------\") \n",
    "print(b1.battingStrikeRate())"
   ]
  },
  {
   "cell_type": "code",
   "execution_count": 165,
   "metadata": {},
   "outputs": [
    {
     "name": "stdout",
     "output_type": "stream",
     "text": [
      "Author name: Humayun Ahmed\n",
      "------------\n",
      "List of Books:\n",
      "Deyal\n",
      "Megher Opor Bari\n",
      "===================\n",
      "Default\n",
      "===================\n",
      "Author name: Mario Puzo\n",
      "------------\n",
      "List of Books:\n",
      "The Godfather\n",
      "Omerta\n",
      "The Sicilian\n",
      "===================\n",
      "Author name: Paolo Coelho\n",
      "------------\n",
      "List of Books:\n",
      "The Alchemist\n",
      "The Fifth Mountain\n"
     ]
    }
   ],
   "source": [
    "#66\n",
    "class Author:\n",
    "    def __init__(self,*n):\n",
    "        \n",
    "        self.book  = []\n",
    "        if len(n)==0:\n",
    "            self.name = 'Default'\n",
    "        elif len(n)==1:\n",
    "            self.name = n[0]\n",
    "        elif len(n)==3:\n",
    "            self.name = n[0]\n",
    "            for i in range(1,len(n)):\n",
    "                self.book.append(n[i])\n",
    "    def addBooks(self,*x):\n",
    "        for i in range(len(x)):\n",
    "            self.book.append(x[i])\n",
    "    def changeName(self,na):\n",
    "        self.name = na\n",
    "    def printDetails(self):\n",
    "        print('Author name:',self.name)\n",
    "        print('------------')\n",
    "        print('List of Books:')\n",
    "        for i in self.book:\n",
    "            print(i)\n",
    "auth1 = Author('Humayun Ahmed') \n",
    "auth1.addBooks('Deyal', 'Megher Opor Bari') \n",
    "auth1.printDetails() \n",
    "print(\"===================\")\n",
    "auth2 = Author()\n",
    "print(auth2.name)\n",
    "auth2.changeName('Mario Puzo')\n",
    "auth2.addBooks('The Godfather', 'Omerta', 'The Sicilian') \n",
    "print(\"===================\")\n",
    "auth2.printDetails()\n",
    "print(\"===================\")\n",
    "auth3 = Author('Paolo Coelho', 'The Alchemist', 'The Fifth Mountain') \n",
    "auth3.printDetails()"
   ]
  },
  {
   "cell_type": "code",
   "execution_count": 200,
   "metadata": {},
   "outputs": [
    {
     "name": "stdout",
     "output_type": "stream",
     "text": [
      "-------------------------------\n",
      "Dear Walker! Welcome to TaxiLagbe.\n",
      "Dear Wood! Welcome to TaxiLagbe.\n",
      "Dear Matt! Welcome to TaxiLagbe.\n",
      "Dear Wilson! Welcome to TaxiLagbe.\n",
      "-------------------------------\n",
      "Trip info for Taxi number: 1010-01\n",
      "This taxi can cover only Dhaka area.\n",
      "Total passengers:4\n",
      "Passenger lists:\n",
      "Walker, Wood, Matt, Wilson, \n",
      "Total collected fare: 505\n",
      "-------------------------------\n",
      "Taxi Full! No more passengers can be added.\n",
      "-------------------------------\n",
      "Trip info for Taxi number: 1010-01\n",
      "This taxi can cover only Dhaka area.\n",
      "Total passengers:4\n",
      "Passenger lists:\n",
      "Walker, Wood, Matt, Wilson, \n",
      "Total collected fare: 505\n",
      "-------------------------------\n",
      "Dear Ronald! Welcome to TaxiLagbe.\n",
      "Dear Parker! Welcome to TaxiLagbe.\n",
      "-------------------------------\n",
      "Trip info for Taxi number: 1010-02\n",
      "This taxi can cover only Khulna area.\n",
      "Total passengers:2\n",
      "Passenger lists:\n",
      "Ronald, Parker, \n",
      "Total collected fare: 330\n"
     ]
    }
   ],
   "source": [
    "#67\n",
    "class TaxiLagbe:\n",
    "    def __init__(self,number,location):\n",
    "        self.number = number\n",
    "        self.location = location\n",
    "        self.p = []\n",
    "        self.total = 0\n",
    "    def addPassenger(self,*x):\n",
    "        if len(self.p)>=4:\n",
    "            print(\"Taxi Full! No more passengers can be added.\")\n",
    "        else:\n",
    "            for i in x:\n",
    "               self.name,self.taka = i.split('_')\n",
    "               self.p.append(self.name)\n",
    "               self.total+=int(self.taka)\n",
    "               print(f\"Dear {self.name}! Welcome to TaxiLagbe.\")\n",
    "               \n",
    "               \n",
    "    def printDetails(self):\n",
    "        print(f\"Trip info for Taxi number: {self.number}\")\n",
    "        print(f\"This taxi can cover only {self.location} area.\")\n",
    "        print(f\"Total passengers:{len(self.p)}\")\n",
    "        print('Passenger lists:')\n",
    "        for i in self.p:\n",
    "            print(i,end = ', ')\n",
    "        print(f\"\\nTotal collected fare: {self.total}\")\n",
    "        \n",
    "taxi1 = TaxiLagbe('1010-01', 'Dhaka') \n",
    "print('-------------------------------') \n",
    "taxi1.addPassenger('Walker_100', 'Wood_200') \n",
    "taxi1.addPassenger('Matt_100') \n",
    "taxi1.addPassenger('Wilson_105') \n",
    "print('-------------------------------') \n",
    "taxi1.printDetails() \n",
    "print('-------------------------------') \n",
    "taxi1.addPassenger('Karen_200') \n",
    "print('-------------------------------') \n",
    "taxi1.printDetails() \n",
    "print('-------------------------------')\n",
    "taxi2 = TaxiLagbe('1010-02', 'Khulna') \n",
    "taxi2.addPassenger('Ronald_115') \n",
    "taxi2.addPassenger('Parker_215') \n",
    "print('-------------------------------') \n",
    "taxi2.printDetails()"
   ]
  },
  {
   "cell_type": "code",
   "execution_count": 207,
   "metadata": {},
   "outputs": [
    {
     "name": "stdout",
     "output_type": "stream",
     "text": [
      "Default Account \n",
      "0.0\n",
      "------------------------\n",
      "Oliver \n",
      "10000.0\n",
      "------------------------\n",
      "Liam \n",
      "0.0\n",
      "------------------------\n",
      "Noah \n",
      "400\n",
      "------------------------\n",
      "Sorry, Withdraw unsuccessful! The account balance after deducting withdraw amount is equal to or less than minimum.\n",
      "------------------------\n",
      "Sorry, Withdraw unsuccessful! The account balance after deducting withdraw amount is equal to or less than minimum.\n",
      "------------------------\n",
      "Withdeaw successful! New balance is 3071.0\n"
     ]
    }
   ],
   "source": [
    "#68\n",
    "class Account:\n",
    "    def __init__(self,name = \"Default Account\",taka = 0.0):\n",
    "        self.name = name\n",
    "        self.balance = taka\n",
    "    def details(self):\n",
    "        return f\"{self.name} \\n{self.balance}\"\n",
    "    def withdraw(self,s):\n",
    "        if (self.balance-s) <= 3070:\n",
    "            print('Sorry, Withdraw unsuccessful! The account balance after deducting withdraw amount is equal to or less than minimum.')\n",
    "        elif self.balance>s:\n",
    "            print(f\"Withdeaw successful! New balance is {self.balance-s}\")\n",
    "    \n",
    "a1 = Account() \n",
    "print(a1.details()) \n",
    "print(\"------------------------\") \n",
    "a1.name = \"Oliver\" \n",
    "a1.balance = 10000.0 \n",
    "print(a1.details()) \n",
    "print(\"------------------------\") \n",
    "a2 = Account(\"Liam\") \n",
    "print(a2.details()) \n",
    "print(\"------------------------\") \n",
    "a3 = Account(\"Noah\",400) \n",
    "print(a3.details()) \n",
    "print(\"------------------------\") \n",
    "a1.withdraw(6930) \n",
    "print(\"------------------------\") \n",
    "a2.withdraw(600) \n",
    "print(\"------------------------\") \n",
    "a1.withdraw(6929)"
   ]
  },
  {
   "cell_type": "code",
   "execution_count": 230,
   "metadata": {},
   "outputs": [
    {
     "name": "stdout",
     "output_type": "stream",
     "text": [
      "Grades for Pietro\n",
      "{'Summer2020': {('CSE230', 'CSE220', 'MAT110'): 4.0}, 'Summer2021': {('CSE250', 'CSE330'): 3.85}}\n",
      "------------------------------------------------------\n",
      "Name: Pietro\n",
      "ID: 10101222\n",
      "Courses taken in Summer2020:\n",
      "CSE230\n",
      "CSE220\n",
      "MAT110\n",
      "GPA 4.0\n",
      "Courses taken in Summer2021:\n",
      "CSE250\n",
      "CSE330\n",
      "GPA 3.85\n",
      "------------------------------------------------------\n",
      "Grades for Wanda\n",
      "{'Summer2022': {('CSE111', 'CSE260', 'ENG101'): 3.8000000000000003}}\n",
      "------------------------------------------------------\n",
      "Name: Wanda\n",
      "ID: 10103332\n",
      "Courses taken in Summer2022:\n",
      "CSE111\n",
      "CSE260\n",
      "ENG101\n",
      "GPA 3.8000000000000003\n"
     ]
    }
   ],
   "source": [
    "#69\n",
    "class StudentDatabase:\n",
    "    def __init__(self,name,id):\n",
    "        self.name = name\n",
    "        self.id = id\n",
    "        self.grades = {}\n",
    "    def calculateGPA(self,gra,sem):\n",
    "        list_course  = []\n",
    "        list_cgpa  = []\n",
    "        self.sem = sem\n",
    "        for i in gra:\n",
    "            c,g = i.split(': ')\n",
    "            cgpa = float(g)\n",
    "            list_cgpa.append(cgpa)\n",
    "            list_course.append(c)\n",
    "        gpa = sum(list_cgpa)/ len(list_course)\n",
    "        round(gpa,2)\n",
    "        self.grades[sem] = {tuple(list_course):gpa}\n",
    "    def printDetails(self):\n",
    "        print(f\"Name: {self.name}\")\n",
    "        print(f\"ID: {self.id}\")\n",
    "        for sem, res in self.grades.items():\n",
    "            print(f\"Courses taken in {sem}:\")\n",
    "\n",
    "            for courses in self.grades[sem]:\n",
    "                for course in courses:\n",
    "                    print(course)\n",
    "                print('GPA',self.grades[sem][courses])\n",
    "        \n",
    "s1 = StudentDatabase('Pietro', '10101222')\n",
    "s1.calculateGPA(['CSE230: 4.0', 'CSE220: 4.0', 'MAT110: 4.0'], 'Summer2020')\n",
    "s1.calculateGPA(['CSE250: 3.7', 'CSE330: 4.0'], 'Summer2021')\n",
    "print(f'Grades for {s1.name}\\n{s1.grades}')\n",
    "print('------------------------------------------------------')\n",
    "s1.printDetails()\n",
    "s2 = StudentDatabase('Wanda', '10103332')\n",
    "s2.calculateGPA(['CSE111: 3.7', 'CSE260: 3.7', 'ENG101: 4.0'], 'Summer2022')\n",
    "print('------------------------------------------------------')\n",
    "print(f'Grades for {s2.name}\\n{s2.grades}')\n",
    "print('------------------------------------------------------')\n",
    "s2.printDetails()"
   ]
  },
  {
   "cell_type": "code",
   "execution_count": 234,
   "metadata": {},
   "outputs": [
    {
     "name": "stdout",
     "output_type": "stream",
     "text": [
      "shafi 21301586\n"
     ]
    }
   ],
   "source": [
    "#70\n",
    "class student:\n",
    "    def __init__(self,**info):\n",
    "        self.name = info['name']\n",
    "        self.id =  info['id']\n",
    "    def details(self):\n",
    "        print(self.name,self.id)\n",
    "s1 = student(name = 'shafi',id = 21301586)\n",
    "s1.details()"
   ]
  },
  {
   "cell_type": "code",
   "execution_count": 235,
   "metadata": {},
   "outputs": [
    {
     "name": "stdout",
     "output_type": "stream",
     "text": [
      "35\n"
     ]
    }
   ],
   "source": [
    "#71 operator overloading __mul__ __sub__ __add____pow_\n",
    "n = 12\n",
    "m = 23\n",
    "print(n.__add__(m))"
   ]
  },
  {
   "cell_type": "code",
   "execution_count": 239,
   "metadata": {},
   "outputs": [
    {
     "name": "stdout",
     "output_type": "stream",
     "text": [
      "40\n",
      "CSE111\n"
     ]
    }
   ],
   "source": [
    "#72\n",
    "class data:\n",
    "    def __init__(self,x):\n",
    "        self.x = x\n",
    "    def __add__(self,other):\n",
    "        return self.x+other.x\n",
    "num1 = data(10)\n",
    "num2 = data(30)\n",
    "str1 = data('CSE')\n",
    "str2 = data('111')\n",
    "print(num1+num2)\n",
    "print(str1+str2)"
   ]
  },
  {
   "cell_type": "code",
   "execution_count": 247,
   "metadata": {},
   "outputs": [
    {
     "name": "stdout",
     "output_type": "stream",
     "text": [
      "2 4\n",
      "6 2\n",
      "8 4\n"
     ]
    }
   ],
   "source": [
    "#74\n",
    "class house:\n",
    "    def __init__(self,w,d):\n",
    "        self.w = w\n",
    "        self.d = d\n",
    "    def view(self):\n",
    "        print(self.w,self.d)\n",
    "    def __add__(self,other):\n",
    "        new_w  = self.w + other.w\n",
    "        new_d = self.w+other.d\n",
    "        obj = house(new_w,new_d)\n",
    "        return obj\n",
    "        \n",
    "h1 = house(2,4)\n",
    "h2 = house(6,2)\n",
    "h1.view()\n",
    "h2.view()\n",
    "h3 = h1 + h2\n",
    "h3.view()"
   ]
  },
  {
   "cell_type": "code",
   "execution_count": 249,
   "metadata": {},
   "outputs": [
    {
     "name": "stdout",
     "output_type": "stream",
     "text": [
      "name: bob id: 23\n",
      "name: carol id: 54\n"
     ]
    }
   ],
   "source": [
    "#75                                  encaptulation\n",
    "class student:\n",
    "    def __init__(self,name,id):\n",
    "        self.name = name\n",
    "        self.id = id\n",
    "    def details(self):\n",
    "        print('name:',self.name,'id:',self.id)\n",
    "\n",
    "s1 = student('bob',23)\n",
    "s2  = student('carol',54)\n",
    "s1.details()\n",
    "s2.details()"
   ]
  },
  {
   "cell_type": "code",
   "execution_count": 251,
   "metadata": {},
   "outputs": [
    {
     "name": "stdout",
     "output_type": "stream",
     "text": [
      "name: bob id: 34534\n",
      "name: carol id: 54\n"
     ]
    }
   ],
   "source": [
    "#76\n",
    "class student:\n",
    "    def __init__(self,name,id):\n",
    "        self.__name = name\n",
    "        self.__id = id\n",
    "    def details(self):\n",
    "        print('name:',self.__name,'id:',self.__id)\n",
    "    def upid(self,id):\n",
    "        if id>0:\n",
    "            self.__id = id\n",
    "        else:\n",
    "            print('invalid id ,enter id again')\n",
    "            \n",
    "\n",
    "s1 = student('bob',23)\n",
    "s2  = student('carol',54)\n",
    "s1.upid(34534)\n",
    "s1.details()\n",
    "s2.details()"
   ]
  },
  {
   "cell_type": "code",
   "execution_count": 254,
   "metadata": {},
   "outputs": [
    {
     "name": "stdout",
     "output_type": "stream",
     "text": [
      "name: bob id: 34534\n",
      "name: carol id: 54\n",
      "34534\n"
     ]
    }
   ],
   "source": [
    "#77\n",
    "class student:\n",
    "    def __init__(self,name,id):\n",
    "        self.__name = name\n",
    "        self.__id = id\n",
    "    def details(self):\n",
    "        print('name:',self.__name,'id:',self.__id)\n",
    "    def set_id(self,id):\n",
    "        if id>0:\n",
    "            self.__id = id\n",
    "        else:\n",
    "            print('invalid id ,enter id again')\n",
    "    def get_id(self):\n",
    "        return self.__id\n",
    "\n",
    "s1 = student('bob',23)\n",
    "s2  = student('carol',54)\n",
    "s1.set_id(34534)\n",
    "s1.details()\n",
    "s2.details()\n",
    "print(s1.get_id())"
   ]
  },
  {
   "cell_type": "code",
   "execution_count": 255,
   "metadata": {},
   "outputs": [
    {
     "name": "stdout",
     "output_type": "stream",
     "text": [
      "5 6\n"
     ]
    }
   ],
   "source": [
    "#78\n",
    "class ABC:\n",
    "    def __init__(self,x,y):\n",
    "        self.__x = x\n",
    "        self.__y = y\n",
    "    def details(self):\n",
    "        print(self.__x,self.__y)\n",
    "a1  = ABC(5,6)\n",
    "a1.details()"
   ]
  },
  {
   "cell_type": "code",
   "execution_count": 258,
   "metadata": {},
   "outputs": [
    {
     "name": "stdout",
     "output_type": "stream",
     "text": [
      "name: bob id: 23\n",
      "private method executed\n",
      "name: carol id: 54\n",
      "private method executed\n"
     ]
    }
   ],
   "source": [
    "#79\n",
    "class student:\n",
    "    def __init__(self,name,id):\n",
    "        self.__name = name\n",
    "        self.__id = id\n",
    "    def details(self):\n",
    "        print('name:',self.__name,'id:',self.__id)\n",
    "        self.__method()\n",
    "    def __method(self):\n",
    "        print('private method executed')\n",
    "    \n",
    "s1 = student('bob',23)\n",
    "s2  = student('carol',54)\n",
    "s1.details()\n",
    "s2.details()"
   ]
  },
  {
   "cell_type": "code",
   "execution_count": 265,
   "metadata": {},
   "outputs": [
    {
     "name": "stdout",
     "output_type": "stream",
     "text": [
      "Total marks: 20\n"
     ]
    }
   ],
   "source": [
    "#80\n",
    "class Exam:\n",
    "    def __init__(self,mark):\n",
    "        self.mark  = mark\n",
    "    def __add__(self,other):\n",
    "        obj = Exam(self.mark+other.mark)\n",
    "        return obj\n",
    "Q1 = Exam(int(input(\"Quiz 1 (out of 10): \"))) \n",
    "Q2 = Exam(int(input(\"Quiz 2 (out of 10): \"))) \n",
    "Lab = Exam(int(input(\"Lab (out of 30): \"))) \n",
    "Mid = Exam(int(input(\"Mid (out of 20): \"))) \n",
    "Final = Exam(int(input(\"Final (out of 30): \"))) \n",
    "total = Q1 + Q2 + Lab + Mid + Final \n",
    "print(\"Total marks: {}\".format(total.mark))"
   ]
  },
  {
   "cell_type": "code",
   "execution_count": 266,
   "metadata": {},
   "outputs": [
    {
     "name": "stdout",
     "output_type": "stream",
     "text": [
      "Total marks: 100\n"
     ]
    }
   ],
   "source": [
    "class Exam:\n",
    "    def __init__(self,mark):\n",
    "        self.mark = mark\n",
    "    def __add__(self,other):\n",
    "        obj = Exam(self.mark+other.mark)\n",
    "        return obj\n",
    "Q1 = Exam(int(input(\"Quiz 1 (out of 10): \"))) \n",
    "Q2 = Exam(int(input(\"Quiz 2 (out of 10): \"))) \n",
    "Lab = Exam(int(input(\"Lab (out of 30): \"))) \n",
    "Mid = Exam(int(input(\"Mid (out of 20): \"))) \n",
    "Final = Exam(int(input(\"Final (out of 30): \"))) \n",
    "total = Q1 + Q2 + Lab + Mid + Final \n",
    "print(\"Total marks: {}\".format(total.mark))"
   ]
  },
  {
   "cell_type": "code",
   "execution_count": 275,
   "metadata": {},
   "outputs": [
    {
     "name": "stdout",
     "output_type": "stream",
     "text": [
      "=======================================================\n",
      "Name: Saad Abdullah\n",
      "Department: CSE\n",
      "List of courses\n",
      "=======================================================\n",
      "CSE 110 Programming Language I\n",
      "CSE 111 Programming Language-II\n",
      "=======================================================\n",
      "=======================================================\n",
      "Name: Mumit Khan\n",
      "Department: CSE\n",
      "List of courses\n",
      "=======================================================\n",
      "CSE 220 Data Structures\n",
      "CSE 221 Algorithms\n",
      "CCSE 230 Discrete Mathematics\n",
      "=======================================================\n",
      "=======================================================\n",
      "Name: Sadia Kazi\n",
      "Department: CSE\n",
      "List of courses\n",
      "=======================================================\n",
      "CSE 310 Object Oriented Programming\n",
      "CSE 320 Data Communications\n",
      "CSE 340 Computer Architecture\n",
      "=======================================================\n"
     ]
    }
   ],
   "source": [
    "#81\n",
    "class Teacher:\n",
    "    def __init__(self,name,dep):\n",
    "        self.__name = name\n",
    "        self.__dep = dep\n",
    "        self.course = []\n",
    "    def addCourse(self,other):\n",
    "        self.course.append(other.course)\n",
    "    def printDetail(self):\n",
    "        print('=======================================================')\n",
    "        print('Name:',self.__name)\n",
    "        print('Department:',self.__dep)\n",
    "        print('List of courses')\n",
    "        print('=======================================================')\n",
    "        for i in self.course:\n",
    "            print(i)\n",
    "        print('=======================================================')\n",
    "class Course:\n",
    "    def __init__(self,course):\n",
    "        self.course = course\n",
    "t1 = Teacher(\"Saad Abdullah\", \"CSE\")\n",
    "t2 = Teacher(\"Mumit Khan\", \"CSE\")\n",
    "t3 = Teacher(\"Sadia Kazi\", \"CSE\")\n",
    "c1 = Course(\"CSE 110 Programming Language I\") \n",
    "c2 = Course(\"CSE 111 Programming Language-II\") \n",
    "c3 = Course(\"CSE 220 Data Structures\")\n",
    "c4 = Course(\"CSE 221 Algorithms\")\n",
    "c5 = Course(\"CCSE 230 Discrete Mathematics\") \n",
    "c6 = Course(\"CSE 310 Object Oriented Programming\")\n",
    "c7 = Course(\"CSE 320 Data Communications\") \n",
    "c8 = Course(\"CSE 340 Computer Architecture\") \n",
    "t1.addCourse(c1)\n",
    "t1.addCourse(c2)\n",
    "t2.addCourse(c3)\n",
    "t2.addCourse(c4)\n",
    "t2.addCourse(c5)\n",
    "t3.addCourse(c6)\n",
    "t3.addCourse(c7)\n",
    "t3.addCourse(c8)\n",
    "t1.printDetail()\n",
    "t2.printDetail()\n",
    "t3.printDetail()"
   ]
  },
  {
   "cell_type": "code",
   "execution_count": 282,
   "metadata": {},
   "outputs": [
    {
     "name": "stdout",
     "output_type": "stream",
     "text": [
      "==================================================\n",
      "Team:  Bangladesh\n",
      "List of Players\n",
      "['Mashrafi', 'Tamim']\n",
      "==================================================\n",
      "==================================================\n",
      "Team:  Australia\n",
      "List of Players\n",
      "['Ponting', 'Lee']\n",
      "==================================================\n"
     ]
    }
   ],
   "source": [
    "#82\n",
    "class Team:\n",
    "    def __init__(self,name = None):\n",
    "        self.__name = name\n",
    "        self.__player = []\n",
    "    def setName(self,name):\n",
    "        self.__name = name\n",
    "    def addPlayer(self,p_name):\n",
    "        self.__player.append(p_name.player)\n",
    "    def printDetail(self):\n",
    "        print('==================================================')\n",
    "        print('Team: ',self.__name)\n",
    "        print('List of Players')\n",
    "        print(self.__player)\n",
    "        print('==================================================')\n",
    "class Player:\n",
    "    def __init__(self,player):\n",
    "        self.player = player\n",
    "b = Team() \n",
    "b.setName('Bangladesh') \n",
    "mashrafi = Player(\"Mashrafi\") \n",
    "b.addPlayer(mashrafi)\n",
    "tamim = Player(\"Tamim\") \n",
    "b.addPlayer(tamim) \n",
    "b.printDetail()\n",
    "a = Team(\"Australia\")\n",
    "ponting = Player(\"Ponting\") \n",
    "a.addPlayer(ponting)\n",
    "lee = Player(\"Lee\") \n",
    "a.addPlayer(lee) \n",
    "a.printDetail()"
   ]
  },
  {
   "cell_type": "code",
   "execution_count": 283,
   "metadata": {},
   "outputs": [
    {
     "name": "stdout",
     "output_type": "stream",
     "text": [
      "Color formed: Orange\n"
     ]
    }
   ],
   "source": [
    "#83\n",
    "class  Color:\n",
    "    def __init__(self,clr):\n",
    "        self.clr = clr\n",
    "\n",
    "    def __add__(self,other):\n",
    "        if self.clr == 'red' or self.clr == 'blue' or self.clr == 'yellow' and other.clr == 'red' or other.clr == 'blue' or other.clr == 'yellow':\n",
    "            if self.clr and other.clr == 'yellow':\n",
    "                return Color('Orange')\n",
    "            elif self.clr == 'red' and other.clr == 'blue':\n",
    "                return Color('Violet')\n",
    "            elif self.clr == 'yellow' and other.clr == 'blue':\n",
    "                return Color(\"Greeen\")\n",
    "C1 = Color(input(\"First Color: \").lower()) \n",
    "C2 = Color(input(\"Second Color: \").lower()) \n",
    "C3 = C1 + C2\n",
    "print(\"Color formed:\", C3.clr)"
   ]
  },
  {
   "cell_type": "code",
   "execution_count": 289,
   "metadata": {},
   "outputs": [
    {
     "name": "stdout",
     "output_type": "stream",
     "text": [
      "First circle radius: 4\n",
      "First circle area: 50.26548245743669\n",
      "Second circle radius: 5\n",
      "Second circle area: 78.53981633974483\n",
      "Third circle radius: 9\n",
      "Third circle area: 254.46900494077323\n"
     ]
    }
   ],
   "source": [
    "#84\n",
    "import math\n",
    "class Circle:\n",
    "    def __init__(self,redius):\n",
    "        self.__redius = redius\n",
    "    def getRadius(self):\n",
    "        return self.__redius\n",
    "    def area(self):\n",
    "        return math.pi*self.__redius**2\n",
    "    def __add__(self,other):\n",
    "        obj = Circle(self.__redius + other.__redius)\n",
    "        return obj\n",
    "c1 = Circle(4)\n",
    "print(\"First circle radius:\" , c1.getRadius()) \n",
    "print(\"First circle area:\" , c1.area())\n",
    "c2 = Circle(5)\n",
    "print(\"Second circle radius:\" , c2.getRadius()) \n",
    "print(\"Second circle area:\" , c2.area())\n",
    "c3 = c1 + c2\n",
    "print(\"Third circle radius:\" , c3.getRadius()) \n",
    "print(\"Third circle area:\" , c3.area())"
   ]
  },
  {
   "cell_type": "code",
   "execution_count": 297,
   "metadata": {},
   "outputs": [
    {
     "name": "stdout",
     "output_type": "stream",
     "text": [
      "First Triangle Base: 10\n",
      "First Triangle Height: 5\n",
      "First Triangle area: 25.0\n",
      "Second Triangle Base: 5\n",
      "Second Triangle Height: 3\n",
      "Second Triangle area: 7.5\n",
      "Third Triangle Base: 5\n",
      "Third Triangle Height: 2\n",
      "Third Triangle area: 5.0\n"
     ]
    }
   ],
   "source": [
    "#85\n",
    "class Triangle:\n",
    "    def __init__(self,base,height):\n",
    "        self.__base = base\n",
    "        self.__height = height\n",
    "    def getBase(self):\n",
    "        return self.__base\n",
    "    def getHeight(self):\n",
    "        return self.__height\n",
    "    def area(self):\n",
    "        obj = ((self.__base*self.__height)/2)\n",
    "        return obj\n",
    "    def __sub__(self,other):\n",
    "        self.__base = self.__base - other.__base\n",
    "        self.__height = self.__height - other.__height\n",
    "        oj = Triangle(self.__base,self.__height)\n",
    "        return oj\n",
    "t1 = Triangle(10, 5)\n",
    "print(\"First Triangle Base:\" , t1.getBase()) \n",
    "print(\"First Triangle Height:\" , t1.getHeight()) \n",
    "print(\"First Triangle area:\" ,t1.area())\n",
    "t2 = Triangle(5, 3)\n",
    "print(\"Second Triangle Base:\" , t2.getBase()) \n",
    "print(\"Second Triangle Height:\" , t2.getHeight()) \n",
    "print(\"Second Triangle area:\" ,t2.area())\n",
    "t3 = t1 - t2\n",
    "print(\"Third Triangle Base:\" , t3.getBase()) \n",
    "print(\"Third Triangle Height:\" , t3.getHeight()) \n",
    "print(\"Third Triangle area:\" ,t3.area())"
   ]
  },
  {
   "cell_type": "code",
   "execution_count": 307,
   "metadata": {},
   "outputs": [
    {
     "name": "stdout",
     "output_type": "stream",
     "text": [
      "Doll: Tweety \n",
      "Total price: 2500\n",
      "Thank you!\n",
      "=========================\n",
      "Doll: Daffy Duck \n",
      "Total price: 1800\n",
      "Thank you!\n",
      "=========================\n",
      "Doll: Bugs Bunny \n",
      "Total price: 3000\n",
      "Congratulations! You get the Tweety as a gift!\n",
      "=========================\n",
      "Doll: Porky Pig \n",
      "Total price: 1500\n",
      "Thank you!\n",
      "=========================\n",
      "Doll: Daffy Duck Bugs Bunny \n",
      "Total price: 4800\n",
      "Congratulations! You get the Tweety as a gift!\n"
     ]
    }
   ],
   "source": [
    "#86\n",
    "class Dolls:\n",
    "    def __init__(self,name,taka):\n",
    "        self.name = name\n",
    "        self.taka = taka\n",
    "    def detail(self):\n",
    "        return f\"Doll: {self.name} \\nTotal price: {self.taka}\"\n",
    "    def __gt__(self,other):\n",
    "        if self.taka>other.taka:\n",
    "            return True\n",
    "        else:\n",
    "            return False\n",
    "    def __add__(self,other):\n",
    "        self.name = f\"{self.name} {other.name}\"\n",
    "        self.taka = self.taka + other.taka\n",
    "        obj  = Dolls(self.name,self.taka)\n",
    "        return obj\n",
    "        \n",
    "obj_1 = Dolls(\"Tweety\", 2500)\n",
    "print(obj_1.detail())\n",
    "if obj_1 > obj_1:\n",
    "    print(\"Congratulations! You get the Tweety as a gift!\")\n",
    "else:\n",
    "    print(\"Thank you!\")\n",
    "\n",
    "print(\"=========================\")\n",
    "obj_2 = Dolls(\"Daffy Duck\", 1800)\n",
    "print(obj_2.detail())\n",
    "if obj_2 > obj_1:\n",
    "    print(\"Congratulations! You get the Tweety as a gift!\")\n",
    "else:\n",
    "    print(\"Thank you!\")\n",
    "\n",
    "print(\"=========================\")\n",
    "obj_3 = Dolls(\"Bugs Bunny\", 3000)\n",
    "print(obj_3.detail())\n",
    "if obj_3 > obj_1:\n",
    "    print(\"Congratulations! You get the Tweety as a gift!\")\n",
    "else:\n",
    "    print(\"Thank you!\")\n",
    "\n",
    "print(\"=========================\")\n",
    "obj_4 = Dolls(\"Porky Pig\", 1500)\n",
    "print(obj_4.detail())\n",
    "if obj_4 > obj_1:\n",
    "    print(\"Congratulations! You get the Tweety as a gift!\")\n",
    "else:\n",
    "    print(\"Thank you!\")\n",
    "\n",
    "print(\"=========================\")\n",
    "obj_5 = obj_2 + obj_3\n",
    "print(obj_5.detail())\n",
    "if obj_5 > obj_1:\n",
    "    print(\"Congratulations! You get the Tweety as a gift!\")\n",
    "else:\n",
    "    print(\"Thank you!\")"
   ]
  },
  {
   "cell_type": "code",
   "execution_count": 316,
   "metadata": {},
   "outputs": [
    {
     "name": "stdout",
     "output_type": "stream",
     "text": [
      "(0,0)\n",
      "(0,0)\n",
      "the calculation is same\n"
     ]
    }
   ],
   "source": [
    "#87\n",
    "class Coordinates:\n",
    "    def __init__(self,m,n):\n",
    "        self.m = m\n",
    "        self.n = n\n",
    "    def __sub__(self,other):\n",
    "        return Coordinates(self.m - other.m , self.m - other.n)\n",
    "    def __mul__(self,other):\n",
    "        return Coordinates(self.m * other.m , self.n * other.n)\n",
    "    def detail(self):\n",
    "        return f\"({self.m},{self.n})\"\n",
    "    def __eq__(self,other):\n",
    "        if self.m == other.m and self.n == other.n:\n",
    "            return f'the calculation is same'\n",
    "        else:\n",
    "            return f'not name'\n",
    "p1 = Coordinates(int(input()),int(input())) \n",
    "p2 = Coordinates(int(input()),int(input()))\n",
    "p4 = p1 - p2 \n",
    "print(p4.detail())\n",
    "p5 = p1 * p2 \n",
    "print(p5.detail())\n",
    "point_check = (p4 == p5) \n",
    "print(point_check)"
   ]
  },
  {
   "cell_type": "code",
   "execution_count": 319,
   "metadata": {},
   "outputs": [
    {
     "name": "stdout",
     "output_type": "stream",
     "text": [
      "4\n",
      "6\n",
      "10\n"
     ]
    }
   ],
   "source": [
    "#88\n",
    "class Player:\n",
    "    team_run = 0   #class or static variable\n",
    "    def __init__(self,run):\n",
    "        self.run = run\n",
    "    def hit_four(self):\n",
    "        self.run+=4\n",
    "        Player.team_run+=4\n",
    "    def hit_six(self):\n",
    "        self.run+=6\n",
    "        Player.team_run+=6\n",
    "\n",
    "sakib = Player(0)\n",
    "tamim = Player(0)\n",
    "sakib.hit_four()\n",
    "tamim.hit_six()\n",
    "print(sakib.run)\n",
    "print(tamim.run)\n",
    "print(Player.team_run)"
   ]
  },
  {
   "cell_type": "code",
   "execution_count": 323,
   "metadata": {},
   "outputs": [
    {
     "name": "stdout",
     "output_type": "stream",
     "text": [
      "0\n",
      "bob 32\n",
      "3\n"
     ]
    }
   ],
   "source": [
    "#89\n",
    "class student:\n",
    "    counter = 0\n",
    "    def __init__(self,name,id):\n",
    "        self.name = name\n",
    "        self.id = id\n",
    "        student.counter+=1\n",
    "    def details(self):\n",
    "        print(self.name,self.id)\n",
    "print(student.counter)\n",
    "s1 = student('bob',32)\n",
    "s2 = student('mike',54)\n",
    "s3 = student('carol',65)\n",
    "s1.details()\n",
    "print(student.counter)"
   ]
  },
  {
   "cell_type": "code",
   "execution_count": 328,
   "metadata": {},
   "outputs": [
    {
     "name": "stdout",
     "output_type": "stream",
     "text": [
      "bob 32 BRACU\n"
     ]
    }
   ],
   "source": [
    "#90\n",
    "class student:\n",
    "    uni_name = \"Brac University\"\n",
    "    def __init__(self,name,id):\n",
    "        self.name = name\n",
    "        self.id = id\n",
    "    def details(self):\n",
    "        print(self.name,self.id, student.uni_name)\n",
    "    @classmethod\n",
    "    def up_uni_name(cls,uni_name):\n",
    "        cls.uni_name = uni_name\n",
    "        return cls.uni_name\n",
    "        \n",
    "s1 = student('bob',32)\n",
    "s2 = student('mike',54)\n",
    "s3 = student('carol',65)\n",
    "student.up_uni_name('BRACU')\n",
    "s1.details()\n"
   ]
  },
  {
   "cell_type": "code",
   "execution_count": 334,
   "metadata": {},
   "outputs": [
    {
     "name": "stdout",
     "output_type": "stream",
     "text": [
      "carol 47 Brac University\n"
     ]
    }
   ],
   "source": [
    "#91\n",
    "class student:\n",
    "    uni_name = \"Brac University\"\n",
    "    def __init__(self,name,id):\n",
    "        self.name = name\n",
    "        self.id = id\n",
    "    def details(self):\n",
    "        print(self.name,self.id, student.uni_name)\n",
    "    @classmethod\n",
    "    def up_uni_name(cls,uni_name):\n",
    "        cls.uni_name = uni_name\n",
    "        return cls.uni_name\n",
    "    @classmethod\n",
    "    def from_string(cls,info):\n",
    "        name,id = info.split('-')\n",
    "        obj = cls(name,id)\n",
    "        return obj\n",
    "s1 = student('bob',32)\n",
    "s2 = student.from_string('carol-47')   \n",
    "\n",
    "s2.details()"
   ]
  },
  {
   "cell_type": "code",
   "execution_count": 342,
   "metadata": {},
   "outputs": [
    {
     "name": "stdout",
     "output_type": "stream",
     "text": [
      "ID: 1\n",
      "Name: Samin\n",
      "Department: CSE\n",
      "Age: 21\n",
      "CGPA: 3.91\n",
      "-----------------------\n",
      "ID: 2\n",
      "Name: Fahim\n",
      "Department: ECE\n",
      "Age: 21\n",
      "CGPA: 3.85\n",
      "-----------------------\n",
      "ID: 3\n",
      "Name: Tahura\n",
      "Department: EEE\n",
      "Age: 22\n",
      "CGPA: 3.01\n",
      "-----------------------\n",
      "ID: 4\n",
      "Name: Sumaiya\n",
      "Department: BBA\n",
      "Age: 23\n",
      "CGPA: 3.96\n"
     ]
    }
   ],
   "source": [
    "#92\n",
    "class Student:\n",
    "    ID = 0\n",
    "\n",
    "    def __init__(self,name,dep,age,cgpa):\n",
    "        self.name = name\n",
    "        self.dept = dep\n",
    "        self.age = age\n",
    "        self.cgpa = cgpa\n",
    "        Student.ID += 1\n",
    "\n",
    "    def get_details(self):\n",
    "        print(f'ID: {Student.ID}\\nName: {self.name}\\nDepartment: {self.dept}\\nAge: {self.age}\\nCGPA: {self.cgpa}')\n",
    "\n",
    "    @classmethod\n",
    "    def from_String(cls, string):\n",
    "        name,dep,age,cgpa = string.split('-')\n",
    "        n_student = cls(name,dep,age,cgpa)\n",
    "        return n_student\n",
    "s1 = Student(\"Samin\", \"CSE\", 21, 3.91) \n",
    "s1.get_details() \n",
    "print(\"-----------------------\") \n",
    "s2 = Student(\"Fahim\", \"ECE\", 21, 3.85) \n",
    "s2.get_details() \n",
    "print(\"-----------------------\") \n",
    "s3 = Student(\"Tahura\", \"EEE\", 22, 3.01) \n",
    "s3.get_details()  \n",
    "print(\"-----------------------\") \n",
    "s4 = Student.from_String(\"Sumaiya-BBA-23-3.96\") \n",
    "s4.get_details()"
   ]
  },
  {
   "cell_type": "code",
   "execution_count": 344,
   "metadata": {},
   "outputs": [
    {
     "name": "stdout",
     "output_type": "stream",
     "text": [
      "1\n",
      "Samin\n",
      "CSE\n",
      "21\n",
      "3.91\n",
      "-----------------------\n",
      "2\n",
      "Fahim\n",
      "ECE\n",
      "21\n",
      "3.85\n",
      "-----------------------\n",
      "3\n",
      "Tahura\n",
      "EEE\n",
      "22\n",
      "3.01\n",
      "-----------------------\n",
      "4\n",
      "Sumaiya\n",
      "BBA\n",
      "23\n",
      "3.96\n"
     ]
    }
   ],
   "source": [
    "######\n",
    "class Student:\n",
    "    Id = 0\n",
    "    def __init__(self,name,dep,age,cg):\n",
    "        self.name = name\n",
    "        self.dep = dep\n",
    "        self.age = age\n",
    "        self.cg = cg\n",
    "        Student.Id+=1\n",
    "    def get_details(self):\n",
    "        print(Student.Id)\n",
    "        print(self.name)\n",
    "        print(self.dep)\n",
    "        print(self.age)\n",
    "        print(self.cg)\n",
    "    @classmethod\n",
    "    def from_String(cls,info):\n",
    "        name,dep,age,cg = info.split('-')\n",
    "        obj = cls(name,dep,age,cg)\n",
    "        return obj\n",
    "s1 = Student(\"Samin\", \"CSE\", 21, 3.91) \n",
    "s1.get_details() \n",
    "print(\"-----------------------\") \n",
    "s2 = Student(\"Fahim\", \"ECE\", 21, 3.85) \n",
    "s2.get_details() \n",
    "print(\"-----------------------\") \n",
    "s3 = Student(\"Tahura\", \"EEE\", 22, 3.01) \n",
    "s3.get_details()  \n",
    "print(\"-----------------------\") \n",
    "s4 = Student.from_String(\"Sumaiya-BBA-23-3.96\") \n",
    "s4.get_details()"
   ]
  },
  {
   "cell_type": "code",
   "execution_count": 353,
   "metadata": {},
   "outputs": [
    {
     "name": "stdout",
     "output_type": "stream",
     "text": [
      "name: John Wick\n",
      "Success rate: 100 %\n",
      "Total number of assassin: 1\n",
      "================================\n",
      "name: Nagisa\n",
      "Success rate: 80 %\n",
      "Total number of assassin: 2\n",
      "================================\n",
      "name: Akabane\n",
      "Success rate: 90 %\n",
      "Total number of assassin: 3\n"
     ]
    }
   ],
   "source": [
    "#93\n",
    "class Assassin:\n",
    "    counter = 0\n",
    "    def __init__ (self,name,n):\n",
    "        self.name = name\n",
    "        self.n = n\n",
    "        Assassin.counter+=1\n",
    "    def printDetails(self):\n",
    "        print('name:',self.name)\n",
    "        print('Success rate:',self.n,'%')\n",
    "        print('Total number of assassin:',Assassin.counter)\n",
    "    @classmethod\n",
    "    def failureRate(cls,name,pr):\n",
    "        obj = cls(name,100-pr)\n",
    "        return obj\n",
    "    @classmethod\n",
    "    def failurePercentage(cls,name,fp):\n",
    "        fail = int(fp[ :-1])\n",
    "        obj = cls(name,100-fail)\n",
    "        return obj\n",
    "\n",
    "john_wick = Assassin('John Wick', 100) \n",
    "john_wick.printDetails() \n",
    "print('================================') \n",
    "nagisa = Assassin.failureRate(\"Nagisa\", 20) \n",
    "nagisa.printDetails() \n",
    "print('================================') \n",
    "akabane = Assassin.failurePercentage(\"Akabane\", \"10%\") \n",
    "akabane.printDetails()"
   ]
  },
  {
   "cell_type": "code",
   "execution_count": 358,
   "metadata": {},
   "outputs": [
    {
     "name": "stdout",
     "output_type": "stream",
     "text": [
      "Total Passenger: 0\n",
      "=========================\n",
      "name: Jack\n",
      "rate 520\n",
      "=========================\n",
      "name: Carol\n",
      "rate 450\n",
      "=========================\n",
      "name: Mike\n",
      "rate 455\n",
      "=========================\n",
      "Total Passenger: 3\n"
     ]
    }
   ],
   "source": [
    "#94\n",
    "class Passenger:\n",
    "    count = 0\n",
    "    def __init__(self,name):\n",
    "        self.name = name\n",
    "        Passenger.count+=1\n",
    "        self.rate = 450\n",
    "    def printDetail(self):\n",
    "        print('name:',self.name)\n",
    "        print('rate',self.rate)\n",
    "\n",
    "    def set_bag_weight(self,w):\n",
    "        self.b = w\n",
    "        if self.b<=20:\n",
    "            self.rate+=0\n",
    "        elif self.b>20:\n",
    "            self.rate+=(self.b-20)\n",
    "print(\"Total Passenger:\", Passenger.count) \n",
    "p1 = Passenger(\"Jack\") \n",
    "p1.set_bag_weight(90) \n",
    "p2 = Passenger(\"Carol\") \n",
    "p2.set_bag_weight(10) \n",
    "p3 = Passenger(\"Mike\") \n",
    "p3.set_bag_weight(25) \n",
    "print(\"=========================\") \n",
    "p1.printDetail() \n",
    "print(\"=========================\") \n",
    "p2.printDetail() \n",
    "print(\"=========================\") \n",
    "p3.printDetail() \n",
    "print(\"=========================\") \n",
    "print(\"Total Passenger:\", Passenger.count) "
   ]
  },
  {
   "cell_type": "code",
   "execution_count": 362,
   "metadata": {},
   "outputs": [
    {
     "name": "stdout",
     "output_type": "stream",
     "text": [
      "No. of Traveller = 0\n",
      "=======================\n",
      "Source:,Dhaka \n",
      "Distination: India \n",
      "Flight Time: 1\n",
      "=======================\n",
      "Source:,Kuala Lampur \n",
      "Distination: Dhaka \n",
      "Flight Time: 23\n",
      "=======================\n",
      "Source:,Dhaka \n",
      "Distination: Germany \n",
      "Flight Time: 15\n",
      "=======================\n",
      "Source:,Malaysia \n",
      "Distination: Canada \n",
      "Flight Time: 9\n",
      "=======================\n",
      "No. of Traveller = 4\n"
     ]
    }
   ],
   "source": [
    "#95\n",
    "class Travel:\n",
    "    count  = 0 \n",
    "    def __init__(self,s,d):\n",
    "        self.source = s\n",
    "        self.distination = d\n",
    "        Travel.count+=1\n",
    "        self.time  = 1\n",
    "    def display_travel_info(self):\n",
    "        return f\"Source:,{self.source} \\nDistination: {self.distination} \\nFlight Time: {self.time}\"\n",
    "    def set_time(self,time):\n",
    "        self.time = time\n",
    "    def set_destination(self,d):\n",
    "        self.distination = d\n",
    "    def set_source(self,s):\n",
    "        self.source = s\n",
    "print(\"No. of Traveller =\", Travel.count) \n",
    "print(\"=======================\") \n",
    "t1 = Travel(\"Dhaka\",\"India\") \n",
    "print(t1.display_travel_info()) \n",
    "print(\"=======================\") \n",
    "t2 = Travel(\"Kuala Lampur\",\"Dhaka\") \n",
    "t2.set_time(23) \n",
    "print(t2.display_travel_info()) \n",
    "print(\"=======================\") \n",
    "t3 = Travel(\"Dhaka\",\"New_Zealand\") \n",
    "t3.set_time(15) \n",
    "t3.set_destination(\"Germany\") \n",
    "print(t3.display_travel_info()) \n",
    "print(\"=======================\") \n",
    "t4 = Travel(\"Dhaka\",\"India\") \n",
    "t4.set_time(9) \n",
    "t4.set_source(\"Malaysia\") \n",
    "t4.set_destination(\"Canada\") \n",
    "print(t4.display_travel_info()) \n",
    "print(\"=======================\") \n",
    "print(\"No. of Traveller =\", Travel.count) "
   ]
  },
  {
   "cell_type": "code",
   "execution_count": 368,
   "metadata": {},
   "outputs": [
    {
     "name": "stdout",
     "output_type": "stream",
     "text": [
      "3\n",
      "6\n",
      "Dororo\n",
      "Harry\n",
      "He is not expreienced\n",
      "she is experienced\n"
     ]
    }
   ],
   "source": [
    "#96\n",
    "class Employee:\n",
    "    def __init__(self,name,workingPeriod):\n",
    "        self.name = name\n",
    "        self.workingPeriod = workingPeriod\n",
    "    @classmethod\n",
    "    def employeeByJoiningYear(cls,name,year):\n",
    "        ex = 2022-year\n",
    "        return cls(name,ex)\n",
    "    @staticmethod\n",
    "    def experienceCheck(year,gender):\n",
    "        if year < 3:\n",
    "            if gender == 'male':\n",
    "                return f\"He is not expreienced\"\n",
    "            elif gender == 'female':\n",
    "                return f\"She is not experienced\"\n",
    "        else:\n",
    "            if gender == \"male\":\n",
    "                return f\"He is experienced\"\n",
    "            elif gender == \"female\":\n",
    "                return f\"she is experienced\"\n",
    "employee1 = Employee('Dororo', 3) \n",
    "employee2 = Employee.employeeByJoiningYear('Harry', 2016) \n",
    "print(employee1.workingPeriod) \n",
    "print(employee2.workingPeriod) \n",
    "print(employee1.name) \n",
    "print(employee2.name) \n",
    "print(Employee.experienceCheck(2, \"male\")) \n",
    "print(Employee.experienceCheck(3, \"female\"))"
   ]
  },
  {
   "cell_type": "code",
   "execution_count": 379,
   "metadata": {},
   "outputs": [
    {
     "name": "stdout",
     "output_type": "stream",
     "text": [
      "Lenovo 5\n",
      "Dell 7\n",
      "Total number of Laptops 12\n",
      "Laptops are portable\n",
      "Total number of Laptops 0\n"
     ]
    }
   ],
   "source": [
    "#97\n",
    "class Laptop:\n",
    "    laptopCount = 0\n",
    "    def __init__(self,name,n):\n",
    "        self.name = name\n",
    "        self.count = n\n",
    "        Laptop.laptopCount+=n\n",
    "    @staticmethod\n",
    "    def advantage( ):\n",
    "        print(f\"Laptops are portable\")\n",
    "    @classmethod\n",
    "    def resetCount(cls):\n",
    "        Laptop.laptopCount = 0\n",
    "\n",
    "        \n",
    "        \n",
    "lenovo = Laptop(\"Lenovo\", 5); \n",
    "dell = Laptop(\"Dell\", 7); \n",
    "print(lenovo.name, lenovo.count) \n",
    "print(dell.name, dell.count) \n",
    "print(\"Total number of Laptops\", Laptop.laptopCount) \n",
    "Laptop.advantage() \n",
    "Laptop.resetCount() \n",
    "print(\"Total number of Laptops\", Laptop.laptopCount)"
   ]
  },
  {
   "cell_type": "code",
   "execution_count": 385,
   "metadata": {},
   "outputs": [
    {
     "name": "stdout",
     "output_type": "stream",
     "text": [
      "Total number of cats: 0\n",
      "=======================\n",
      "sitting cat is White\n",
      "Black cat is sitting\n",
      "Brown cat is jumping\n",
      "Red cat is purring\n",
      "Grey cat is playing\n",
      "Blue cat is White\n",
      "Purple cat is jumping\n",
      "=======================\n",
      "Total number of cats: 5\n"
     ]
    }
   ],
   "source": [
    "#98\n",
    "class Cat:\n",
    "    Number_of_cats = 0\n",
    "    def __init__(self,name,action):\n",
    "        self.name = name\n",
    "        self.action = action\n",
    "        Cat.Number_of_cats+=1\n",
    "    @classmethod\n",
    "    def no_parameter(cls):\n",
    "        name = 'sitting'\n",
    "        action = 'White'\n",
    "        return cls(name,action)\n",
    "    @classmethod\n",
    "    def first_parameter(cls,name):\n",
    "        action = 'sitting'\n",
    "        return cls(name,action)\n",
    "    @classmethod\n",
    "    def second_parameter(cls,action):\n",
    "        name = 'Grey'\n",
    "        return cls(name,action)\n",
    "    def printCat(self):\n",
    "        print(f\"{self.name} cat is {self.action}\")\n",
    "    def changeColor(self,color):\n",
    "        self.name = color\n",
    "    \n",
    "print(\"Total number of cats:\", Cat.Number_of_cats) \n",
    "c1 = Cat.no_parameter() \n",
    "c2 = Cat.first_parameter(\"Black\") \n",
    "c3 = Cat(\"Brown\", \"jumping\") \n",
    "c4 = Cat(\"Red\", \"purring\") \n",
    "c5 = Cat.second_parameter(\"playing\") \n",
    "print(\"=======================\") \n",
    "c1.printCat() \n",
    "c2.printCat() \n",
    "c3.printCat() \n",
    "c4.printCat() \n",
    "c5.printCat() \n",
    "c1.changeColor(\"Blue\") \n",
    "c3.changeColor(\"Purple\") \n",
    "c1.printCat() \n",
    "c3.printCat() \n",
    "print(\"=======================\") \n",
    "print(\"Total number of cats:\", Cat.Number_of_cats) "
   ]
  },
  {
   "cell_type": "code",
   "execution_count": 394,
   "metadata": {},
   "outputs": [
    {
     "name": "stdout",
     "output_type": "stream",
     "text": [
      "d 5 dh 18\n",
      "0 0\n",
      "Area: 0.0\n",
      "valume: 0.0\n",
      "===============================\n",
      "d 0 dh 0\n",
      "8 3\n",
      "Area: 420.97341558103227\n",
      "valume: 603.1857894892403\n",
      "===============================\n",
      "d 8 dh 3\n",
      "7 13\n",
      "Area: 389.55748904513433\n",
      "valume: 2001.1945203366981\n",
      "===============================\n",
      "d 7 dh 13\n",
      "0.3 5.56\n",
      "Area: 35.49999698556466\n",
      "===============================\n",
      "d 0.3 dh 5.56\n",
      "3 5\n",
      "valume: 141.3716694115407\n"
     ]
    }
   ],
   "source": [
    "#99\n",
    "import math\n",
    "class Cylinder:\n",
    "    radius = 5\n",
    "    height = 18\n",
    "    \n",
    "    def __init__(self,r,h):\n",
    "        self.radius  = r\n",
    "        self.height = h\n",
    "        \n",
    "        print('d',Cylinder.radius,'dh',Cylinder.height)\n",
    "        Cylinder.radius = self.radius\n",
    "        Cylinder.height = self.height\n",
    "        print(self.radius,self.height)\n",
    "    @staticmethod\n",
    "    def area(r,h):\n",
    "        area = 2*math.pi*r**2+2*math.pi*h\n",
    "        print('Area:',area)\n",
    "    @staticmethod\n",
    "    def volume(r,h):\n",
    "        v = math.pi*r**2*h\n",
    "        print('valume:',v)\n",
    "    @classmethod\n",
    "    def swap(cls,r,h):\n",
    "        return cls(r,h)\n",
    "    @classmethod\n",
    "    def changeFormat(cls,info):\n",
    "        h,r = info.split('-')\n",
    "        return cls(int(h),int(r))\n",
    "c1 = Cylinder(0,0) \n",
    "Cylinder.area(c1.radius,c1.height) \n",
    "Cylinder.volume(c1.radius,c1.height) \n",
    "print(\"===============================\") \n",
    "c2 = Cylinder.swap(8,3) \n",
    "c2.area(c2.radius,c2.height) \n",
    "c2.volume(c2.radius,c2.height) \n",
    "print(\"===============================\") \n",
    "c3 = Cylinder.changeFormat(\"7-13\") \n",
    "c3.area(c3.radius,c3.height) \n",
    "c3.volume(c3.radius,c3.height) \n",
    "print(\"===============================\") \n",
    "Cylinder(0.3,5.56).area(Cylinder.radius,Cylinder.height) \n",
    "print(\"===============================\") \n",
    "Cylinder(3,5).volume(Cylinder.radius,Cylinder.height)"
   ]
  },
  {
   "cell_type": "code",
   "execution_count": 396,
   "metadata": {},
   "outputs": [
    {
     "name": "stdout",
     "output_type": "stream",
     "text": [
      "name: bob id: 11\n",
      "BracU\n",
      "name: carol id: 47\n",
      "BracU\n",
      "CSE\n"
     ]
    }
   ],
   "source": [
    "#100\n",
    "class student:\n",
    "    uni_name  = 'BracU'\n",
    "    def __init__(self,name,id):\n",
    "        self.name = name\n",
    "        self.__id = id\n",
    "    def details(self):\n",
    "        print('name:',self.name,'id:',self.__id)\n",
    "        print(student.uni_name)\n",
    "    @classmethod\n",
    "    def changeuni_name(cls,name):\n",
    "        return cls(name)\n",
    "    @staticmethod\n",
    "    def check_dep(id):\n",
    "        if id[3:5] == '01' : print('CSE')\n",
    "        elif id[3:5] == '47' : print('CS')\n",
    "        \n",
    "s1 = student('bob',11)\n",
    "s2 = student('carol',47)\n",
    "s1.details()\n",
    "s2.details()\n",
    "student.check_dep('21301586')"
   ]
  },
  {
   "cell_type": "code",
   "execution_count": 403,
   "metadata": {},
   "outputs": [
    {
     "name": "stdout",
     "output_type": "stream",
     "text": [
      "rover is eating\n",
      "rover is barking\n",
      "False\n",
      "ok\n"
     ]
    }
   ],
   "source": [
    "#101\n",
    "class animal:\n",
    "    def __init__(self,name):\n",
    "        self.name = name\n",
    "    def eat(self):\n",
    "        print(self.name, 'is eating')\n",
    "class dog(animal):\n",
    "    def bark(self):\n",
    "        print(self.name,'is barking')\n",
    "a1 = animal('jack')\n",
    "d1 = dog('rover')\n",
    "d1.eat()\n",
    "d1.bark()\n",
    "print(issubclass(animal,dog))\n",
    "print('ok')"
   ]
  },
  {
   "cell_type": "code",
   "execution_count": 410,
   "metadata": {},
   "outputs": [
    {
     "name": "stdout",
     "output_type": "stream",
     "text": [
      "name bob id 21\n",
      "name carol id 36\n",
      "cse student always caring beacuse of 3\n",
      "All day party\n"
     ]
    }
   ],
   "source": [
    "#102\n",
    "class student:\n",
    "    def __init__(self,name,id):\n",
    "        self.name = name\n",
    "        self.id = id\n",
    "    def details(self):\n",
    "        print('name',self.name,'id',self.id)\n",
    "        \n",
    "class csestudent(student):\n",
    "    def __init__(self,name,id,labs):\n",
    "        super().__init__(name,id)\n",
    "        self.no_of_labs = labs\n",
    "    def cry(self):\n",
    "        print('cse student always caring beacuse of',self.no_of_labs)\n",
    "class bbastudent(student):\n",
    "    def party(self):\n",
    "        print('All day party')\n",
    "\n",
    "s1  = csestudent('bob',21,3)\n",
    "s2 = bbastudent('carol',36)\n",
    "s1.details()\n",
    "s2.details()\n",
    "s1.cry()\n",
    "s2.party()\n",
    "#print(help(s1))\n",
    "        "
   ]
  },
  {
   "cell_type": "code",
   "execution_count": 413,
   "metadata": {},
   "outputs": [
    {
     "name": "stdout",
     "output_type": "stream",
     "text": [
      "name bob id 21\n",
      "name jack id 44\n"
     ]
    }
   ],
   "source": [
    "#103\n",
    "class student:\n",
    "    def __init__(self,name,id):\n",
    "        self.name = name\n",
    "        self.id = id\n",
    "    def details(self):\n",
    "        print('name',self.name,'id',self.id)\n",
    "        \n",
    "class csestudent(student):\n",
    "    def __init__(self,name,id,labs):\n",
    "        super().__init__(name,id)\n",
    "        self.no_of_labs = labs\n",
    "    def cry(self):\n",
    "        print('cse student always caring beacuse of',self.no_of_labs)\n",
    "class bbastudent(student):\n",
    "    def party(self):\n",
    "        print('All day party')\n",
    "class csefresher(csestudent):\n",
    "    def enroll_cse110(self):\n",
    "        print('110 enroll')\n",
    "s1  = csestudent('bob',21,3)\n",
    "s2 = bbastudent('carol',36)\n",
    "s3 =  csefresher('jack',44,1)\n",
    "s1.details()\n",
    "s3.details()"
   ]
  },
  {
   "cell_type": "code",
   "execution_count": 420,
   "metadata": {},
   "outputs": [
    {
     "name": "stdout",
     "output_type": "stream",
     "text": [
      "red rover is barking\n",
      "rover red\n"
     ]
    }
   ],
   "source": [
    "#104\n",
    "class Animal:\n",
    "    def __init__(self,name):\n",
    "        self.name  = name\n",
    "        self.color  = 'white'\n",
    "    def eat(self):\n",
    "        print(self.name,self.color)\n",
    "class Dog(Animal):\n",
    "    def __init__(self,name,color):\n",
    "        super().__init__(name)\n",
    "        self.color = color\n",
    "    def bark(self):\n",
    "        print(self.color,self.name,'is barking')\n",
    "\n",
    "d1 = Dog('rover','red')\n",
    "d1.bark()\n",
    "d1.eat()"
   ]
  },
  {
   "cell_type": "code",
   "execution_count": 428,
   "metadata": {},
   "outputs": [
    {
     "name": "stdout",
     "output_type": "stream",
     "text": [
      "always study\n",
      "always party\n",
      "you will get my all of my\n"
     ]
    }
   ],
   "source": [
    "#105\n",
    "#method overriding\n",
    "class A:\n",
    "    def __init__(self):\n",
    "        print('init of class A')\n",
    "    def method1(self):\n",
    "        print('always study')\n",
    "    def method2(self):\n",
    "        print('you will get my all of my')\n",
    "class B(A):\n",
    "    def __init__(self):\n",
    "        pass\n",
    "        #print('init of class B')\n",
    "    def method1(self):\n",
    "        super().method1()\n",
    "        print('always party')\n",
    "b1 = B()\n",
    "b1.method1()\n",
    "b1.method2()"
   ]
  },
  {
   "cell_type": "code",
   "execution_count": 436,
   "metadata": {},
   "outputs": [
    {
     "name": "stdout",
     "output_type": "stream",
     "text": [
      "this is bob\n"
     ]
    }
   ],
   "source": [
    "#106\n",
    "class s:\n",
    "    def __init__(self,name,id):\n",
    "        self.name = name\n",
    "        self.id = id\n",
    "        print(self)\n",
    "    def __str__(self):\n",
    "        return f\"this is {self.name}\"\n",
    "\n",
    "s1 = s('bob',34)\n",
    "#print(s1)"
   ]
  },
  {
   "cell_type": "code",
   "execution_count": 447,
   "metadata": {},
   "outputs": [
    {
     "name": "stdout",
     "output_type": "stream",
     "text": [
      "Engine started\n",
      "car is running\n"
     ]
    }
   ],
   "source": [
    "#107\n",
    "class engine:\n",
    "    def __init__(self,cc):\n",
    "        self.cc = cc\n",
    "    def start(self):\n",
    "        print('Engine started')\n",
    "    def stop(self):\n",
    "        print('Engine stopped')\n",
    "        \n",
    "class car:\n",
    "    def __init__(self,name,cc):\n",
    "        self.engine = engine(cc)\n",
    "        self.name = name\n",
    "        \n",
    "    def run(self):\n",
    "        self.engine.start()\n",
    "\n",
    "        print('car is running')\n",
    "\n",
    "c1 = car('bmw',2000)\n",
    "c1.run()\n"
   ]
  },
  {
   "cell_type": "code",
   "execution_count": null,
   "metadata": {},
   "outputs": [],
   "source": []
  }
 ],
 "metadata": {
  "kernelspec": {
   "display_name": "Python 3.10.4 64-bit",
   "language": "python",
   "name": "python3"
  },
  "language_info": {
   "codemirror_mode": {
    "name": "ipython",
    "version": 3
   },
   "file_extension": ".py",
   "mimetype": "text/x-python",
   "name": "python",
   "nbconvert_exporter": "python",
   "pygments_lexer": "ipython3",
   "version": "3.10.4 (v3.10.4:9d38120e33, Mar 23 2022, 17:29:05) [Clang 13.0.0 (clang-1300.0.29.30)]"
  },
  "orig_nbformat": 4,
  "vscode": {
   "interpreter": {
    "hash": "7e1998ff7f8aa20ada591c520b972326324e5ea05489af9e422744c7c09f6dad"
   }
  }
 },
 "nbformat": 4,
 "nbformat_minor": 2
}
