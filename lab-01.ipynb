{
 "cells": [
  {
   "cell_type": "markdown",
   "metadata": {},
   "source": [
    "STRING"
   ]
  },
  {
   "cell_type": "code",
   "execution_count": 22,
   "metadata": {},
   "outputs": [
    {
     "name": "stdout",
     "output_type": "stream",
     "text": [
      "HOUSE\n"
     ]
    }
   ],
   "source": [
    "#task-01\n",
    "w = input()\n",
    "up,low = '',''\n",
    "result = ''\n",
    "for i in w:\n",
    "    if 'A'<=i<='Z':\n",
    "        up+=i\n",
    "    elif 'a'<=i<='z':\n",
    "        low+=i\n",
    "if len(up)>len(low):\n",
    "    for i in w:\n",
    "        if 'A'<=i<='Z':\n",
    "            result+=i\n",
    "        elif 'a'<=i<='z':\n",
    "            result+=chr(ord(i)-32)\n",
    "elif len(up)<=len(low):\n",
    "    for i in w:\n",
    "        if 'a'<=i<='z':\n",
    "            result+=i\n",
    "        elif 'A'<=i<='Z':\n",
    "            result+=chr(ord(i)+32)\n",
    "print(result)"
   ]
  },
  {
   "cell_type": "code",
   "execution_count": 1,
   "metadata": {},
   "outputs": [
    {
     "name": "stdout",
     "output_type": "stream",
     "text": [
      "MIXED\n"
     ]
    }
   ],
   "source": [
    "#task-02\n",
    "user  = input()\n",
    "num  = False\n",
    "wo = False\n",
    "for i in user:\n",
    "    if 'a'<=i<='z' or 'A'<=i<='Z':\n",
    "        wo = True\n",
    "    elif   0<=int(i)<=9:\n",
    "        num = True\n",
    "if wo == True and num==True:\n",
    "    print(\"MIXED\")\n",
    "elif wo == True and num==False:\n",
    "    print('Word')\n",
    "elif wo ==False and num==True:\n",
    "    print('Number')"
   ]
  },
  {
   "cell_type": "code",
   "execution_count": 56,
   "metadata": {},
   "outputs": [
    {
     "name": "stdout",
     "output_type": "stream",
     "text": [
      "WORD\n"
     ]
    }
   ],
   "source": [
    "#task-02\n",
    "u = input()\n",
    "for i in u:\n",
    "    if 'A'<=i<='Z' or  'a'<=i<='z':\n",
    "        print('WORD')\n",
    "        break\n",
    "\n",
    "    elif 0<=int(i)<=9:\n",
    "        print('NUMBER')\n",
    "        break\n"
   ]
  },
  {
   "cell_type": "code",
   "execution_count": 25,
   "metadata": {},
   "outputs": [
    {
     "name": "stdout",
     "output_type": "stream",
     "text": [
      "glad\n"
     ]
    }
   ],
   "source": [
    "#task-03\n",
    "w = input() #'coDIng'\n",
    "n = ''\n",
    "mid = False\n",
    "for i in w:\n",
    "    if 'A'<=i<='Z':\n",
    "        if  not  mid:\n",
    "            mid = True\n",
    "            continue\n",
    "        else:\n",
    "            mid = False\n",
    "    elif mid == True:\n",
    "        n+=i\n",
    "if len(n)==0:\n",
    "    print('BLANK')\n",
    "    \n",
    "print(n)"
   ]
  },
  {
   "cell_type": "code",
   "execution_count": 26,
   "metadata": {},
   "outputs": [
    {
     "name": "stdout",
     "output_type": "stream",
     "text": [
      "hrrhr\n"
     ]
    }
   ],
   "source": [
    "#task-04\n",
    "n = input().split(', ')\n",
    "result = ''\n",
    "for i in n[0]:\n",
    "    if i in n[1]:\n",
    "        result+=i\n",
    "for j in n[1]:\n",
    "    if j in n[0]:\n",
    "        result+=j\n",
    "if len(result)==0:\n",
    "    print(\"Nothing in common\")\n",
    "print(result)\n"
   ]
  },
  {
   "cell_type": "code",
   "execution_count": 2,
   "metadata": {},
   "outputs": [
    {
     "name": "stdout",
     "output_type": "stream",
     "text": [
      "Uppercase mssing,digit missing and special character missing\n"
     ]
    }
   ],
   "source": [
    "#task-05\n",
    "user = input()\n",
    "up = False\n",
    "low = False\n",
    "di = False\n",
    "sp  = False\n",
    "for i in user:\n",
    "    if \"A\"<=i<=\"Z\":\n",
    "        up = True\n",
    "    elif 'a'<=i<='z':\n",
    "        low = True\n",
    "    elif i=='_' or i=='$' or i=='#' or i=='@':\n",
    "        sp = True\n",
    "    elif 0<=int(i)<=9:\n",
    "        di = True\n",
    "if up==True and low==True and di==True and sp==True:\n",
    "    print('Ok')\n",
    "#elif up==False and low==True and di==True and sp==True:\n",
    "   # print('upercase character missing')\n",
    "#elif up==True and low==False and di==True and sp==True:\n",
    "    #print('Lowercase character missing')\n",
    "elif up==True and low==True and di==False and sp==True:\n",
    "    print('Digit missing')\n",
    "#elif up==True and low==True and di==True and sp==False:\n",
    "    #print('Special character missing')\n",
    "#elif  up==False and low==False and di==True and sp==True:\n",
    "    #print('Updercase character and lowercase character missing')\n",
    "elif up==False and low==True and di==False and sp==False:\n",
    "    print('Uppercase mssing,digit missing and special character missing.')"
   ]
  },
  {
   "cell_type": "markdown",
   "metadata": {},
   "source": [
    "LIST"
   ]
  },
  {
   "cell_type": "code",
   "execution_count": 57,
   "metadata": {},
   "outputs": [
    {
     "name": "stdout",
     "output_type": "stream",
     "text": [
      "3 - 7 times\n",
      "1 - 2 times\n"
     ]
    }
   ],
   "source": [
    "#final ans task-1\n",
    "lst = []\n",
    "newlst = []\n",
    "while True:\n",
    "    user = input()\n",
    "    lst.append(user)\n",
    "    if user=='STOP':\n",
    "        break\n",
    "lst = lst[ :-1:]\n",
    "for i in lst:\n",
    "    if i not in newlst:\n",
    "        newlst.append(i)\n",
    "for i in newlst:\n",
    "    count = 0\n",
    "    for j in lst:\n",
    "        if j==i:\n",
    "            count+=1\n",
    "    print(i,'-',count,'times')"
   ]
  },
  {
   "cell_type": "code",
   "execution_count": 18,
   "metadata": {},
   "outputs": [
    {
     "name": "stdout",
     "output_type": "stream",
     "text": [
      "1-10times\n"
     ]
    }
   ],
   "source": [
    "#another solve:\n",
    "num = []\n",
    "while True:\n",
    "  user = input()\n",
    "  if user == \"STOP\":\n",
    "    break\n",
    "  else:\n",
    "    num.append(user)\n",
    "  count = []\n",
    "for i in num:\n",
    "  if i not in count:\n",
    "    count.append(i)\n",
    "for i in count:\n",
    "  count2=0\n",
    "  for j in num:\n",
    "    if j==i:\n",
    "      count2+=1\n",
    "  print(f\"{i}-{count2}times\")"
   ]
  },
  {
   "cell_type": "code",
   "execution_count": 58,
   "metadata": {},
   "outputs": [
    {
     "name": "stdout",
     "output_type": "stream",
     "text": [
      "0\n",
      "[1, 2, 3]\n"
     ]
    }
   ],
   "source": [
    "#task-02\n",
    "num = int(input())\n",
    "lst = []\n",
    "h = 0\n",
    "for i in range(num):\n",
    "    user = [int(i) for i in input().split()]\n",
    "    if lst==[]:\n",
    "        lst = user[ : ]\n",
    "    else:\n",
    "        sum1 = 0\n",
    "        for i in lst:\n",
    "            sum1+=i\n",
    "        sum2 = 0\n",
    "        for i in user:\n",
    "            sum2+=1\n",
    "        if sum2>sum1:\n",
    "            lst = user[ : ]\n",
    "            h = sum2\n",
    "print(h)\n",
    "print(lst)"
   ]
  },
  {
   "cell_type": "code",
   "execution_count": null,
   "metadata": {},
   "outputs": [],
   "source": [
    "#task-02\n",
    "n = int(input())\n",
    "h = 0\n",
    "for i in range(n):\n",
    "    user = [int(i) for i in input().split(' ')]\n",
    "    sum = 0\n",
    "    for i in user:\n",
    "        sum+=i\n",
    "    if h<sum:\n",
    "        h = sum\n",
    "        print(user)\n",
    "print(h)"
   ]
  },
  {
   "cell_type": "code",
   "execution_count": 55,
   "metadata": {},
   "outputs": [
    {
     "name": "stdout",
     "output_type": "stream",
     "text": [
      "UB Jumper\n",
      "UB Jumper\n",
      "Not UB Jumper\n"
     ]
    }
   ],
   "source": [
    "#task-03\n",
    "final = []\n",
    "while True:\n",
    "    user = input()\n",
    "    if user == \"STOP\":\n",
    "        break\n",
    "    else:\n",
    "        List1 = [int(i) for i in user.split()]\n",
    "        list2 = [i for i in range(1, len(List1))]\n",
    "        abs1 = []\n",
    "    \n",
    "        for i in range(len(List1) -1):\n",
    "            elem = List1[i] - List1[i + 1]\n",
    "            elem1 = abs(elem)\n",
    "            abs1.append(elem1)\n",
    "        if sorted(list2) == sorted(abs1):\n",
    "            final.append(\"UB Jumper\")\n",
    "        else:\n",
    "            final.append(\"Not UB Jumper\")\n",
    "\n",
    "for i in range(len(final)):\n",
    "    print(final[i])"
   ]
  },
  {
   "cell_type": "code",
   "execution_count": 29,
   "metadata": {},
   "outputs": [
    {
     "name": "stdout",
     "output_type": "stream",
     "text": [
      "1\n"
     ]
    }
   ],
   "source": [
    "#task-04\n",
    "count, times = tuple(int(num) for num in input().split())\n",
    "data = [int(i) for i in input().split()]\n",
    "\n",
    "while len(data) != count:\n",
    "    print(\"Member count and member participation data doesn't match. Please enter member participation data again.\")\n",
    "\n",
    "list1 = []\n",
    "for i in data:\n",
    "    if(i+times <=5):\n",
    "        list1.append(data[i])\n",
    "\n",
    "final = len(list1)\n",
    "\n",
    "if final < 3:\n",
    "    print(0)\n",
    "else:\n",
    "    if final % 3 == 0:\n",
    "        print(final // 3)\n",
    "    elif (final - 1) % 3 == 0:\n",
    "        print((final - 1) // 3)\n",
    "    elif (final - 2) % 3 == 0:\n",
    "        print((final - 2) // 3)  "
   ]
  },
  {
   "cell_type": "markdown",
   "metadata": {},
   "source": [
    "Dictionary & Tuple"
   ]
  },
  {
   "cell_type": "code",
   "execution_count": 23,
   "metadata": {},
   "outputs": [
    {
     "name": "stdout",
     "output_type": "stream",
     "text": [
      "{'a': 400, 'b': 300, 'c': 200, 'd': 700, 'e': 200}\n",
      "(200, 300, 400, 700)\n"
     ]
    }
   ],
   "source": [
    "#task-01 \n",
    "d1 = input().split(',')\n",
    "dic1 = {}\n",
    "for i in d1:\n",
    "    k, v = i.split(':')\n",
    "    dic1[k.strip()] = int(v)\n",
    "d2 = input().split(',')\n",
    "dic2 = {}\n",
    "for i in d2:\n",
    "    k, v = i.split(':')\n",
    "    dic2[k.strip()] = int(v)\n",
    "dic = {}\n",
    "for i in dic1.keys():\n",
    "    if i in dic2.keys():\n",
    "       dic.update({i:dic1[i]+dic2[i]})\n",
    "    elif i not in dic2.keys():\n",
    "        dic.update({i:dic1[i]})\n",
    "for j  in dic2.keys():\n",
    "    if j in dic1.keys():\n",
    "        dic.update({j:dic2[j]+dic1[j]})\n",
    "    elif j not in dic1.keys():\n",
    "        dic.update({j:dic2[j]})\n",
    "print(dic)\n",
    "l = []\n",
    "for i in dic.values():\n",
    "    if i in l:\n",
    "        continue\n",
    "    else:\n",
    "      l.append(i)\n",
    "print(tuple(sorted(l)))\n",
    "#a: 100, b: 100, c: 200, d: 300\n",
    "#a: 300, b: 200, d: 400, e: 200"
   ]
  },
  {
   "cell_type": "code",
   "execution_count": 5,
   "metadata": {},
   "outputs": [
    {
     "name": "stdout",
     "output_type": "stream",
     "text": [
      "{'a': 400, 'b': 300, 'c': 200, 'd': 700, 'e': 200}\n",
      "Values: (200, 300, 400, 700)\n"
     ]
    }
   ],
   "source": [
    "#task-1 another solve\n",
    "def convert_to_dict(user):\n",
    "    dict1 = {}\n",
    "    for x in user.split(','):      \n",
    "        key, val = x.split(':')       \n",
    "        dict1[key.strip()] = int(val)   \n",
    "    return dict1                        \n",
    "def main(): \n",
    "    user_1 = input()                   \n",
    "    user_2 = input()\n",
    "    dict_1 = convert_to_dict(user_1)    \n",
    "    dict_2 = convert_to_dict(user_2)   \n",
    "    dict_3 = dict(dict_1)                \n",
    "    for key in dict_2.keys():            \n",
    "        if key not in dict_3:  \n",
    "            dict_3[key] = dict_2[key]   \n",
    "        else:                        \n",
    "            dict_3[key] += dict_2[key]\n",
    "    print(dict_3)                        \n",
    "    tuple_1= set(dict_3.values())           \n",
    "    tuple_1= tuple(sorted(tuple_1))              \n",
    "    print(\"Values:\", tuple_1)                   \n",
    "main()"
   ]
  },
  {
   "cell_type": "code",
   "execution_count": 24,
   "metadata": {},
   "outputs": [
    {
     "name": "stdout",
     "output_type": "stream",
     "text": [
      "1-3times\n",
      "2-1times\n",
      "3-1times\n",
      "4-1times\n",
      "5-1times\n"
     ]
    }
   ],
   "source": [
    "#task-02\n",
    "dict1 = {}\n",
    "while True:\n",
    "  user = input()\n",
    "  if user == \"STOP\":\n",
    "    break\n",
    "  else:\n",
    "    i = int(user)\n",
    "    if i in dict1:\n",
    "      dict1[i]=dict1[i]+1\n",
    "    else:\n",
    "      dict1[i]=1\n",
    "for key,val in dict1.items():\n",
    "  print(f'{key}-{val}times')"
   ]
  },
  {
   "cell_type": "code",
   "execution_count": 29,
   "metadata": {},
   "outputs": [
    {
     "name": "stdout",
     "output_type": "stream",
     "text": [
      "{' value1': ['key1 ', ' key3 '], ' value2': [' key2 ']}\n"
     ]
    }
   ],
   "source": [
    "#task-03\n",
    "dic = input().split(',')\n",
    "x = {}\n",
    "for i in dic:\n",
    "    k,v  = i.split(':')\n",
    "    x[k] = v\n",
    "new_dict = {}\n",
    "for key, value in x.items():\n",
    "   if value in new_dict:\n",
    "       new_dict[value].append(key)\n",
    "   else:\n",
    "       new_dict[value]=[key]\n",
    "print(new_dict)"
   ]
  },
  {
   "cell_type": "code",
   "execution_count": null,
   "metadata": {},
   "outputs": [],
   "source": [
    "old_dict = {'key1' : 'value1', 'key2' : 'value2', 'key3' : 'value1'}\n",
    "new_dict = {}\n",
    "for key, value in old_dict.items():\n",
    "   if value in new_dict:\n",
    "       new_dict[value].append(key)\n",
    "   else:\n",
    "       new_dict[value]=[key]\n",
    "print(new_dict)"
   ]
  },
  {
   "cell_type": "code",
   "execution_count": null,
   "metadata": {},
   "outputs": [],
   "source": [
    "#task-04\n",
    "dict1 = {1:['.',',','?','!',':'],2:['a','b','c'],3:['d','e','f'],4:['g','h','i'],5:['j','k','l'],6:['m','n','o'],7:['p','q','r','s'],8:['t','u','v'],9:['w','x','y','z'],0:[' ']}\n",
    "user = input().lower()\n",
    "final = ''\n",
    "for i in user:\n",
    "    for key, val in dict1.items():\n",
    "        if i in val:\n",
    "            final += str(key)*(val.index(i)+1)\n",
    "print(final)"
   ]
  },
  {
   "cell_type": "markdown",
   "metadata": {},
   "source": [
    "Function"
   ]
  },
  {
   "cell_type": "code",
   "execution_count": 39,
   "metadata": {},
   "outputs": [
    {
     "name": "stdout",
     "output_type": "stream",
     "text": [
      "Score is 189.89 Obese\n"
     ]
    }
   ],
   "source": [
    "#task-01\n",
    "def fun(n):\n",
    "    bm = n[0]/((n[1]/100)**2)\n",
    "    bmi  = round(bm,2)\n",
    "    if bmi<18.5:\n",
    "        print('Score is',bmi,'Underweight')\n",
    "    elif 18.5<bmi<24.9:\n",
    "        print('Score is',bmi,'Normal')\n",
    "    elif 25<bmi<30:\n",
    "        print('Score is',bmi,'Overweight')\n",
    "    elif bmi>30:\n",
    "        print('Score is',bmi,'Obese')\n",
    "\n",
    "fun( [int(i) for i in input().split(',')])"
   ]
  },
  {
   "cell_type": "code",
   "execution_count": 33,
   "metadata": {},
   "outputs": [
    {
     "name": "stdout",
     "output_type": "stream",
     "text": [
      "your score is  189.88715277777777 you are obese\n"
     ]
    }
   ],
   "source": [
    "def bmi(weight,height):\n",
    "  # weight = int(input(\"enter you weight in kg: \"))\n",
    "  # height = float(input(\"enter your height in cm: \"))\n",
    "  height = height/100\n",
    "  bmi = weight/height**2\n",
    "  if bmi<18.5:\n",
    "    print(\"your score is \",bmi, \"you are Underweight\")\n",
    "  if bmi>=18.5 and bmi<=24.9:\n",
    "    print(\"your score is \",bmi, \"you are normal\")\n",
    "  if bmi>=25 and bmi<=30:\n",
    "    print(\"your score is \",bmi, \"you are overweight\")\n",
    "  if bmi>30:\n",
    "    print(\"your score is \",bmi, \"you are obese\")\n",
    "bmi(int(input(\"enter you weight in kg: \")),float(input(\"enter your height in cm: \")))"
   ]
  },
  {
   "cell_type": "code",
   "execution_count": 32,
   "metadata": {},
   "outputs": [
    {
     "name": "stdout",
     "output_type": "stream",
     "text": [
      "[175]\n"
     ]
    }
   ],
   "source": [
    "lst1 = [int(i) for i in input().split(',')]\n",
    "print(lst1)"
   ]
  },
  {
   "cell_type": "code",
   "execution_count": null,
   "metadata": {},
   "outputs": [],
   "source": [
    "#task-02 something missing\n",
    "def func(minimum, maximum,divisor):\n",
    "  sum1 = 0\n",
    "  for i in range(minimum,maximum):\n",
    "    if i%divisor==0:\n",
    "      sum1+=i\n",
    "  return sum1\n",
    "func([int(i) for i in input().split(',')])\n",
    "#func(int(input(\"enter minimum\")),int(input(\"enter maximum\")),int(input(\"enter divisor\")))"
   ]
  },
  {
   "cell_type": "code",
   "execution_count": 41,
   "metadata": {},
   "outputs": [
    {
     "data": {
      "text/plain": [
       "20"
      ]
     },
     "execution_count": 41,
     "metadata": {},
     "output_type": "execute_result"
    }
   ],
   "source": [
    "#task-02\n",
    "def func(n):\n",
    "    sum = 0\n",
    "    for i in range(n[0],n[1]):\n",
    "        if i%n[2]==0:\n",
    "            sum+=i\n",
    "    return sum\n",
    "func([int(i) for i in input().split(',')])"
   ]
  },
  {
   "cell_type": "code",
   "execution_count": 50,
   "metadata": {},
   "outputs": [
    {
     "ename": "ValueError",
     "evalue": "invalid literal for int() with base 10: 'a'",
     "output_type": "error",
     "traceback": [
      "\u001b[0;31m---------------------------------------------------------------------------\u001b[0m",
      "\u001b[0;31mValueError\u001b[0m                                Traceback (most recent call last)",
      "\u001b[1;32m/Users/mirzashafi/VS-code/CSE111/lab-01.ipynb Cell 27\u001b[0m in \u001b[0;36m<cell line: 17>\u001b[0;34m()\u001b[0m\n\u001b[1;32m     <a href='vscode-notebook-cell:/Users/mirzashafi/VS-code/CSE111/lab-01.ipynb#X45sZmlsZQ%3D%3D?line=13'>14</a>\u001b[0m       comment \u001b[39m=\u001b[39m \u001b[39m\"\u001b[39m\u001b[39mUnchanged\u001b[39m\u001b[39m\"\u001b[39m\n\u001b[1;32m     <a href='vscode-notebook-cell:/Users/mirzashafi/VS-code/CSE111/lab-01.ipynb#X45sZmlsZQ%3D%3D?line=14'>15</a>\u001b[0m   \u001b[39mprint\u001b[39m(\u001b[39mf\u001b[39m\u001b[39m\"\u001b[39m\u001b[39m{\u001b[39;00mcomment\u001b[39m}\u001b[39;00m\u001b[39m: \u001b[39m\u001b[39m{\u001b[39;00mnew_email\u001b[39m}\u001b[39;00m\u001b[39m\"\u001b[39m)    \n\u001b[0;32m---> <a href='vscode-notebook-cell:/Users/mirzashafi/VS-code/CSE111/lab-01.ipynb#X45sZmlsZQ%3D%3D?line=16'>17</a>\u001b[0m company([\u001b[39mint\u001b[39m(i) \u001b[39mfor\u001b[39;00m i \u001b[39min\u001b[39;00m \u001b[39minput\u001b[39m()\u001b[39m.\u001b[39msplit(\u001b[39m'\u001b[39m\u001b[39m,\u001b[39m\u001b[39m'\u001b[39m)])\n",
      "\u001b[1;32m/Users/mirzashafi/VS-code/CSE111/lab-01.ipynb Cell 27\u001b[0m in \u001b[0;36m<listcomp>\u001b[0;34m(.0)\u001b[0m\n\u001b[1;32m     <a href='vscode-notebook-cell:/Users/mirzashafi/VS-code/CSE111/lab-01.ipynb#X45sZmlsZQ%3D%3D?line=13'>14</a>\u001b[0m       comment \u001b[39m=\u001b[39m \u001b[39m\"\u001b[39m\u001b[39mUnchanged\u001b[39m\u001b[39m\"\u001b[39m\n\u001b[1;32m     <a href='vscode-notebook-cell:/Users/mirzashafi/VS-code/CSE111/lab-01.ipynb#X45sZmlsZQ%3D%3D?line=14'>15</a>\u001b[0m   \u001b[39mprint\u001b[39m(\u001b[39mf\u001b[39m\u001b[39m\"\u001b[39m\u001b[39m{\u001b[39;00mcomment\u001b[39m}\u001b[39;00m\u001b[39m: \u001b[39m\u001b[39m{\u001b[39;00mnew_email\u001b[39m}\u001b[39;00m\u001b[39m\"\u001b[39m)    \n\u001b[0;32m---> <a href='vscode-notebook-cell:/Users/mirzashafi/VS-code/CSE111/lab-01.ipynb#X45sZmlsZQ%3D%3D?line=16'>17</a>\u001b[0m company([\u001b[39mint\u001b[39;49m(i) \u001b[39mfor\u001b[39;00m i \u001b[39min\u001b[39;00m \u001b[39minput\u001b[39m()\u001b[39m.\u001b[39msplit(\u001b[39m'\u001b[39m\u001b[39m,\u001b[39m\u001b[39m'\u001b[39m)])\n",
      "\u001b[0;31mValueError\u001b[0m: invalid literal for int() with base 10: 'a'"
     ]
    }
   ],
   "source": [
    "#task-04\n",
    "def company(n):\n",
    "  index = -1\n",
    "  for i in range(len(n[0])):\n",
    "    if n[0][i]==\"@\":\n",
    "      index = i\n",
    "      break\n",
    "  new_email = n[0][: index + 1]\n",
    "  if n[2] in n[0]:\n",
    "      new_email += n[1]\n",
    "      comment = \"Changed\"\n",
    "  else:\n",
    "      new_email += n[0]\n",
    "      comment = \"Unchanged\"\n",
    "  print(f\"{comment}: {new_email}\")    \n",
    "    \n",
    "company([i for i in input().split(',')])"
   ]
  },
  {
   "cell_type": "code",
   "execution_count": 51,
   "metadata": {},
   "outputs": [
    {
     "name": "stdout",
     "output_type": "stream",
     "text": [
      "Palindrome\n"
     ]
    }
   ],
   "source": [
    "#task-05\n",
    "def palindrome(word):\n",
    "    final = \"\"\n",
    "    for i in word:\n",
    "        if i != \" \":\n",
    "            final += i\n",
    "    if final == final[::-1]:\n",
    "        print(\"Palindrome\")\n",
    "    else:\n",
    "        print(\"Not a palindrome\")\n",
    "palindrome(input().lower())"
   ]
  },
  {
   "cell_type": "code",
   "execution_count": 54,
   "metadata": {},
   "outputs": [
    {
     "ename": "SyntaxError",
     "evalue": "invalid syntax. Perhaps you forgot a comma? (4121063720.py, line 8)",
     "output_type": "error",
     "traceback": [
      "\u001b[0;36m  Input \u001b[0;32mIn [54]\u001b[0;36m\u001b[0m\n\u001b[0;31m    string_[index - 1] == \" \"\u001b[0m\n\u001b[0m    ^\u001b[0m\n\u001b[0;31mSyntaxError\u001b[0m\u001b[0;31m:\u001b[0m invalid syntax. Perhaps you forgot a comma?\n"
     ]
    }
   ],
   "source": [
    "#task-06\n",
    "def Cap(string_):   \n",
    "    capitalized_str = \"\"\n",
    "    if string_ != \"\":\n",
    "        capitalized_str = string_[0].upper();     \n",
    "        for index in range (1, len(string_)):\n",
    "            if (\n",
    "                string_[index - 1] == \" \"\n",
    "                and string_[index] == \"i\"\n",
    "                and string_[index + 1] == \" \")\n",
    "            \n",
    "                capitalized_str += \"I\"\n",
    "            elif (\n",
    "                string_[index - 2] == \".\"\n",
    "                or string_[index - 2] == \"!\"\n",
    "                or string_[index - 2] == \"?\")\n",
    "            \n",
    "                capitalized_str += string_[index].upper();\n",
    "            else:\n",
    "                capitalized_str += string_[index]                         \n",
    "        print(capitalized_str)\n",
    "Cap(\"my favourite animal is a dog. a dog has sharp teeth so that it can eat flesh very easily. do you know my pet dog’s name? i love my pet very much.\")"
   ]
  }
 ],
 "metadata": {
  "kernelspec": {
   "display_name": "Python 3.10.4 64-bit",
   "language": "python",
   "name": "python3"
  },
  "language_info": {
   "codemirror_mode": {
    "name": "ipython",
    "version": 3
   },
   "file_extension": ".py",
   "mimetype": "text/x-python",
   "name": "python",
   "nbconvert_exporter": "python",
   "pygments_lexer": "ipython3",
   "version": "3.11.0 (v3.11.0:deaf509e8f, Oct 24 2022, 14:43:23) [Clang 13.0.0 (clang-1300.0.29.30)]"
  },
  "orig_nbformat": 4,
  "vscode": {
   "interpreter": {
    "hash": "aee8b7b246df8f9039afb4144a1f6fd8d2ca17a180786b69acc140d282b71a49"
   }
  }
 },
 "nbformat": 4,
 "nbformat_minor": 2
}
