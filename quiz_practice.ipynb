{
 "cells": [
  {
   "cell_type": "code",
   "execution_count": 2,
   "metadata": {},
   "outputs": [
    {
     "name": "stdout",
     "output_type": "stream",
     "text": [
      "[34, 4, 5, 3, 5]\n"
     ]
    }
   ],
   "source": [
    "#1\n",
    "lst = []\n",
    "for i in range(5):\n",
    "    user = int(input())\n",
    "    lst.append(user)\n",
    "print(lst)"
   ]
  },
  {
   "cell_type": "code",
   "execution_count": 3,
   "metadata": {},
   "outputs": [
    {
     "name": "stdout",
     "output_type": "stream",
     "text": [
      "[24, 25, 26]\n"
     ]
    }
   ],
   "source": [
    "#2\n",
    "user = [int(i) for i in input()[1:-1].split(\", \")]\n",
    "print(user[2:-2])\n"
   ]
  },
  {
   "cell_type": "code",
   "execution_count": 5,
   "metadata": {},
   "outputs": [
    {
     "name": "stdout",
     "output_type": "stream",
     "text": [
      "5\n",
      "4\n",
      "3\n",
      "2\n",
      "1\n",
      "[5, 4, 3, 2, 1]\n"
     ]
    }
   ],
   "source": [
    "#3\n",
    "l = []\n",
    "for i in range(5):\n",
    "    user = int(input())\n",
    "    l.append(user)\n",
    "print(l[-1: :-1])\n",
    "for i in l[-1: : -1]:\n",
    "    print(i)"
   ]
  },
  {
   "cell_type": "code",
   "execution_count": 6,
   "metadata": {},
   "outputs": [
    {
     "name": "stdout",
     "output_type": "stream",
     "text": [
      "[1, 4, 9, 16, 25, 36, 49]\n"
     ]
    }
   ],
   "source": [
    "#4\n",
    "lst = [1,2,3,4,5,6,7]\n",
    "new_lst = []\n",
    "for i in lst:\n",
    "    new_lst.append(i**2)\n",
    "print(new_lst)"
   ]
  },
  {
   "cell_type": "code",
   "execution_count": 7,
   "metadata": {},
   "outputs": [
    {
     "name": "stdout",
     "output_type": "stream",
     "text": [
      "['hey', 'there', \"what's\", 'up', '?']\n"
     ]
    }
   ],
   "source": [
    "#5\n",
    "lst = [\"hey\", \"there\", \"\", \"what's\", \"\", \"up\", \"\", \"?\"]\n",
    "l = []\n",
    "for i in lst:\n",
    "    if i !=\"\":\n",
    "        l.append(i)\n",
    "print(l)"
   ]
  },
  {
   "cell_type": "code",
   "execution_count": 34,
   "metadata": {},
   "outputs": [
    {
     "name": "stdout",
     "output_type": "stream",
     "text": [
      "My list: [7, 13, 2, 10, 6, -11, 0]\n",
      "13\n",
      "1\n"
     ]
    }
   ],
   "source": [
    "#6\n",
    "g = \"7, 13, 2, 10, 6, -11, 0\"\n",
    "g = g.split(', ')\n",
    "l = []\n",
    "for i in g:\n",
    "    l.append(int(i))\n",
    "print(\"My list:\",l)\n",
    "max = l[0]\n",
    "location = 0\n",
    "le = len(l)\n",
    "for i in range(le):\n",
    "    if l[i]>max:\n",
    "        max = l[i]\n",
    "        location = i\n",
    "print(max)\n",
    "print(location)"
   ]
  },
  {
   "cell_type": "code",
   "execution_count": 35,
   "metadata": {},
   "outputs": [
    {
     "name": "stdout",
     "output_type": "stream",
     "text": [
      "[1, 4, 7, 6, 1, 3, 9]\n"
     ]
    }
   ],
   "source": [
    "#7\n",
    "list_one = [1, 4, 7, 5] \n",
    "list_two = [6, 1, 3, 9]\n",
    "print(list_one[ :-1]+list_two)"
   ]
  },
  {
   "cell_type": "code",
   "execution_count": 46,
   "metadata": {},
   "outputs": [
    {
     "name": "stdout",
     "output_type": "stream",
     "text": [
      "Odginal list: [7, 12, 4, 55, 96, 2, 11, 61, 33, 42]\n",
      "Modified list: [7, 55, 11, 61, 33]\n"
     ]
    }
   ],
   "source": [
    "#8\n",
    "x = \"7 12 4 55 96 2 11 61 33 42\"\n",
    "l  = [int(i) for i in x.split(\" \")]\n",
    "print('Odginal list:',l)\n",
    "mo = []\n",
    "for i in l:\n",
    "    if i%2!=0:\n",
    "        mo.append(i)\n",
    "print('Modified list:',mo)"
   ]
  },
  {
   "cell_type": "code",
   "execution_count": 49,
   "metadata": {},
   "outputs": [
    {
     "name": "stdout",
     "output_type": "stream",
     "text": [
      "[0, 0, 1, 2, 3, 4, 4, 5, 6, 6, 6, 7, 8, 9, 4, 4]\n",
      "[0, 1, 2, 3, 4, 5, 6, 7, 8, 9]\n"
     ]
    }
   ],
   "source": [
    "#9\n",
    "u = [int(i) for i in input().split(', ')]\n",
    "l = []\n",
    "for i in u:\n",
    "    if i not in l:\n",
    "        l.append(i)\n",
    "print(u)\n",
    "print(l)"
   ]
  },
  {
   "cell_type": "code",
   "execution_count": 54,
   "metadata": {},
   "outputs": [
    {
     "name": "stdout",
     "output_type": "stream",
     "text": [
      "True\n"
     ]
    }
   ],
   "source": [
    "#10\n",
    "e = [1, 4, 3, 2, 6] \n",
    "o = [7, 8, 9, 8, 2]\n",
    "for i in e:\n",
    "    if i in o:\n",
    "        result = True\n",
    "if result==True:\n",
    "    print('True')\n",
    "elif result==False:\n",
    "    print('False')\n"
   ]
  },
  {
   "cell_type": "code",
   "execution_count": 55,
   "metadata": {},
   "outputs": [
    {
     "name": "stdout",
     "output_type": "stream",
     "text": [
      "400\n"
     ]
    }
   ],
   "source": [
    "#11\n",
    "a = (\"The Institute\", (\"Best Mystery & Thriller\", \"The Silent Patient\", 68821), 75717, [1, 2, 3, 400, 5, 6, 7], (\"Best Fiction\", \"The Testaments\", 98291))\n",
    "print(a[3][3])"
   ]
  },
  {
   "cell_type": "code",
   "execution_count": 58,
   "metadata": {},
   "outputs": [
    {
     "name": "stdout",
     "output_type": "stream",
     "text": [
      "(24, 25, 26)\n"
     ]
    }
   ],
   "source": [
    "#12\n",
    "x = (10, 20, 24, 25, 26, 35, 70)\n",
    "print(x[2:-2])"
   ]
  },
  {
   "cell_type": "code",
   "execution_count": 61,
   "metadata": {},
   "outputs": [
    {
     "name": "stdout",
     "output_type": "stream",
     "text": [
      "The Silent Patient won the 'Best Mystery & Thriller' catagory with 68821 votes\n",
      "The Institute won the 'Best Horror' catagory with 75717 votes\n",
      "The five won the 'Best History & Biography' catagory with 31783 votes\n",
      "The Testaments won the 'Best Fiction' catagory with 98291 votes\n"
     ]
    }
   ],
   "source": [
    "#13\n",
    "b = (\n",
    "(\"Best Mystery & Thriller\",\"The Silent Patient\",68821), (\"Best Horror\",\"The Institute\",75717),\n",
    "(\"Best History & Biography\",\"The five\",31783 ),\n",
    "(\"Best Fiction\",\"The Testaments\",98291)\n",
    ")\n",
    "for i in range(len(b)):\n",
    "    print(f\"{b[i][1]} won the '{b[i][0]}' catagory with {b[i][2]} votes\")"
   ]
  },
  {
   "cell_type": "code",
   "execution_count": 63,
   "metadata": {},
   "outputs": [
    {
     "name": "stdout",
     "output_type": "stream",
     "text": [
      "8 4\n"
     ]
    }
   ],
   "source": [
    "#14\n",
    "t = (10, 8, 5, 2, 10, 15, 10, 8, 5, 8, 8, 2)\n",
    "count = 0\n",
    "user = int(input())\n",
    "for i in t:\n",
    "    if user==i:\n",
    "        count+=1\n",
    "print(user,count)"
   ]
  },
  {
   "cell_type": "code",
   "execution_count": 71,
   "metadata": {},
   "outputs": [
    {
     "name": "stdout",
     "output_type": "stream",
     "text": [
      "('h', 'g', 'f', 'e', 'd', 'c', 'b', 'a')\n"
     ]
    }
   ],
   "source": [
    "#15\n",
    "t = ('a', 'b', 'c', 'd', 'e', 'f', 'g', 'h')\n",
    "l = []\n",
    "for i in range(-1,-(len(t)+1),-1):\n",
    "    l.append(t[i])\n",
    "print(tuple(l))"
   ]
  },
  {
   "cell_type": "code",
   "execution_count": 73,
   "metadata": {},
   "outputs": [
    {
     "name": "stdout",
     "output_type": "stream",
     "text": [
      "{'Harry': 15, 'Draco': 8, 'Nevil': 19, 'Ginie': 18, 'Luna': 14}\n"
     ]
    }
   ],
   "source": [
    "#16\n",
    "d1  = {'Harry':15, 'Draco':8, 'Nevil':19}\n",
    "d2 = {'Ginie':18, 'Luna': 14}\n",
    "dk = {}\n",
    "dk.update(d1)\n",
    "dk.update(d2)\n",
    "print(dk)"
   ]
  },
  {
   "cell_type": "code",
   "execution_count": 79,
   "metadata": {},
   "outputs": [
    {
     "name": "stdout",
     "output_type": "stream",
     "text": [
      "200\n"
     ]
    }
   ],
   "source": [
    "#17\n",
    "d = {'Jon': 100, 'Dan':200, 'Rob':300}\n",
    "sum = 0\n",
    "count = 0\n",
    "for k,v in d.items():\n",
    "    sum+=v\n",
    "    count+=1\n",
    "print(sum//count)"
   ]
  },
  {
   "cell_type": "code",
   "execution_count": 81,
   "metadata": {},
   "outputs": [
    {
     "name": "stdout",
     "output_type": "stream",
     "text": [
      "{'Cierra Vega': 175, 'Alden Cantrell': 200, 'Pierre Cox': 190}\n"
     ]
    }
   ],
   "source": [
    "#18\n",
    "e = {'Cierra Vega': 175, 'Alden Cantrell': 200, 'Kierra Gentry': 165, 'Pierre Cox': 190}\n",
    "u = int(input())\n",
    "n = {}\n",
    "for k,v in e.items():\n",
    "    if v>u:\n",
    "        n[k] = v\n",
    "print(n)"
   ]
  },
  {
   "cell_type": "code",
   "execution_count": 82,
   "metadata": {},
   "outputs": [
    {
     "name": "stdout",
     "output_type": "stream",
     "text": [
      "{'Cierra Vega': 175, 'Alden Cantrell': 200, 'Pierre Cox': 190}\n"
     ]
    }
   ],
   "source": [
    "#19\n",
    "x = [i for i in input()[1:-1].split(', ')]\n",
    "dic={}\n",
    "\n",
    "for i in x:\n",
    "    k,v=i.split(':')\n",
    "    dic[k[1:-1]]=int(v)\n",
    "print(dic)"
   ]
  },
  {
   "cell_type": "code",
   "execution_count": 83,
   "metadata": {},
   "outputs": [
    {
     "name": "stdout",
     "output_type": "stream",
     "text": [
      "15 mystery\n"
     ]
    }
   ],
   "source": [
    "#20\n",
    "d = {'sci fi': 12, 'mystery': 15, 'horror': 8, 'mythology': 10, 'young_adult': 4, 'adventure':14}\n",
    "m = 0\n",
    "b\n",
    "for k,v in d.items():\n",
    "    if v>m:\n",
    "        m = v\n",
    "        book = k\n",
    "print(m,book)\n"
   ]
  },
  {
   "cell_type": "code",
   "execution_count": 87,
   "metadata": {},
   "outputs": [
    {
     "name": "stdout",
     "output_type": "stream",
     "text": [
      "{'p': 2, 'y': 1, 't': 1, 'h': 1, 'o': 2, 'n': 3, 'r': 2, 'g': 2, 'a': 1, 'm': 2, 'i': 2, 's': 1, 'f': 1, 'u': 1}\n"
     ]
    }
   ],
   "source": [
    "#21\n",
    "u = input()[1:-1].lower().replace(' ','')\n",
    "d = {}\n",
    "for i in u:\n",
    "    d[i] = 0\n",
    "for j in u:\n",
    "    if j in d:\n",
    "        d[j]+=1\n",
    "print(d)"
   ]
  },
  {
   "cell_type": "code",
   "execution_count": 86,
   "metadata": {},
   "outputs": [
    {
     "name": "stdout",
     "output_type": "stream",
     "text": [
      "pythonprogrammingisfun\n",
      "{'p': 2, 'y': 1, 't': 1, 'h': 1, 'o': 2, 'n': 3, 'r': 2, 'g': 2, 'a': 1, 'm': 2, 'i': 2, 's': 1, 'f': 1, 'u': 1}\n"
     ]
    }
   ],
   "source": [
    "#22\n",
    "n  = input()[1:-1].lower().replace(' ','')\n",
    "print(n)\n",
    "dict =  {}\n",
    "for i in n:\n",
    "    dict[i]=0\n",
    "for i in n:\n",
    "    if i in n:\n",
    "        dict[i]+=1\n",
    "print(dict)"
   ]
  },
  {
   "cell_type": "code",
   "execution_count": 90,
   "metadata": {},
   "outputs": [
    {
     "name": "stdout",
     "output_type": "stream",
     "text": [
      "0 1 1 2 3 5 8 "
     ]
    }
   ],
   "source": [
    "#23\n",
    "def fun(num):\n",
    "    zero = 0\n",
    "    one = 1\n",
    "    if num==1:\n",
    "        print(zero)\n",
    "    else:\n",
    "        print(zero,end = ' ')\n",
    "        print(one, end = ' ')\n",
    "    for i in range(2,num+1):\n",
    "        two = zero+one\n",
    "        zero = one\n",
    "        one = two\n",
    "        if two>num:\n",
    "            break\n",
    "        print(two, end = ' ')\n",
    "fun(int(input()))"
   ]
  },
  {
   "cell_type": "code",
   "execution_count": 92,
   "metadata": {},
   "outputs": [
    {
     "data": {
      "text/plain": [
       "(3, 12)"
      ]
     },
     "execution_count": 92,
     "metadata": {},
     "output_type": "execute_result"
    }
   ],
   "source": [
    "#24\n",
    "def fun(name):\n",
    "    count = 0\n",
    "    countt = 0\n",
    "    for i in name:\n",
    "        if 'A'<=i<='Z':\n",
    "            count+=1\n",
    "        elif 'a'<=i<='z':\n",
    "            countt+=1\n",
    "    return count,countt\n",
    "fun('The quick Sand Man')"
   ]
  },
  {
   "cell_type": "code",
   "execution_count": 95,
   "metadata": {},
   "outputs": [
    {
     "name": "stdout",
     "output_type": "stream",
     "text": [
      "11 10 15\n"
     ]
    }
   ],
   "source": [
    "#25\n",
    "def fun(num):\n",
    "    year = num//365\n",
    "    num%=365\n",
    "    month = num//30\n",
    "    day = num%30\n",
    "    print(year,month,day)\n",
    "fun(4330)"
   ]
  },
  {
   "cell_type": "code",
   "execution_count": 100,
   "metadata": {},
   "outputs": [
    {
     "name": "stdout",
     "output_type": "stream",
     "text": [
      "12345654321"
     ]
    }
   ],
   "source": [
    "#26\n",
    "u = int(input())\n",
    "for i in range(1,u+1):\n",
    "    print(i, end = '')\n",
    "for j in range(u-1,0,-1):\n",
    "    print(j, end = '')"
   ]
  },
  {
   "cell_type": "code",
   "execution_count": 101,
   "metadata": {},
   "outputs": [
    {
     "name": "stdout",
     "output_type": "stream",
     "text": [
      "        1 \n",
      "      1 2 3 \n",
      "    1 2 1 0 -1 \n",
      "  1 0 -1 -2 -3 -4 -5 \n",
      "1 2 3 4 5 4 3 2 1 \n"
     ]
    }
   ],
   "source": [
    "#27\n",
    "def show(n):\n",
    "    num1 = 1\n",
    "    sp = n-1\n",
    "    for i in range(1,n+1):\n",
    "        k  = 0\n",
    "        for i in range(1,sp+1):\n",
    "            print(' ',end = ' ')\n",
    "        for j in range(1,num1+1):\n",
    "            if j<=i:\n",
    "                k+=1\n",
    "            else:\n",
    "                k-=1\n",
    "            print(k, end = ' ')\n",
    "        print()\n",
    "        num1+=2\n",
    "        sp-=1\n",
    "show(int(input()))"
   ]
  },
  {
   "cell_type": "code",
   "execution_count": 102,
   "metadata": {},
   "outputs": [
    {
     "name": "stdout",
     "output_type": "stream",
     "text": [
      "          1 \n",
      "        1 2 1 \n",
      "      1 2 3 2 1 \n",
      "    1 2 3 4 3 2 1 \n",
      "  1 2 3 4 5 4 3 2 1 \n",
      "1 2 3 4 5 6 5 4 3 2 1 \n"
     ]
    }
   ],
   "source": [
    "def show_palindromic_triangle(n):\n",
    "    num1=1\n",
    "    space1=n-1\n",
    "    for x in range(1,n+1):\n",
    "        k=0\n",
    "        for y in range(1,space1+1):\n",
    "            print(\" \",end=\" \")\n",
    "        for y in range(1,num1+1):\n",
    "            if (y<=x):\n",
    "                k+=1\n",
    "            else:\n",
    "                k-=1\n",
    "            print(k,end=\" \")\n",
    "        print()\n",
    "        num1+=2\n",
    "        space1-=1\n",
    "\n",
    "show_palindromic_triangle(6)"
   ]
  },
  {
   "cell_type": "code",
   "execution_count": 104,
   "metadata": {},
   "outputs": [
    {
     "data": {
      "text/plain": [
       "{5: 25, 6: 36, 7: 49, 8: 64, 9: 81}"
      ]
     },
     "execution_count": 104,
     "metadata": {},
     "output_type": "execute_result"
    }
   ],
   "source": [
    "#28\n",
    "def h(n,m):\n",
    "    dic = {}\n",
    "    for i in range(n,m+1):\n",
    "        dic[i] = i**2\n",
    "    return dic\n",
    "h(5,9)"
   ]
  },
  {
   "cell_type": "code",
   "execution_count": 113,
   "metadata": {},
   "outputs": [
    {
     "name": "stdout",
     "output_type": "stream",
     "text": [
      "apple\n"
     ]
    }
   ],
   "source": [
    "#29\n",
    "w = input()\n",
    "u,l = '',''\n",
    "result = ''\n",
    "for i in w:\n",
    "    if 'A'<=i<='Z':\n",
    "        u+=i\n",
    "    elif 'a'<=i<='z':\n",
    "        l+=i\n",
    "if len(u)>len(l):\n",
    "    print(w.upper())\n",
    "elif len(u)<len(l):\n",
    "    print(w.lower())"
   ]
  },
  {
   "cell_type": "code",
   "execution_count": null,
   "metadata": {},
   "outputs": [],
   "source": [
    "#30\n",
    "w = input() #'coDIng'\n",
    "n = ''\n",
    "mid = False\n",
    "for i in w:\n",
    "    if 'A'<=i<='Z':\n",
    "        if  not  mid:\n",
    "            mid = True\n",
    "            continue\n",
    "        else:\n",
    "            mid = False\n",
    "    elif mid == True:\n",
    "        n+=i\n",
    "if len(n)==0:\n",
    "    print('BLANK')\n",
    "    \n",
    "print(n)"
   ]
  },
  {
   "cell_type": "code",
   "execution_count": 114,
   "metadata": {},
   "outputs": [
    {
     "name": "stdout",
     "output_type": "stream",
     "text": [
      "BLANK\n",
      "\n"
     ]
    }
   ],
   "source": [
    "#31\n",
    "w = input()\n",
    "n = ''\n",
    "mid = False\n",
    "for i in w:\n",
    "    if 'A'<=i<='Z':\n",
    "        if not mid:\n",
    "            mid = True\n",
    "            continue\n",
    "        else:\n",
    "            mid = False\n",
    "    elif mid == True:\n",
    "        n+=i\n",
    "if len(n)==0:\n",
    "    print('BLANK')\n",
    "print(n)"
   ]
  },
  {
   "cell_type": "code",
   "execution_count": 115,
   "metadata": {},
   "outputs": [
    {
     "name": "stdout",
     "output_type": "stream",
     "text": [
      "hrrhr\n"
     ]
    }
   ],
   "source": [
    "#32\n",
    "w = input().split(', ')\n",
    "result = ''\n",
    "for i in w[0]:\n",
    "    if i in w[1]:\n",
    "        result+=i\n",
    "for j in w[1]:\n",
    "    if j in w[0]:\n",
    "        result+=j\n",
    "if len(result)==0:\n",
    "    print('nothing in common')\n",
    "print(result)"
   ]
  },
  {
   "cell_type": "code",
   "execution_count": 122,
   "metadata": {},
   "outputs": [
    {
     "name": "stdout",
     "output_type": "stream",
     "text": [
      "3 2\n",
      "4 2\n",
      "2 2\n",
      "5 1\n",
      "[3, 3, 4, 2, 4, 2, 5]\n"
     ]
    }
   ],
   "source": [
    "#33\n",
    "l = []\n",
    "while True:\n",
    "    user = input()\n",
    "    if user == \"STOP\":\n",
    "        break\n",
    "    else:\n",
    "        l.append(int(user))\n",
    "new = []\n",
    "for i in l:\n",
    "    if i not in new:\n",
    "        new.append(i)\n",
    "for j in new:\n",
    "    count = 0\n",
    "    for k in l:\n",
    "        if k==j:\n",
    "            count+=1\n",
    "    print(j,count)\n",
    "print(l)"
   ]
  },
  {
   "cell_type": "code",
   "execution_count": 126,
   "metadata": {},
   "outputs": [
    {
     "name": "stdout",
     "output_type": "stream",
     "text": [
      "[1, 2, 3]\n",
      "[4, 5, 6]\n",
      "[10, 11, 12]\n",
      "33\n"
     ]
    }
   ],
   "source": [
    "#34\n",
    "n = int(input())\n",
    "h = 0\n",
    "for i in range(n):\n",
    "    user = [int(i) for i in input().split(' ')]\n",
    "    sum = 0\n",
    "    for i in user:\n",
    "        sum+=i\n",
    "    if h<sum:\n",
    "        h = sum\n",
    "        print(user)\n",
    "print(h)"
   ]
  },
  {
   "cell_type": "code",
   "execution_count": null,
   "metadata": {},
   "outputs": [],
   "source": []
  }
 ],
 "metadata": {
  "kernelspec": {
   "display_name": "Python 3.10.4 64-bit",
   "language": "python",
   "name": "python3"
  },
  "language_info": {
   "codemirror_mode": {
    "name": "ipython",
    "version": 3
   },
   "file_extension": ".py",
   "mimetype": "text/x-python",
   "name": "python",
   "nbconvert_exporter": "python",
   "pygments_lexer": "ipython3",
   "version": "3.11.0 (v3.11.0:deaf509e8f, Oct 24 2022, 14:43:23) [Clang 13.0.0 (clang-1300.0.29.30)]"
  },
  "orig_nbformat": 4,
  "vscode": {
   "interpreter": {
    "hash": "aee8b7b246df8f9039afb4144a1f6fd8d2ca17a180786b69acc140d282b71a49"
   }
  }
 },
 "nbformat": 4,
 "nbformat_minor": 2
}
