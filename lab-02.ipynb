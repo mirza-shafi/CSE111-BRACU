{
 "cells": [
  {
   "cell_type": "code",
   "execution_count": 1,
   "metadata": {},
   "outputs": [
    {
     "name": "stdout",
     "output_type": "stream",
     "text": [
      "Integer\n",
      "1234\n",
      "=====================\n",
      "String\n",
      "Hello\n",
      "=====================\n",
      "Float\n",
      "4.0\n"
     ]
    }
   ],
   "source": [
    "#task-01\n",
    "class DataType:\n",
    "  def __init__(self,name,value):\n",
    "    self.name = name\n",
    "    self.value = value\n",
    "data_type1 = DataType('Integer', 1234)\n",
    "print(data_type1.name)\n",
    "print(data_type1.value)\n",
    "print('=====================')\n",
    "data_type2 = DataType('String', 'Hello')\n",
    "print(data_type2.name)\n",
    "print(data_type2.value)\n",
    "print('=====================')\n",
    "data_type3 = DataType('Float', 4.0)\n",
    "print(data_type3.name)\n",
    "print(data_type3.value)"
   ]
  },
  {
   "cell_type": "code",
   "execution_count": 4,
   "metadata": {},
   "outputs": [
    {
     "name": "stdout",
     "output_type": "stream",
     "text": [
      "Name of this flower: Rose\n",
      "Color of this flower: Red\n",
      "Number of petal: 6\n",
      "=====================\n",
      "Name of this flower: Orchid\n",
      "Color of this flower: Purple\n",
      "Number of petal: 4\n"
     ]
    }
   ],
   "source": [
    "#task-02\n",
    "class Flower:\n",
    "  def __inin__(self,name,color,num_of_petel):\n",
    "    self.name =  name\n",
    "    self.colour = color\n",
    "    self.num_of_petel = num_of_petel\n",
    "flower1 = Flower()\n",
    "flower1.name=\"Rose\"\n",
    "flower1.color=\"Red\"\n",
    "flower1.num_of_petal=6\n",
    "print(\"Name of this flower:\", flower1.name)\n",
    "print(\"Color of this flower:\",flower1.color)\n",
    "print(\"Number of petal:\",flower1.num_of_petal)\n",
    "print('=====================')\n",
    "flower2 = Flower()\n",
    "flower2.name=\"Orchid\"\n",
    "flower2.color=\"Purple\"\n",
    "flower2.num_of_petal=4\n",
    "print(\"Name of this flower:\",flower2.name)\n",
    "print(\"Color of this flower:\",flower2.color)\n",
    "print (\"Number of petal:\",flower2. num_of_petal)"
   ]
  },
  {
   "cell_type": "code",
   "execution_count": 3,
   "metadata": {},
   "outputs": [
    {
     "name": "stdout",
     "output_type": "stream",
     "text": [
      "Heath Ledger\n",
      "Mind Game\n",
      "False\n",
      "=====================\n",
      "Joaquin Phoenix\n",
      "Laughing out Loud\n",
      "True\n",
      "====================\n",
      "different\n",
      "same\n"
     ]
    }
   ],
   "source": [
    "#task-03\n",
    "class Joker:\n",
    "  def __init__(self,name,power,is_he_psycho):\n",
    "    self.name = name\n",
    "    self.power =  power\n",
    "    self.is_he_psycho = is_he_psycho\n",
    "\n",
    "j1 = Joker('Heath Ledger', 'Mind Game', False)\n",
    "print(j1.name)\n",
    "print(j1.power)\n",
    "print(j1.is_he_psycho)\n",
    "print('=====================')\n",
    "j2 = Joker('Joaquin Phoenix', 'Laughing out Loud', True)\n",
    "print(j2.name)\n",
    "print(j2.power)\n",
    "print(j2.is_he_psycho)\n",
    "print('====================')\n",
    "if j1 == j2:\n",
    "  print('same')\n",
    "else:\n",
    " print('different')\n",
    "j2.name = 'Heath Ledger'\n",
    "if j1.name == j2.name:\n",
    " print('same')\n",
    "else:\n",
    " print('different')"
   ]
  },
  {
   "cell_type": "code",
   "execution_count": 50,
   "metadata": {},
   "outputs": [
    {
     "name": "stdout",
     "output_type": "stream",
     "text": [
      "=======Team 1=======\n",
      "Pokemon 1: pikachu 90\n",
      "Pokemon 2: charmander 60\n",
      "Combined Power: 1500\n",
      "=======Team 2=======\n",
      "Pokemon 1: pikachu 90\n",
      "Pokemon 2: charmander 60\n",
      "Combined Power: 1350\n"
     ]
    }
   ],
   "source": [
    "#task-04\n",
    "class Pokemon:\n",
    "  def __init__(self,name1,name2,power1,power2,dr):\n",
    "    self.pokemon1_name = name1\n",
    "    self.pokemon2_name = name2\n",
    "    self.pokemon1_power = power1\n",
    "    self.pokemon2_power = power2\n",
    "    self.damage_rate = dr\n",
    "\n",
    "team_pika = Pokemon('pikachu', 'charmander', 90, 60, 10)\n",
    "print('=======Team 1=======')\n",
    "print('Pokemon 1:',team_pika.pokemon1_name,  team_pika.pokemon1_power)\n",
    "print('Pokemon 2:',team_pika.pokemon2_name,team_pika.pokemon2_power)\n",
    "\n",
    "pika_combined_power = (team_pika.pokemon1_power + team_pika.pokemon2_power) * team_pika.damage_rate\n",
    "print('Combined Power:', pika_combined_power)\n",
    "team_bulb = Pokemon('bulbasaur','squirtle',80, 70, 9)\n",
    "print('=======Team 2=======')\n",
    "print('Pokemon 1:',team_pika.pokemon1_name,  team_pika.pokemon1_power)\n",
    "print('Pokemon 2:',team_pika.pokemon2_name,team_pika.pokemon2_power)\n",
    "\n",
    "bulb_combined_power = (team_bulb.pokemon1_power + team_bulb.pokemon2_power) * team_bulb.damage_rate\n",
    "print('Combined Power:', bulb_combined_power)"
   ]
  },
  {
   "cell_type": "code",
   "execution_count": 5,
   "metadata": {},
   "outputs": [
    {
     "name": "stdout",
     "output_type": "stream",
     "text": [
      "Name of the Player: Ronaldo\n",
      "Jersey Number of player: 9\n",
      "Position of player: Striker\n",
      "==========================\n",
      "Name of the player: Neuer\n",
      "Jersey Number of player: 1\n",
      "Position of player: Goal Keeper\n"
     ]
    }
   ],
   "source": [
    "#task-05\n",
    "class Player:\n",
    "  def __init__(self,name = None,jersy_name = None,position = None):\n",
    "    self.name = name\n",
    "    self.jersy = jersy_name\n",
    "    self.position = position\n",
    "player1 = Player()\n",
    "player1.name = \"Ronaldo\"\n",
    "player1.jersy_number = 9\n",
    "player1.position = \"Striker\"\n",
    "print(\"Name of the Player:\", player1.name)\n",
    "print(\"Jersey Number of player:\", player1.jersy_number)\n",
    "print(\"Position of player:\", player1.position)\n",
    "print('==========================')\n",
    "player2 = Player()\n",
    "player2.name = \"Neuer\"\n",
    "player2.jersy_number = 1\n",
    "player2.position = \"Goal Keeper\"\n",
    "print(\"Name of the player:\", player2.name)\n",
    "print(\"Jersey Number of player:\", player2.jersy_number)\n",
    "print(\"Position of player:\", player2.position)"
   ]
  },
  {
   "cell_type": "code",
   "execution_count": 6,
   "metadata": {},
   "outputs": [
    {
     "name": "stdout",
     "output_type": "stream",
     "text": [
      "Name: Bangladesh\n",
      "Continent: Asia\n",
      "Capital: Dhaka\n",
      "Fifa Ranking: 187\n",
      "===================\n",
      "Name: Belgium\n",
      "Continent: Europe\n",
      "Capital: Brussels\n",
      "Fifa Ranking: 1\n"
     ]
    }
   ],
   "source": [
    "#task-06\n",
    "class Country:\n",
    "    def __init__(self,name = None,continent = None,capital = None,fifa_ranking = None):\n",
    "        self.name = 'Bangladesh'\n",
    "        self.continent = 'Asia'\n",
    "        self.capital = 'Dhaka'\n",
    "        self.fifa_ranking = 187\n",
    "country = Country()\n",
    "print('Name:',country.name)\n",
    "print('Continent:',country.continent)\n",
    "print('Capital:',country.capital)\n",
    "print('Fifa Ranking:',country.fifa_ranking)\n",
    "print('===================')\n",
    "country.name = \"Belgium\"\n",
    "country.continent = \"Europe\"\n",
    "country.capital = \"Brussels\"\n",
    "country.fifa_ranking = 1\n",
    "print('Name:',country.name)\n",
    "print('Continent:',country.continent)\n",
    "print('Capital:',country.capital)\n",
    "print('Fifa Ranking:',country.fifa_ranking)"
   ]
  },
  {
   "cell_type": "code",
   "execution_count": 1,
   "metadata": {},
   "outputs": [
    {
     "name": "stdout",
     "output_type": "stream",
     "text": [
      "Name: Tanjiro\n",
      "Fighting Style: Water Breathing\n",
      "Knows 10 technique(s) and has killed 10 demon(s)\n",
      "===================\n",
      "Name: Zenitsu\n",
      "Fighting Style: Thunder Breathing\n",
      "Knows 1 technique(s) and has killed 4 demon(s)\n",
      "===================\n",
      "Name: Inosuke\n",
      "Fighting Style: Beast Breathing\n",
      "Knows 5 technique(s) and has killed 7 demon(s)\n",
      "===================\n",
      "Tanjiro, Zenitsu, Inosuke knows total 16 techniques\n",
      "They have killed total 21 demons\n"
     ]
    }
   ],
   "source": [
    "#task-07\n",
    "class DemonSlayer:\n",
    "    def __init__(self,name,style,number_of_technique,kill):\n",
    "        self.name = name\n",
    "        self.style = style\n",
    "        self.number_of_technique  = number_of_technique\n",
    "        self.kill = kill\n",
    "\n",
    "tanjiro = DemonSlayer(\"Tanjiro\", \"Water Breathing\", 10, 10)\n",
    "print('Name:',tanjiro.name)\n",
    "print('Fighting Style:',tanjiro.style)\n",
    "print(f'Knows {tanjiro.number_of_technique} technique(s) and has killed {tanjiro.kill} demon(s)')\n",
    "print('===================')\n",
    "zenitsu = DemonSlayer(\"Zenitsu\", \"Thunder Breathing\", 1, 4)\n",
    "print('Name:',zenitsu.name)\n",
    "print('Fighting Style:',zenitsu.style)\n",
    "print(f'Knows {zenitsu.number_of_technique} technique(s) and has killed {zenitsu.kill} demon(s)')\n",
    "print('===================')\n",
    "inosuke = DemonSlayer(\"Inosuke\", \"Beast Breathing\", 5, 7)\n",
    "print('Name:',inosuke.name)\n",
    "print('Fighting Style:',inosuke.style)\n",
    "print(f'Knows {inosuke.number_of_technique} technique(s) and has killed {inosuke.kill} demon(s)')\n",
    "print('===================')\n",
    "print(f'{tanjiro.name}, {zenitsu.name}, {inosuke.name} knows total {tanjiro.number_of_technique + zenitsu.number_of_technique + inosuke.number_of_technique} techniques')\n",
    "print(f'They have killed total {tanjiro.kill + zenitsu.kill + inosuke.kill} demons')"
   ]
  },
  {
   "cell_type": "code",
   "execution_count": 7,
   "metadata": {},
   "outputs": [
    {
     "name": "stdout",
     "output_type": "stream",
     "text": [
      "Box 1\n",
      "=========================\n",
      "Height: 10\n",
      "Width: 10\n",
      "Breadth: 10\n",
      "-------------------------\n",
      "Box 2\n",
      "=========================\n",
      "Height: 30\n",
      "Width: 10\n",
      "Breadth: 10\n",
      "Updating Box 2!\n",
      "Height: 300\n",
      "Width: 10\n",
      "Breadth: 10\n",
      "-------------------------\n",
      "Box 3\n",
      "Height: 300\n",
      "Width: 10\n",
      "Breadth: 10\n"
     ]
    }
   ],
   "source": [
    "#task-08\n",
    "class box:\n",
    "    def __init__(self,l):\n",
    "        self.height = l[0]\n",
    "        self.width = l[1]\n",
    "        self.breadth = l[2]\n",
    "print(\"Box 1\")\n",
    "b1 = box([10,10,10])\n",
    "print(\"=========================\")\n",
    "print(\"Height:\", b1.height)\n",
    "print(\"Width:\", b1.width)\n",
    "print(\"Breadth:\", b1.breadth)\n",
    "print(\"-------------------------\")\n",
    "print(\"Box 2\")\n",
    "b2 = box((30,10,10))\n",
    "print(\"=========================\")\n",
    "print(\"Height:\", b2.height)\n",
    "print(\"Width:\", b2.width)\n",
    "print(\"Breadth:\", b2.breadth)\n",
    "b2.height = 300\n",
    "print(\"Updating Box 2!\")\n",
    "print(\"Height:\", b2.height)\n",
    "print(\"Width:\", b2.width)\n",
    "print(\"Breadth:\", b2.breadth)\n",
    "print(\"-------------------------\")\n",
    "print(\"Box 3\")\n",
    "b3 = b2\n",
    "print(\"Height:\", b3.height)\n",
    "print(\"Width:\", b3.width)\n",
    "print(\"Breadth:\", b3.breadth)"
   ]
  },
  {
   "cell_type": "code",
   "execution_count": 47,
   "metadata": {},
   "outputs": [
    {
     "name": "stdout",
     "output_type": "stream",
     "text": [
      "CANCEL Button Specifications:\n",
      "Button name: CANCEL\n",
      "Number of the border characters for the top and the bottom: 28\n",
      "Number of spaces between the left side border and the first character of the button name: 10\n",
      "Number of spaces between the right side border and the last character of the button name: 10\n",
      "Characters representing the borders: x\n",
      "xxxxxxxxxxxxxxxxxxxxxxxxxxxx\n",
      "x          CANCEL          x\n",
      "xxxxxxxxxxxxxxxxxxxxxxxxxxxx\n",
      "=======================================================\n",
      "Notify Button Specifications:\n",
      "Button name: Notify\n",
      "Number of the border characters for the top and the bottom: 14\n",
      "Number of spaces between the left side border and the first character of the button name: 3\n",
      "Number of spaces between the right side border and the last character of the button name: 3\n",
      "Characters representing the borders: !\n",
      "!!!!!!!!!!!!!!\n",
      "!   Notify   !\n",
      "!!!!!!!!!!!!!!\n",
      "=======================================================\n",
      "SAVE PROGRESS Button Specifications:\n",
      "Button name: SAVE PROGRESS\n",
      "Number of the border characters for the top and the bottom: 25\n",
      "Number of spaces between the left side border and the first character of the button name: 5\n",
      "Number of spaces between the right side border and the last character of the button name: 5\n",
      "Characters representing the borders: $\n",
      "$$$$$$$$$$$$$$$$$$$$$$$$$\n",
      "$     SAVE PROGRESS     $\n",
      "$$$$$$$$$$$$$$$$$$$$$$$$$\n"
     ]
    }
   ],
   "source": [
    "#09\n",
    "class buttons:\n",
    "    def __init__(self, word, spaces, border):\n",
    "        self.word = word\n",
    "        self.spaces = spaces\n",
    "        self.border  = border\n",
    "        self.top = (1+spaces+len(word)+spaces+1)*border\n",
    "        self.mid = border+(' '*spaces)+ word+(' '*spaces)+border\n",
    "        self.down = ((1+spaces+len(word)+spaces+1)*border)\n",
    "\n",
    "word = \"CANCEL\"\n",
    "spaces = 10\n",
    "border = 'x'\n",
    "b1 = buttons(word, spaces, border)\n",
    "print(b1.word,'Button Specifications:')\n",
    "print('Button name:',b1.word)\n",
    "print('Number of the border characters for the top and the bottom:',len(b1.top))\n",
    "print('Number of spaces between the left side border and the first character of the button name:',b1.spaces)\n",
    "print('Number of spaces between the right side border and the last character of the button name:',b1.spaces)\n",
    "print('Characters representing the borders:', b1.border)\n",
    "print(b1.top)\n",
    "print(b1.mid)\n",
    "print(b1.down)\n",
    "print(\"=======================================================\")\n",
    "b2 = buttons(\"Notify\",3, '!')\n",
    "print(b2.word,'Button Specifications:')\n",
    "print('Button name:',b2.word)\n",
    "print('Number of the border characters for the top and the bottom:',len(b2.top))\n",
    "print('Number of spaces between the left side border and the first character of the button name:',b2.spaces)\n",
    "print('Number of spaces between the right side border and the last character of the button name:',b2.spaces)\n",
    "print('Characters representing the borders:', b2.border)\n",
    "print(b2.top)\n",
    "print(b2.mid)\n",
    "print(b2.down)\n",
    "print(\"=======================================================\")\n",
    "b3 = buttons('SAVE PROGRESS', 5, '$')\n",
    "print(b3.word,'Button Specifications:')\n",
    "print('Button name:',b3.word)\n",
    "print('Number of the border characters for the top and the bottom:',len(b3.top))\n",
    "print('Number of spaces between the left side border and the first character of the button name:',b3.spaces)\n",
    "print('Number of spaces between the right side border and the last character of the button name:',b3.spaces)\n",
    "print('Characters representing the borders:', b3.border)\n",
    "print(b3.top)\n",
    "print(b3.mid)\n",
    "print(b3.down)"
   ]
  },
  {
   "cell_type": "code",
   "execution_count": 7,
   "metadata": {},
   "outputs": [
    {
     "name": "stdout",
     "output_type": "stream",
     "text": [
      "part 1:\n",
      "Name of President: Aladeen\n",
      "Designation: President Prime Minister Admiral General\n",
      "Number of wife: 100\n",
      "Is he/she a dictator: True\n",
      "part 2:\n",
      "Name of President: Donald Trump\n",
      "Designation: President\n",
      "Number of wife: 1\n",
      "Is he/she a dictator: False\n"
     ]
    }
   ],
   "source": [
    "#task-10\n",
    "class Wadiya():\n",
    "     def __init__(self):\n",
    "       self.name = 'Aladeen'\n",
    "       self.designation = 'President Prime Minister Admiral General'\n",
    "       self.num_of_wife = 100\n",
    "       self.dictator = True\n",
    "s1 = Wadiya()\n",
    "print('part 1:')\n",
    "print('Name of President:',s1.name)\n",
    "print('Designation:',s1.designation)\n",
    "print('Number of wife:',s1.num_of_wife)\n",
    "print('Is he/she a dictator:',s1.dictator)\n",
    "print('part 2:')\n",
    "s1.name = 'Donald Trump'\n",
    "s1.designation = 'President'\n",
    "s1.num_of_wife = 1\n",
    "s1.dictator = False\n",
    "print('Name of President:',s1.name)\n",
    "print('Designation:',s1.designation)\n",
    "print('Number of wife:',s1.num_of_wife)\n",
    "print('Is he/she a dictator:',s1.dictator)"
   ]
  },
  {
   "cell_type": "code",
   "execution_count": 22,
   "metadata": {},
   "outputs": [
    {
     "name": "stdout",
     "output_type": "stream",
     "text": [
      "21\n",
      "5.5\n",
      "2.5\n",
      "42\n",
      "42\n",
      "5.5\n",
      "84\n",
      "11.0\n",
      "168\n"
     ]
    }
   ],
   "source": [
    "#11\n",
    "class Human: \n",
    "    def __init__(self):\n",
    "      self.age = 0\n",
    "      self.height = 0.0\n",
    "\n",
    "h1 = Human()\n",
    "h2 = Human() \n",
    "h1.age = 21\n",
    "h1.height = 5.5\n",
    "print(h1.age)\n",
    "print(h1.height)\n",
    "h2.height = h1.height - 3\n",
    "print(h2.height)\n",
    "h2.age = h1.age\n",
    "h1.age += h1.age\n",
    "print(h1.age)\n",
    "h2 = h1\n",
    "print(h2.age)\n",
    "print(h2.height)\n",
    "h1.age += h1.age\n",
    "h2.height += h2.height\n",
    "print(h1.age)\n",
    "print(h1.height)\n",
    "h2.age += h2.age\n",
    "h1.age = h2.age\n",
    "print(h2.age)"
   ]
  },
  {
   "cell_type": "code",
   "execution_count": 23,
   "metadata": {},
   "outputs": [
    {
     "name": "stdout",
     "output_type": "stream",
     "text": [
      "New Student\n",
      "Student Two\n",
      "New Student\n",
      "2.3\n",
      "3.3\n",
      "2.3\n",
      "New Student\n",
      "Student Two\n",
      "Student Two\n",
      "2.3\n",
      "3.3\n",
      "3.3\n",
      "old student\n",
      "oldest student\n",
      "oldest student\n",
      "2.3\n",
      "3.5\n",
      "3.5\n"
     ]
    }
   ],
   "source": [
    "#12\n",
    "class Student:\n",
    "    def __init__(self):\n",
    "       self.name = None\n",
    "       self.cgpa = 0.0\n",
    "s1 = Student()\n",
    "s2 = Student()\n",
    "s3 = None\n",
    "s1.name = \"Student One\"\n",
    "s1.cgpa = 2.3\n",
    "s3=s1\n",
    "s2.name = 'Student Two'\n",
    "s2.cgpa =s3.cgpa+1\n",
    "s3.name = 'New Student'\n",
    "print(s1.name)\n",
    "print(s2.name)\n",
    "print(s3.name)\n",
    "print(s1.cgpa)\n",
    "print(s2.cgpa)\n",
    "print(s3.cgpa)\n",
    "s3=s2\n",
    "s1.name\n",
    "s2.name\n",
    "s3.name\n",
    "s2.cgpa\n",
    "print(s1.name)\n",
    "print(s2.name)\n",
    "print(s3.name)\n",
    "print(s1.cgpa)\n",
    "print(s2.cgpa)\n",
    "print(s3.cgpa)\n",
    "s3 = s2\n",
    "s1.name = 'old student'\n",
    "s2.name = 'older student'\n",
    "s3.name = 'oldest student'\n",
    "s2.cgpa = s1.cgpa - s3.cgpa + 4.5\n",
    "print(s1.name)\n",
    "print(s2.name)\n",
    "print(s3.name)\n",
    "print(s1.cgpa)\n",
    "print(s2.cgpa)\n",
    "print(s3.cgpa)"
   ]
  },
  {
   "cell_type": "code",
   "execution_count": 1,
   "metadata": {},
   "outputs": [
    {
     "name": "stdout",
     "output_type": "stream",
     "text": [
      "1\n",
      "95.0\n",
      "93.0\n",
      "2\n",
      "2\n",
      "93.0\n",
      "1\n",
      "96.0\n",
      "1\n",
      "93.0\n"
     ]
    }
   ],
   "source": [
    "#task-13\n",
    "class Ninja:\n",
    " def __init__(self):\n",
    "     self.rank = 0\n",
    "     self.stamina = 0.0\n",
    "naruto = Ninja()\n",
    "yellow_flash = Ninja()\n",
    "naruto.rank = 1\n",
    "naruto.stamina = 95.0\n",
    "print(naruto.rank)\n",
    "print(naruto.stamina)\n",
    "yellow_flash.stamina = naruto.stamina - 2\n",
    "print(yellow_flash.stamina)\n",
    "yellow_flash.rank += (naruto.rank + 1)\n",
    "print(yellow_flash.rank)\n",
    "minato = yellow_flash\n",
    "print(minato.rank)\n",
    "print(minato.stamina)\n",
    "naruto.rank = minato.rank - 1\n",
    "naruto.stamina = yellow_flash.stamina + 3\n",
    "print(naruto.rank)\n",
    "print(naruto.stamina)\n",
    "naruto.rank = -(-naruto.rank)\n",
    "yellow_flash.stamina = -(-minato.stamina)\n",
    "print(naruto.rank)\n",
    "print(minato.stamina)"
   ]
  }
 ],
 "metadata": {
  "kernelspec": {
   "display_name": "Python 3",
   "language": "python",
   "name": "python3"
  },
  "language_info": {
   "codemirror_mode": {
    "name": "ipython",
    "version": 3
   },
   "file_extension": ".py",
   "mimetype": "text/x-python",
   "name": "python",
   "nbconvert_exporter": "python",
   "pygments_lexer": "ipython3",
   "version": "3.10.4"
  },
  "orig_nbformat": 4,
  "vscode": {
   "interpreter": {
    "hash": "7e1998ff7f8aa20ada591c520b972326324e5ea05489af9e422744c7c09f6dad"
   }
  }
 },
 "nbformat": 4,
 "nbformat_minor": 2
}
