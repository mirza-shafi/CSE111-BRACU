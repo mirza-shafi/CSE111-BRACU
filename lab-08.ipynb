{
 "cells": [
  {
   "cell_type": "code",
   "execution_count": 10,
   "metadata": {},
   "outputs": [
    {
     "name": "stdout",
     "output_type": "stream",
     "text": [
      "ReaLPart:1.0\n",
      "ImaginaryPart:1.0\n",
      "----------\n",
      "ReaLPart:5.0\n",
      "ImaginaryPart:7.0\n"
     ]
    }
   ],
   "source": [
    "#task-01\n",
    "class RealNumber:\n",
    "    def __init__(self,r=0):\n",
    "        self.__realvalue= r\n",
    "    def getRealvalue(self):\n",
    "        return self.__realvalue\n",
    "    def setRealvalue(self,r):\n",
    "        self.__realvalue=r\n",
    "    def __str__(self):\n",
    "        return \"RealPart:\"+str(self.getRealvalue())\n",
    "class ComplexNumber(RealNumber):\n",
    "    def __init__(self,r=1,i=1):\n",
    "        super().__init__(r)\n",
    "        self.imaginary_value=i\n",
    "    def __str__(self):\n",
    "        return f\"ReaLPart:{str(float(self.getRealvalue()))}\\nImaginaryPart:{str(float(self.imaginary_value))}\"\n",
    "cn1=ComplexNumber()\n",
    "print(cn1)\n",
    "print(\"----------\")\n",
    "cn2=ComplexNumber(5,7)\n",
    "print(cn2)"
   ]
  },
  {
   "cell_type": "code",
   "execution_count": 16,
   "metadata": {},
   "outputs": [
    {
     "name": "stdout",
     "output_type": "stream",
     "text": [
      "8\n",
      "2 + 1i\n",
      "3 + 5i\n",
      "5 + 6i\n",
      "-1-4i\n"
     ]
    }
   ],
   "source": [
    "#task-02\n",
    "class RealNumber:\n",
    "    def __init__(self, number=0):\n",
    "        self.number = number\n",
    "\n",
    "    def __add__(self, anotherRealNumber):\n",
    "        return self.number + anotherRealNumber.number\n",
    "\n",
    "    def __sub__(self, anotherRealNumber):\n",
    "        return self.number - anotherRealNumber.number\n",
    "\n",
    "    def __str__(self):\n",
    "        return str(self.number)\n",
    "class ConplexNumber(RealNumber):\n",
    "    def __init__(self,real,im):\n",
    "        if isinstance(real, int):\n",
    "            super().__init__(real)\n",
    "            self.im = im\n",
    "        else:\n",
    "            super().__init__(real.number)\n",
    "            self.ima = im\n",
    "    def __add__(self,other):\n",
    "        real_number = self.number + other.number\n",
    "        ima = self.im + other.im\n",
    "        return ComplexNumber(real_number,ima)\n",
    "    def __sub__(self,other):\n",
    "        real_number = self.number - other.number\n",
    "        ima = self.im - other.im\n",
    "        return ComplexNumber(real_number,ima)\n",
    "    def __str__(self):\n",
    "        if self.im < 0:\n",
    "            return f\"{str(self.number) + str(self.im)}i\"\n",
    "        else:\n",
    "            return f\"{self.number} + {self.im}i\"\n",
    "r1 = RealNumber(3)\n",
    "r2 = RealNumber(5)\n",
    "print(r1 + r2)\n",
    "cn1 = ComplexNumber(2, 1)\n",
    "print(cn1)\n",
    "cn2 = ComplexNumber(r1, 5)\n",
    "print(cn2)\n",
    "cn3 = cn1 + cn2\n",
    "print(cn3)\n",
    "cn4 = cn1 - cn2\n",
    "print(cn4)"
   ]
  },
  {
   "cell_type": "code",
   "execution_count": 20,
   "metadata": {},
   "outputs": [
    {
     "name": "stdout",
     "output_type": "stream",
     "text": [
      "Number of Checking Accounts:  0\n",
      "Account: 0.0\n",
      "Account: 100.0\n",
      "Account: 200.0\n",
      "Number of Checking Accounts:  3\n"
     ]
    }
   ],
   "source": [
    "#task-03\n",
    "class Account:\n",
    "    def __init__(self, balance):\n",
    "        self._balance = balance\n",
    "\n",
    "    def getBalance(self):\n",
    "        return self._balance\n",
    "class CheckingAccount(Account):\n",
    "    numberOfAccount = 0\n",
    "    def __init__(self,balance = 0):\n",
    "        super().__init__(balance)\n",
    "        CheckingAccount.numberOfAccount +=1\n",
    "    def __str__(self):\n",
    "        return f\"Account: {float(self._balance)}\"\n",
    "print(\"Number of Checking Accounts: \", CheckingAccount.numberOfAccount)\n",
    "print(CheckingAccount())\n",
    "print(CheckingAccount(100.00))\n",
    "print(CheckingAccount(200.00))\n",
    "print(\"Number of Checking Accounts: \", CheckingAccount.numberOfAccount)"
   ]
  },
  {
   "cell_type": "code",
   "execution_count": 25,
   "metadata": {},
   "outputs": [
    {
     "name": "stdout",
     "output_type": "stream",
     "text": [
      "----Printing Detail----\n",
      "Do not eat the Mango .\n",
      "Mangos are bad for you\n",
      "----Printing Detail----\n",
      "Eat the Jackfruit .\n",
      "Jackfruits are good for you.\n"
     ]
    }
   ],
   "source": [
    "#task-04\n",
    "class Fruit:\n",
    "    def __init__(self, formalin=False, name=\"\"):\n",
    "        self.__formalin = formalin\n",
    "        self.name = name\n",
    "    def getName(self):\n",
    "        return self.name\n",
    "    def hasFormalin(self):\n",
    "        return self.__formalin\n",
    "class testFruit:\n",
    "    def test(self, f):\n",
    "        print(\"----Printing Detail----\")\n",
    "        if f.hasFormalin():\n",
    "            print(\"Do not eat the\", f.getName(), \".\")\n",
    "            print(f)\n",
    "        else:\n",
    "            print(\"Eat the\", f.getName(), \".\")\n",
    "            print(f)\n",
    "class Mango(Fruit,testFruit):\n",
    "    def __init__(self,formalin = True,name = 'Mango'):\n",
    "        super().__init__(formalin,name)\n",
    "    def __str__(self):\n",
    "        if self.hasFormalin():\n",
    "            return f\"{self.getName()}s are bad for you\"\n",
    "        else:\n",
    "            return f\"{str(self.getName())}s are good for you\"\n",
    "class Jackfruit(Fruit,testFruit):\n",
    "    def __init__(self,formalin = False,name = 'Jackfruit'):\n",
    "        super().__init__(formalin,name)\n",
    "    def __str__(self):\n",
    "        if self.hasFormalin():\n",
    "            return f\"{self.getName()}s are bad for you.\"\n",
    "        else:\n",
    "            return f\"{self.getName()}s are good for you.\"\n",
    "m = Mango()\n",
    "j = Jackfruit()\n",
    "t1 = testFruit()\n",
    "t1.test(m)\n",
    "t1.test(j)"
   ]
  },
  {
   "cell_type": "code",
   "execution_count": 5,
   "metadata": {},
   "outputs": [
    {
     "name": "stdout",
     "output_type": "stream",
     "text": [
      "Marks: 100 Time: 90 Number of Parts: 4\n",
      "----------------------------------\n",
      "Maths , English , Physics , HigherMaths\n",
      "Part 1 - Maths\n",
      "Part 2 - English\n",
      "part 3 - Physics\n",
      "part 4 - HigherMaths\n",
      "\n",
      "==================================\n",
      "Marks: 100 Time: 120 Number of Parts: 5\n",
      "----------------------------------\n",
      "Maths , English , Physics , HigherMaths , Drawing\n",
      "Part 1 - Maths\n",
      "Part 2 - English\n",
      "part 3 - Physics\n",
      "part 4 - HigherMaths\n",
      "part 5 - Drawing\n",
      "\n"
     ]
    }
   ],
   "source": [
    "#task-05\n",
    "#Problem 05\n",
    "\n",
    "\n",
    "class Exam:\n",
    "    def __init__(self, marks):\n",
    "        self.marks = marks\n",
    "        self.time = 60\n",
    "    def examSyllabus(self):\n",
    "        return \"Maths , English\"\n",
    "    def examParts(self):\n",
    "        return \"Part 1 - Maths\\nPart 2 - English\\n\"\n",
    "class ScienceExam(Exam):\n",
    "    counter = 0\n",
    "    def __init__(self,marks,time,*course):\n",
    "        super().__init__(marks)\n",
    "        self.time = time\n",
    "        self.course = course\n",
    "    def examSyllabus(self):\n",
    "        course = super().examSyllabus()\n",
    "        for i in self.course:\n",
    "            course+= ' , '+ i\n",
    "        return course\n",
    "    def examParts(self):\n",
    "        course = super().examParts()\n",
    "        counter = 3\n",
    "        for i in self.course:\n",
    "            course += f\"part {str(counter)} - {i}\\n\"\n",
    "            counter += 1\n",
    "        return course\n",
    "    def __str__(self):\n",
    "        return f\"Marks: {str(self.marks)} Time: {str(self.time)} Number of Parts: {str(len(self.course)+2)}\"\n",
    "\n",
    "engineering = ScienceExam(100, 90, \"Physics\", \"HigherMaths\")\n",
    "print(engineering)\n",
    "print(\"----------------------------------\")\n",
    "print(engineering.examSyllabus())\n",
    "print(engineering.examParts())\n",
    "print(\"==================================\")\n",
    "architecture = ScienceExam(100, 120, \"Physics\", \"HigherMaths\", \"Drawing\")\n",
    "print(architecture)\n",
    "print(\"----------------------------------\")\n",
    "print(architecture.examSyllabus())\n",
    "print(architecture.examParts())"
   ]
  },
  {
   "cell_type": "code",
   "execution_count": 18,
   "metadata": {},
   "outputs": [
    {
     "name": "stdout",
     "output_type": "stream",
     "text": [
      "Shape name: Sphere Area Formula: 4 * pi * r * r\n",
      "----------------------------------\n",
      "Radius: 5 , Height: No need \n",
      "Area: 314.159\n",
      "==================================\n",
      "Shape name: Cylinder Area Formula: 4 * pi * r * r\n",
      "----------------------------------\n",
      "Radius: 5 , Height: 10 \n",
      "Area: 314.159\n"
     ]
    }
   ],
   "source": [
    "\n",
    "#task-6\n",
    "\n",
    "class Shape3D:\n",
    "    pi = 3.14159\n",
    "    def __init__(self, name = 'Default', radius = 0):\n",
    "        self._area = 0\n",
    "        self._name = name\n",
    "        self._height = 'No need'\n",
    "        self._radius = radius \n",
    "    def calc_surface_area(self):\n",
    "        return 2 * Shape3D.pi * self._radius\n",
    "    def __str__(self):\n",
    "        return \"Radius: \"+str(self._radius)\n",
    "class Sphere(Shape3D):\n",
    "    def __init__(self,name,radius):\n",
    "        super().__init__(name,radius)\n",
    "        print(\"Shape name: {} Area Formula: 4 * pi * r * r\".format(self._name))\n",
    "    def calc_surface_area(self):\n",
    "        self._area = 4 * Shape3D.pi * self._radius**2\n",
    "        return self._area\n",
    "    def __str__(self):\n",
    "        return f\"{super().__str__()} , Height: {self._height} \\nArea: {self._area}\"\n",
    "class Cylinder(Shape3D):\n",
    "    def __init__(self,name,radius,hegiht):\n",
    "        super().__init__(name,radius)\n",
    "        self._height = hegiht\n",
    "        print(\"Shape name: {} Area Formula: 4 * pi * r * r\".format(self._name))\n",
    "    def calc_surface_area(self):\n",
    "        self._area = 2 * super().calc_surface_area() * self._radius\n",
    "        return self._area\n",
    "    def __str__(self):\n",
    "        return f\"{super().__str__()} , Height: {self._height} \\nArea: {self._area}\"\n",
    "sph = Sphere('Sphere', 5)\n",
    "print('----------------------------------')\n",
    "sph.calc_surface_area()\n",
    "print(sph)\n",
    "print('==================================')\n",
    "cyl = Cylinder('Cylinder', 5, 10)\n",
    "print('----------------------------------')\n",
    "cyl.calc_surface_area()\n",
    "print(cyl)"
   ]
  },
  {
   "cell_type": "code",
   "execution_count": 21,
   "metadata": {},
   "outputs": [
    {
     "name": "stdout",
     "output_type": "stream",
     "text": [
      "\n",
      "------------Basic Info:--------------\n",
      "Name: Default, HP: 0, Weakness: None\n",
      "Main type: Unknown\n",
      "Basic move: Quick Attack\n",
      "\n",
      "------------Pokemon 1 Info:-------------\n",
      "Name: Charmander, HP: 39, Weakness: Water\n",
      "Main type: Fire\n",
      "Basic move: Quick Attack\n",
      "\n",
      "------------Pokemon 2 Info:-------------\n",
      "Name: Charizard, HP: 78, Weakness: Water\n",
      "Main type: Fire, Secondary type: Flying\n",
      "Basic move: Quick Attack \n",
      "Other move: Fire Spin,Fire Blaze\n"
     ]
    }
   ],
   "source": [
    "#task-07\n",
    "class PokemonBasic:\n",
    "    def __init__(self, name = 'Default', hp = 0, weakness = 'None', type = 'Unknown'):\n",
    "        self.name = name\n",
    "        self.hit_point = hp\n",
    "        self.weakness = weakness\n",
    "        self.type = type\n",
    "    def get_type(self):\n",
    "        return 'Main type: ' + self.type\n",
    "    def get_move(self):\n",
    "        return 'Basic move: ' + 'Quick Attack'\n",
    "    def __str__(self):\n",
    "        return \"Name: \" + self.name + \", HP: \" + str(self.hit_point) + \", Weakness: \" + self.weakness\n",
    "class PokemonExtra(PokemonBasic):\n",
    "    def __init__(self,name,hit_point,weakness,mtpye,stype = None,move = None):\n",
    "        super().__init__(name,hit_point,weakness,mtpye)\n",
    "        self.secondtype = stype\n",
    "        self.move = move\n",
    "    def get_type(self):\n",
    "        if self.secondtype == None:\n",
    "            return super().get_type()\n",
    "        else:\n",
    "            return f\"{super().get_type()}, Secondary type: {self.secondtype}\"\n",
    "    def get_move(self):\n",
    "        if self.move == None:\n",
    "            return super().get_move()\n",
    "        else:\n",
    "            self.move_l = []\n",
    "            for i in self.move:\n",
    "                self.move_l.append(i)\n",
    "            return f\"{super().get_move()} \\nOther move: {self.move_l[0]},{self.move_l[1]}\"            \n",
    "        \n",
    "print('\\n------------Basic Info:--------------')\n",
    "pk = PokemonBasic()\n",
    "print(pk)\n",
    "print(pk.get_type())\n",
    "print(pk.get_move())\n",
    "print('\\n------------Pokemon 1 Info:-------------')\n",
    "charmander = PokemonExtra('Charmander', 39, 'Water', 'Fire')\n",
    "print(charmander)\n",
    "print(charmander.get_type())\n",
    "print(charmander.get_move())\n",
    "print('\\n------------Pokemon 2 Info:-------------')\n",
    "charizard = PokemonExtra('Charizard', 78, 'Water', 'Fire', 'Flying', ('Fire Spin', 'Fire Blaze'))\n",
    "print(charizard)\n",
    "print(charizard.get_type())\n",
    "print(charizard.get_move())"
   ]
  },
  {
   "cell_type": "code",
   "execution_count": 33,
   "metadata": {},
   "outputs": [
    {
     "name": "stdout",
     "output_type": "stream",
     "text": [
      "=========================\n",
      "Total Player: 11\n",
      "Our name is Brazil\n",
      "We  play Football\n",
      "We love sports\n",
      "=========================\n",
      "Total Player: 11\n",
      "Our name is Bangladesh\n",
      "We play cricket\n",
      "We love sports\n"
     ]
    }
   ],
   "source": [
    "#task-8\n",
    "\n",
    "class Team:\n",
    "    def __init__(self, name):\n",
    "        self.name = \"default\"\n",
    "        self.total_player = 5\n",
    "    def info(self):\n",
    "        print(\"We love sports\")\n",
    "class FootBallTeam(Team):\n",
    "    def __init__(self, name = \"default\"):\n",
    "        self.name = name\n",
    "        self.total_player = 11\n",
    "    def info(self):\n",
    "        print(\"Our name is {}\".format(self.name))\n",
    "        if self.name == \"Brazil\":\n",
    "            print(\"We  play Football\")\n",
    "        else:\n",
    "            pass\n",
    "        super().info()\n",
    "class CricketTeam(Team):\n",
    "    def __init__ (self,name):\n",
    "        #super().__init__(name)\n",
    "        self.name = name\n",
    "        self.total_player = 11\n",
    "    def info(self):\n",
    "        print(f\"Our name is {self.name}\")\n",
    "        if self.name == 'Bangladesh':\n",
    "            print('We play cricket')\n",
    "        else:\n",
    "            pass\n",
    "        return super().info()\n",
    "class Team_test:\n",
    "    def check(self, tm):\n",
    "        print(\"=========================\")\n",
    "        print(\"Total Player:\", tm.total_player)\n",
    "        tm.info()\n",
    "f = FootBallTeam(\"Brazil\")\n",
    "c = CricketTeam(\"Bangladesh\")\n",
    "test = Team_test()\n",
    "test.check(f)\n",
    "test.check(c)"
   ]
  },
  {
   "cell_type": "code",
   "execution_count": 45,
   "metadata": {},
   "outputs": [
    {
     "name": "stdout",
     "output_type": "stream",
     "text": [
      "Pokemon: Pikachu\n",
      "Type: Type: Electric\n",
      "Weakness: Weakness: Ground\n",
      "I am a Pokemon.\n",
      "I am Pikachu.\n",
      "========================\n",
      "Pokemon: Pikachu\n",
      "Type: Type: fire\n",
      "Weakness: Weakness: water,Ground and Rock\n",
      "I am a Pokemon.\n",
      "I am Pikachu.\n"
     ]
    }
   ],
   "source": [
    "#task-09\n",
    "#task-9\n",
    "\n",
    "class Pokemon:\n",
    "    def __init__(self, p):\n",
    "        self.pokemon = p\n",
    "        self.pokemon_type = \"Needs to be set\"\n",
    "        self.pokemon_weakness = \"Needs to be set\"\n",
    "    def kind(self):\n",
    "        return self.pokemon_type \n",
    "    def weakness(self):\n",
    "        return self.pokemon_weakness\n",
    "    def what_am_i(self):\n",
    "        print(\"I am a Pokemon.\")\n",
    "class Pikachu(Pokemon):\n",
    "    def __init__(self,type = 'Electric',w = 'Ground'):\n",
    "        self.pokemon_type = type\n",
    "        self.pokemon_weakness = w\n",
    "        self.pokemon = 'Pikachu'\n",
    "    def kind(self):\n",
    "        return f\"Type: {super().kind()}\"\n",
    "    def weakness(self):\n",
    "        return f\"Weakness: {self.pokemon_weakness}\"\n",
    "    def what_am_i(self):\n",
    "        super().what_am_i()\n",
    "        print(\"I am {}.\".format(self.pokemon))\n",
    "class Charmander(Pokemon):\n",
    "    def __init__(self,type = 'fire',w = 'water,Ground and Rock'):\n",
    "        self.pokemon_type = type\n",
    "        self.pokemon_weakness = w\n",
    "        self.pokemon = 'Pikachu'\n",
    "    def kind(self):\n",
    "        return f\"Type: {super().kind()}\"\n",
    "    def weakness(self):\n",
    "        return f\"Weakness: {self.pokemon_weakness}\"\n",
    "    def what_am_i(self):\n",
    "        super().what_am_i()\n",
    "        print(\"I am {}.\".format(self.pokemon))     \n",
    "    \n",
    "pk1 = Pikachu()\n",
    "print(\"Pokemon:\", pk1.pokemon)\n",
    "print(\"Type:\", pk1.kind())\n",
    "print(\"Weakness:\", pk1.weakness())\n",
    "pk1.what_am_i()\n",
    "print(\"========================\")\n",
    "c1 = Charmander()\n",
    "print(\"Pokemon:\", c1.pokemon)\n",
    "print(\"Type:\", c1.kind())\n",
    "print(\"Weakness:\", c1.weakness())\n",
    "c1.what_am_i()"
   ]
  },
  {
   "cell_type": "code",
   "execution_count": 47,
   "metadata": {},
   "outputs": [
    {
     "name": "stdout",
     "output_type": "stream",
     "text": [
      "Name: Rahim\n",
      "ID: 16101328\n",
      "Courses Approved to this CSE student in Spring2016 semester:\n",
      "CSE110\n",
      "MAT110\n",
      "ENG101\n",
      "==================\n",
      "Name: Tanzim\n",
      "ID: 18101326\n",
      "Courses Approved to this CSE student in Spring2018 semester:\n",
      "Mat110\n",
      "PHY111\n",
      "ENG101\n",
      "==================\n",
      "Name: Rudana\n",
      "ID: 18101326\n",
      "Courses Approved to this CSE student in Fall2017 semester:\n",
      "CSE111\n",
      "PHY101\n",
      "MAT120\n",
      "==================\n",
      "Name: Zainab\n",
      "ID: 19201623\n",
      "Courses Approved to this CSE student in Summer2019 semester:\n",
      "EEE201\n",
      "PHY112\n",
      "MAT120\n"
     ]
    }
   ],
   "source": [
    "#task -10\n",
    "\n",
    "class Department:\n",
    "    def __init__(self, s):\n",
    "        self.semester = s\n",
    "        self.name = \"Default\"\n",
    "        self.id = -1\n",
    "    def student_info(self):\n",
    "        print(\"Name:\", self.name)\n",
    "        print(\"ID:\", self.id)\n",
    "    def courses(self, c1, c2, c3):\n",
    "        print(\"No courses Approved yet!\")\n",
    "class CSE(Department):\n",
    "    def __init__(self,name,id,semester):\n",
    "        super().__init__(semester)\n",
    "        self.name = name\n",
    "        self.id = id\n",
    "    def courses(self,*c):\n",
    "        print(\"Courses Approved to this CSE student in {} semester:\".format(self.semester))\n",
    "        for k in c:\n",
    "            print(k)\n",
    "class EEE(Department):\n",
    "    def __init__(self,name,id,semester):\n",
    "        super().__init__(semester)\n",
    "        self.name = name\n",
    "        self.id = id\n",
    "    def courses(self,*c):\n",
    "        print(\"Courses Approved to this CSE student in {} semester:\".format(self.semester))\n",
    "        for k in c:\n",
    "            print(k)\n",
    "s1 = CSE(\"Rahim\", 16101328,\"Spring2016\")\n",
    "s1.student_info()\n",
    "s1.courses(\"CSE110\", \"MAT110\", \"ENG101\")\n",
    "print(\"==================\")\n",
    "s2 = EEE(\"Tanzim\", 18101326, \"Spring2018\")\n",
    "s2.student_info()\n",
    "s2.courses(\"Mat110\", \"PHY111\", \"ENG101\")\n",
    "print(\"==================\")\n",
    "s3 = CSE(\"Rudana\", 18101326, \"Fall2017\")\n",
    "s3.student_info()\n",
    "s3.courses(\"CSE111\", \"PHY101\", \"MAT120\")\n",
    "print(\"==================\")\n",
    "s4 = EEE(\"Zainab\", 19201623, \"Summer2019\")\n",
    "s4.student_info()\n",
    "s4.courses(\"EEE201\", \"PHY112\", \"MAT120\")"
   ]
  },
  {
   "cell_type": "code",
   "execution_count": 73,
   "metadata": {},
   "outputs": [
    {
     "name": "stdout",
     "output_type": "stream",
     "text": [
      "1.==========\n",
      "2.===========\n"
     ]
    },
    {
     "ename": "TypeError",
     "evalue": "__str__ returned non-string (type NoneType)",
     "output_type": "error",
     "traceback": [
      "\u001b[0;31m---------------------------------------------------------------------------\u001b[0m",
      "\u001b[0;31mTypeError\u001b[0m                                 Traceback (most recent call last)",
      "\u001b[1;32m/Users/mirzashafi/Shafi's project/python/versity/CSE111/lab-08.ipynb Cell 11\u001b[0m in \u001b[0;36m<cell line: 35>\u001b[0;34m()\u001b[0m\n\u001b[1;32m     <a href='vscode-notebook-cell:/Users/mirzashafi/Shafi%27s%20project/python/versity/CSE111/lab-08.ipynb#X20sZmlsZQ%3D%3D?line=32'>33</a>\u001b[0m p1\u001b[39m.\u001b[39maddStudentWithCreditsCompleted(\u001b[39m'\u001b[39m\u001b[39mbob\u001b[39m\u001b[39m'\u001b[39m,\u001b[39m12\u001b[39m,\u001b[39m'\u001b[39m\u001b[39mcarol\u001b[39m\u001b[39m'\u001b[39m,\u001b[39m18\u001b[39m,\u001b[39m'\u001b[39m\u001b[39mmike\u001b[39m\u001b[39m'\u001b[39m,\u001b[39m15\u001b[39m)\n\u001b[1;32m     <a href='vscode-notebook-cell:/Users/mirzashafi/Shafi%27s%20project/python/versity/CSE111/lab-08.ipynb#X20sZmlsZQ%3D%3D?line=33'>34</a>\u001b[0m \u001b[39mprint\u001b[39m(\u001b[39m'\u001b[39m\u001b[39m2.===========\u001b[39m\u001b[39m'\u001b[39m)\n\u001b[0;32m---> <a href='vscode-notebook-cell:/Users/mirzashafi/Shafi%27s%20project/python/versity/CSE111/lab-08.ipynb#X20sZmlsZQ%3D%3D?line=34'>35</a>\u001b[0m \u001b[39mprint\u001b[39;49m(p1)\n\u001b[1;32m     <a href='vscode-notebook-cell:/Users/mirzashafi/Shafi%27s%20project/python/versity/CSE111/lab-08.ipynb#X20sZmlsZQ%3D%3D?line=35'>36</a>\u001b[0m \u001b[39mprint\u001b[39m(\u001b[39m'\u001b[39m\u001b[39m3.==========\u001b[39m\u001b[39m'\u001b[39m)\n\u001b[1;32m     <a href='vscode-notebook-cell:/Users/mirzashafi/Shafi%27s%20project/python/versity/CSE111/lab-08.ipynb#X20sZmlsZQ%3D%3D?line=36'>37</a>\u001b[0m p1\u001b[39m.\u001b[39maddStudentWithCredtisRemainig(\u001b[39m'\u001b[39m\u001b[39mDavid\u001b[39m\u001b[39m'\u001b[39m,\u001b[39m12\u001b[39m,\u001b[39m'\u001b[39m\u001b[39msiam\u001b[39m\u001b[39m'\u001b[39m,\u001b[39m18\u001b[39m)\n",
      "\u001b[0;31mTypeError\u001b[0m: __str__ returned non-string (type NoneType)"
     ]
    }
   ],
   "source": [
    "#quiz\n",
    "class Program:\n",
    "    def __init__(self,name,credit):\n",
    "        self.name = name\n",
    "        self.credit = credit\n",
    "    def __str__(self):\n",
    "        s = 'Program:'+self.name+',credit hours: '+str(self.credit)\n",
    "        return s\n",
    "class CSEProgram(Program):\n",
    "    def __init__(self,name,credit):\n",
    "        super().__init__(name,credit)\n",
    "        self.dict_r = {}\n",
    "    def addStudentWithCreditsCompleted(self,*info):\n",
    "        self.dict = {}\n",
    "        for i in range(0,len(info),2):\n",
    "            self.dict_r.update({info[i]:info[i+1]})\n",
    "            self.name = info[i]\n",
    "            self.credit  = info[i+1]\n",
    "    def __str__(self):\n",
    "        for k,v in self.dict.items():\n",
    "           return f\"Name: {k},credit remaining:{v}\"        \n",
    "    def addStudentWithCredtisRemainig(self,*info):\n",
    "        self.dict = {}\n",
    "        for i in range(0,len(info),2):\n",
    "            self.dict.update({info[i]:info[i+1]})\n",
    "            self.name  = info[i]\n",
    "            self.credit = 136-info[i+1]\n",
    "    def __str__(self):\n",
    "        for k,v in self.dict.items():\n",
    "           return f\"Name: {k},credit remaining:{v}\"        \n",
    "p1 = CSEProgram('CSE',136)\n",
    "print('1.==========')\n",
    "p1.addStudentWithCreditsCompleted('bob',12,'carol',18,'mike',15)\n",
    "print('2.===========')\n",
    "print(p1)\n",
    "print('3.==========')\n",
    "p1.addStudentWithCredtisRemainig('David',12,'siam',18)\n",
    "print('4.......')\n",
    "print(p1)"
   ]
  },
  {
   "cell_type": "code",
   "execution_count": 59,
   "metadata": {},
   "outputs": [
    {
     "name": "stdout",
     "output_type": "stream",
     "text": [
      "1.==========\n",
      "0\n",
      "2\n",
      "4\n",
      "['bob', 'carol', 'mike']\n",
      "[12, 18, 15]\n",
      "{'bob': 12, 'carol': 18, 'mike': 15}\n"
     ]
    }
   ],
   "source": [
    "class CSEProgram(Program):\n",
    "    def __init__(self,name,credit):\n",
    "        self.name = name\n",
    "        self.credit = credit\n",
    "    def addStudentWithCreditsCompleted(self,*info):\n",
    "        self.name_list = []\n",
    "        self.credit_lsit = []\n",
    "        self.dict = {}\n",
    "        for i in range(0,len(info),2):\n",
    "            self.name_list.append(info[i])\n",
    "            self.credit_lsit.append(info[i+1])\n",
    "            self.dict.update({info[i]:info[i+1]})\n",
    "            print(i)\n",
    "        print(self.name_list)\n",
    "        print(self.credit_lsit)\n",
    "        print(self.dict)\n",
    "p1 = CSEProgram('CSE',136)\n",
    "print('1.==========')\n",
    "p1.addStudentWithCreditsCompleted('bob',12,'carol',18,'mike',15)"
   ]
  },
  {
   "cell_type": "code",
   "execution_count": 63,
   "metadata": {},
   "outputs": [
    {
     "name": "stdout",
     "output_type": "stream",
     "text": [
      "['bob', 'carol', 'mike']\n",
      "[12, 18, 15]\n",
      "{'bob': 12, 'carol': 18, 'mike': 15}\n",
      "name:bob, mark: 12\n",
      "name:carol, mark: 18\n",
      "name:mike, mark: 15\n"
     ]
    }
   ],
   "source": [
    "x=('bob',12,'carol',18,'mike',15)\n",
    "names=[]\n",
    "mark=[]\n",
    "for i in x:\n",
    "    if type(i)==str:\n",
    "        names.append(i)\n",
    "    else:\n",
    "        if type(i)==int:\n",
    "            mark.append(i)\n",
    "print(names)\n",
    "print(mark)\n",
    "dic ={k:v for k,v in zip(names,mark)}\n",
    "print(dic)\n",
    "for k,v in dic.items():\n",
    "    print(f\"name:{k}, mark: {v}\")\n",
    "#name: bob ,mark: 12"
   ]
  },
  {
   "cell_type": "code",
   "execution_count": 69,
   "metadata": {},
   "outputs": [
    {
     "name": "stdout",
     "output_type": "stream",
     "text": [
      "{'bob': 12, 'carol': 18, 'mike': 15}\n",
      "name: bob mark:12\n",
      "name: carol mark:18\n",
      "name: mike mark:15\n"
     ]
    }
   ],
   "source": [
    "x=('bob',12,'carol',18,'mike',15)\n",
    "dict = {}\n",
    "for i in range(0,len(x),2):\n",
    "    dict.update({x[i]:x[i+1]})\n",
    "\n",
    "print(dict)\n",
    "for k,v in dict.items():\n",
    "    print(f\"name: {k} mark:{v}\")"
   ]
  },
  {
   "cell_type": "code",
   "execution_count": 1,
   "metadata": {},
   "outputs": [
    {
     "name": "stdout",
     "output_type": "stream",
     "text": [
      "{'a': 23}\n"
     ]
    }
   ],
   "source": [
    "dic = {}\n",
    "dic['a'] = 23\n",
    "print(dic)"
   ]
  },
  {
   "cell_type": "code",
   "execution_count": 2,
   "metadata": {},
   "outputs": [
    {
     "name": "stdout",
     "output_type": "stream",
     "text": [
      "{'dha': 243}\n"
     ]
    }
   ],
   "source": [
    "dic  = {}\n",
    "dic.update({'dha':243})\n",
    "print(dic)"
   ]
  },
  {
   "cell_type": "code",
   "execution_count": 3,
   "metadata": {},
   "outputs": [
    {
     "name": "stdout",
     "output_type": "stream",
     "text": [
      "{'h', 'e', 'o', 'l'}\n"
     ]
    }
   ],
   "source": [
    "s = set('hello')\n",
    "print(s)"
   ]
  },
  {
   "cell_type": "code",
   "execution_count": 5,
   "metadata": {},
   "outputs": [
    {
     "name": "stdout",
     "output_type": "stream",
     "text": [
      "{1, 3, 4, 5, 6}\n",
      "<class 'set'>\n"
     ]
    }
   ],
   "source": [
    "s = set([1,3,4,5,6])\n",
    "print(s)\n",
    "print(type(s))"
   ]
  },
  {
   "cell_type": "code",
   "execution_count": 7,
   "metadata": {},
   "outputs": [
    {
     "name": "stdout",
     "output_type": "stream",
     "text": [
      "{1, 2, 3, 4, 5}\n",
      "<class 'set'>\n"
     ]
    }
   ],
   "source": [
    "s = {1,2,3,4,5}\n",
    "print(s)\n",
    "print(type(s))"
   ]
  },
  {
   "cell_type": "code",
   "execution_count": null,
   "metadata": {},
   "outputs": [],
   "source": []
  }
 ],
 "metadata": {
  "kernelspec": {
   "display_name": "Python 3",
   "language": "python",
   "name": "python3"
  },
  "language_info": {
   "codemirror_mode": {
    "name": "ipython",
    "version": 3
   },
   "file_extension": ".py",
   "mimetype": "text/x-python",
   "name": "python",
   "nbconvert_exporter": "python",
   "pygments_lexer": "ipython3",
   "version": "3.10.4 (v3.10.4:9d38120e33, Mar 23 2022, 17:29:05) [Clang 13.0.0 (clang-1300.0.29.30)]"
  },
  "orig_nbformat": 4,
  "vscode": {
   "interpreter": {
    "hash": "7e1998ff7f8aa20ada591c520b972326324e5ea05489af9e422744c7c09f6dad"
   }
  }
 },
 "nbformat": 4,
 "nbformat_minor": 2
}
