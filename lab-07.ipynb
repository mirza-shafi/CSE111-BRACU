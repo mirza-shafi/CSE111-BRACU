{
 "cells": [
  {
   "cell_type": "code",
   "execution_count": 4,
   "metadata": {},
   "outputs": [
    {
     "name": "stdout",
     "output_type": "stream",
     "text": [
      "Name: default Department: BBA\n",
      "Name: Humpty Dumpty Department: BBA\n",
      "Name: Little Bo Peep Department: BBA\n"
     ]
    }
   ],
   "source": [
    "#task-01\n",
    "class Student: \n",
    "    def __init__(self, name='Just a student', dept='nothing'): \n",
    "        self.__name = name \n",
    "        self.__department = dept \n",
    "    def set_department(self, dept): \n",
    "        self.__department = dept \n",
    "    def get_name(self): \n",
    "        return self.__name \n",
    "    def set_name(self,name): \n",
    "        self.__name = name \n",
    "    def __str__(self): \n",
    "        return 'Name: '+self.__name+' Department: '+self.__department\n",
    "class BBA_Student(Student):\n",
    "    def __init__(self,name = 'default'):\n",
    "        super().__init__(name,'BBA')\n",
    "\n",
    "print(BBA_Student())\n",
    "print(BBA_Student('Humpty Dumpty'))\n",
    "print(BBA_Student('Little Bo Peep'))"
   ]
  },
  {
   "cell_type": "code",
   "execution_count": 5,
   "metadata": {},
   "outputs": [
    {
     "name": "stdout",
     "output_type": "stream",
     "text": [
      "Part 1\n",
      "------\n",
      "(0 , 0)\n",
      "(0 , 1)\n",
      "(-1 , 1)\n",
      "(-1 , 0)\n",
      "(0 , 0)\n",
      "------\n",
      "Part 2\n",
      "------\n",
      "(0 , 0)\n",
      "(-1 , -1)\n",
      "False\n",
      "True\n"
     ]
    }
   ],
   "source": [
    "#Task 2\n",
    "\n",
    "class Vehicle: \n",
    "    def __init__(self): \n",
    "        self.x = 0 \n",
    "        self.y = 0 \n",
    "    def moveUp(self): \n",
    "        self.y+=1 \n",
    "    def moveDown(self): \n",
    "        self.y-=1 \n",
    "    def moveRight(self): \n",
    "        self.x+=1 \n",
    "    def moveLeft(self): \n",
    "        self.x-=1 \n",
    "    def __str__(self): \n",
    "        return '('+str(self.x)+' , '+str(self.y)+')'\n",
    "class Vehicle2010(Vehicle):\n",
    "    def moveLowerLeft(self):\n",
    "        super().moveDown()\n",
    "        super().moveLeft()\n",
    "\n",
    "    def moveUpperLeft(self):\n",
    "        super().moveUp()\n",
    "        super().moveLeft()\n",
    "\n",
    "    def moveLowerRight(self):\n",
    "        super().moveDown()\n",
    "        super().moveRight()\n",
    "\n",
    "    def moveUpperRight(self):\n",
    "        super().moveUp()\n",
    "        super().moveRight()\n",
    "\n",
    "    def equals(self,obj):\n",
    "        if self.x == obj.x and self.y == obj.y:\n",
    "            return True\n",
    "        else:\n",
    "            return False\n",
    "print('Part 1') \n",
    "print('------') \n",
    "car = Vehicle() \n",
    "print(car) \n",
    "car.moveUp() \n",
    "print(car) \n",
    "car.moveLeft() \n",
    "print(car) \n",
    "car.moveDown() \n",
    "print(car) \n",
    "car.moveRight() \n",
    "print(car) \n",
    "print('------') \n",
    "print('Part 2') \n",
    "print('------') \n",
    "car1 = Vehicle2010() \n",
    "print(car1) \n",
    "car1.moveLowerLeft() \n",
    "print(car1) \n",
    "car2 = Vehicle2010() \n",
    "car2.moveLeft() \n",
    "print(car1.equals(car2)) \n",
    "car2.moveDown() \n",
    "print(car1.equals(car2))"
   ]
  },
  {
   "cell_type": "code",
   "execution_count": 12,
   "metadata": {},
   "outputs": [
    {
     "name": "stdout",
     "output_type": "stream",
     "text": [
      "name: Default \n",
      "nuber of team: 0 \n",
      "type: No type\n",
      "-----------------------\n",
      "name: IPL \n",
      "nuber of team: 10 \n",
      "type: t20\n",
      "-----------------------\n",
      "Tennis Tournament Name: Roland Garros\n",
      "Number of Players: 128\n"
     ]
    }
   ],
   "source": [
    "#Task 3\n",
    "\n",
    "class Tournament: \n",
    "    def __init__(self,name='Default'): \n",
    "        self.__name = name \n",
    "    def set_name(self,name): \n",
    "        self.__name = name \n",
    "    def get_name(self): \n",
    "        return self.__name\n",
    "\n",
    "class Cricket_Tournament(Tournament):\n",
    "    def __init__(self,name='Default',team=0,type='No type'):\n",
    "        super().__init__(name)\n",
    "        self.team = team\n",
    "        self.type = type\n",
    "\n",
    "    def detail(self):\n",
    "        return f\"name: {super().get_name()} \\nnuber of team: {self.team} \\ntype: {self.type}\"\n",
    "\n",
    "class Tennis_Tournament(Tournament):\n",
    "    def __init__(self,name = 'Default',players = 0):\n",
    "        super().__init__(name)\n",
    "        self.players = players\n",
    "\n",
    "    def detail(self):\n",
    "        return f'Tennis Tournament Name: {super().get_name()}\\nNumber of Players: {self.players}'\n",
    "\n",
    "ct1 = Cricket_Tournament() \n",
    "print(ct1.detail()) \n",
    "print(\"-----------------------\") \n",
    "ct2 = Cricket_Tournament(\"IPL\",10,\"t20\") \n",
    "print(ct2.detail()) \n",
    "print(\"-----------------------\") \n",
    "tt = Tennis_Tournament(\"Roland Garros\",128) \n",
    "print(tt.detail())"
   ]
  },
  {
   "cell_type": "code",
   "execution_count": 19,
   "metadata": {},
   "outputs": [
    {
     "name": "stdout",
     "output_type": "stream",
     "text": [
      "ID: 1 Title: The Alchemist Price: 500 \n",
      "isbn:97806 publisher: HarperCollins\n",
      "-----------------------\n",
      "ID: 2 Title: Shotto Price: 300 \n",
      "band: Warfaze time: 50 \n",
      "genre: Hard Rock\n"
     ]
    }
   ],
   "source": [
    "#Task 4\n",
    "\n",
    "class Product: \n",
    "    def __init__(self,id, title, price): \n",
    "        self.__id = id \n",
    "        self. __title = title \n",
    "        self. __price = price \n",
    "    def get_id_title_price(self): \n",
    "        return \"ID: \"+str(self.__id)+\" Title: \"+self.__title+\" Price: \"+str(self.__price)\n",
    "\n",
    "class Book(Product):\n",
    "    def __init__(self,id,title,price,isbn,pub):\n",
    "        super().__init__(id,title,price)\n",
    "        self.isbn = isbn\n",
    "        self.pub = pub\n",
    "    def printDetail(self):\n",
    "        return f\"{super().get_id_title_price()} \\nisbn:{self.isbn} publisher: {self.pub}\"\n",
    "class CD(Product):\n",
    "    def __init__(self,id,title,price,band,time,genre):\n",
    "        super().__init__(id,title,price)\n",
    "        self.band = band\n",
    "        self.time= time\n",
    "        self.genre = genre\n",
    "    def printDetail(self):\n",
    "        return f\"{super().get_id_title_price()} \\nband: {self.band} time: {self.time} \\ngenre: {self.genre}\"\n",
    "        \n",
    "\n",
    "book = Book(1,\"The Alchemist\",500,\"97806\",\"HarperCollins\") \n",
    "print(book.printDetail()) \n",
    "print(\"-----------------------\") \n",
    "cd = CD(2,\"Shotto\",300,\"Warfaze\",50,\"Hard Rock\") \n",
    "print(cd.printDetail())"
   ]
  },
  {
   "cell_type": "code",
   "execution_count": 20,
   "metadata": {},
   "outputs": [
    {
     "name": "stdout",
     "output_type": "stream",
     "text": [
      "Animal does not make sound\n",
      "meow\n",
      "bark\n"
     ]
    }
   ],
   "source": [
    "#task-05\n",
    "class Animal:    \n",
    "    def __init__(self,sound): \n",
    "        self.__sound = sound \n",
    "         \n",
    "    def makeSound(self): \n",
    "        return self.__sound \n",
    "         \n",
    "class Printer:    \n",
    "    def printSound(self, a): \n",
    "        print(a.makeSound())\n",
    "\n",
    "class Dog(Animal):\n",
    "    def __init__(self,sound):\n",
    "        super().__init__(sound)\n",
    "    def printSound(self):\n",
    "        print(super().makesound())\n",
    "class Cat(Animal):\n",
    "    def __init__(self,sound):\n",
    "        super().__init__(sound)\n",
    "    def printSound(self):\n",
    "        print(super().makeSound())\n",
    "\n",
    "d1 = Dog('bark') \n",
    "c1 = Cat('meow') \n",
    "a1 = Animal('Animal does not make sound') \n",
    "pr = Printer() \n",
    "pr.printSound(a1) \n",
    "pr.printSound(c1) \n",
    "pr.printSound(d1)"
   ]
  },
  {
   "cell_type": "code",
   "execution_count": 26,
   "metadata": {},
   "outputs": [
    {
     "name": "stdout",
     "output_type": "stream",
     "text": [
      "Shape name: Default \n",
      "Height: 0, Base: 0 \n",
      "Area: 0.0\n",
      "--------------------------\n",
      "Shape name: Triangle \n",
      "Height: 10, Base: 5 \n",
      "Area: 25.0\n",
      "---------------------------\n",
      "Shape name: Trapezoid \n",
      "Height: 10, Base: 6 \n",
      "Area: 50.0\n"
     ]
    }
   ],
   "source": [
    "#Task 6\n",
    "\n",
    "class Shape: \n",
    "    def __init__(self, name='Default', height=0, base=0): \n",
    "        self.area = 0 \n",
    "        self.name = name \n",
    "        self.height = height \n",
    "        self.base = base \n",
    "    \n",
    "    def get_height_base(self): \n",
    "        return \"Height: \"+str(self.height)+\", Base: \"+str(self.base) \n",
    "class triangle(Shape):\n",
    "    def calcArea(self):\n",
    "        self.area = 0.5*self.base*self.height\n",
    "    def printDetail(self):\n",
    "        return f\"Shape name: {self.name} \\n{super().get_height_base()} \\nArea: {self.area}\"\n",
    "class trapezoid(Shape):\n",
    "    def __init__(self,name,height,base,side):\n",
    "        super().__init__(name,height,base)\n",
    "        self.side = side\n",
    "    def calcArea(self):\n",
    "        self.area = 0.5*(self.base+self.side)*self.height\n",
    "    def printDetail(self):\n",
    "        return f\"Shape name: {self.name} \\n{super().get_height_base()} \\nArea: {self.area}\"\n",
    "\n",
    "tri_default = triangle() \n",
    "tri_default.calcArea() \n",
    "print(tri_default.printDetail()) \n",
    "print('--------------------------') \n",
    "tri = triangle('Triangle', 10, 5) \n",
    "tri.calcArea() \n",
    "print(tri.printDetail()) \n",
    "print('---------------------------') \n",
    "trap = trapezoid('Trapezoid', 10, 6, 4) \n",
    "trap.calcArea() \n",
    "print(trap.printDetail())"
   ]
  },
  {
   "cell_type": "code",
   "execution_count": 32,
   "metadata": {},
   "outputs": [
    {
     "name": "stdout",
     "output_type": "stream",
     "text": [
      "Name: Ronaldo, Team Name: Juventus \n",
      "Total Goal: 25,Total Played: 32 \n",
      "Goal ratio: 1.28 \n",
      "Match earning: 25320K\n",
      "------------------------------------------\n",
      "Name: Zidane, Team Name: Real Madrid \n",
      "Total win: 25 \n",
      "Match earning: 25000K\n"
     ]
    }
   ],
   "source": [
    "#task-07\n",
    "class SportsPerson:\n",
    "  def __init__(self, team_name, name, role):\n",
    "    self.__team = team_name\n",
    "    self.__name = name\n",
    "    self.role = role\n",
    "    self.earning_per_match = 0\n",
    "  def get_name_team(self):\n",
    "    return 'Name: '+self.__name+', Team Name: ' +self.__team\n",
    "#write your code here\n",
    "class Player(SportsPerson):\n",
    "    def __init__(self,team_name,name,role,goal,match):\n",
    "        super().__init__(team_name,name,role)\n",
    "        self.goal = goal\n",
    "        self.match = match\n",
    "    def calculate_ratio(self):\n",
    "      self.earning_per_match = self.goal*1000 + self.match*10\n",
    "      self.goal_ratio = self.match /self.goal\n",
    "    def print_details(self):\n",
    "      print(f\"{super().get_name_team()} \\nTotal Goal: {self.goal},Total Played: {self.match} \\nGoal ratio: {self.goal_ratio} \\nMatch earning: {self.earning_per_match}K\")\n",
    "class Manager(SportsPerson):\n",
    "  def __init__(self,tname,name,role,match):\n",
    "    super().__init__(tname,name,role)\n",
    "    self.win = match\n",
    "    self.earning_per_match  = self.win*1000\n",
    "  def print_details(self):\n",
    "    print(f\"{super().get_name_team()} \\nTotal win: {self.win} \\nMatch earning: {self.earning_per_match}K\")\n",
    "    \n",
    "player_one = Player('Juventus', 'Ronaldo', 'Striker', 25, 32)\n",
    "player_one.calculate_ratio()\n",
    "player_one.print_details()\n",
    "print('------------------------------------------')\n",
    "manager_one = Manager('Real Madrid', 'Zidane', 'Manager', 25)\n",
    "manager_one.print_details()"
   ]
  },
  {
   "cell_type": "code",
   "execution_count": null,
   "metadata": {},
   "outputs": [],
   "source": []
  }
 ],
 "metadata": {
  "kernelspec": {
   "display_name": "Python 3",
   "language": "python",
   "name": "python3"
  },
  "language_info": {
   "codemirror_mode": {
    "name": "ipython",
    "version": 3
   },
   "file_extension": ".py",
   "mimetype": "text/x-python",
   "name": "python",
   "nbconvert_exporter": "python",
   "pygments_lexer": "ipython3",
   "version": "3.11.0 (v3.11.0:deaf509e8f, Oct 24 2022, 14:43:23) [Clang 13.0.0 (clang-1300.0.29.30)]"
  },
  "orig_nbformat": 4,
  "vscode": {
   "interpreter": {
    "hash": "aee8b7b246df8f9039afb4144a1f6fd8d2ca17a180786b69acc140d282b71a49"
   }
  }
 },
 "nbformat": 4,
 "nbformat_minor": 2
}
